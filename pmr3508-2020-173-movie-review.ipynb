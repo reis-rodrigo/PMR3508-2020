{
 "cells": [
  {
   "cell_type": "markdown",
   "metadata": {
    "papermill": {
     "duration": 0.098853,
     "end_time": "2020-11-25T10:04:47.475884",
     "exception": false,
     "start_time": "2020-11-25T10:04:47.377031",
     "status": "completed"
    },
    "tags": []
   },
   "source": [
    "# PMR3508 - Aprendizado de Máquina e Reconhecimento de Padrões"
   ]
  },
  {
   "cell_type": "markdown",
   "metadata": {
    "papermill": {
     "duration": 0.097837,
     "end_time": "2020-11-25T10:04:47.672471",
     "exception": false,
     "start_time": "2020-11-25T10:04:47.574634",
     "status": "completed"
    },
    "tags": []
   },
   "source": [
    "## EP3: Análise de Sentimentos com RNA's e Doc2Vec na base \"Large Movie Review\""
   ]
  },
  {
   "cell_type": "markdown",
   "metadata": {
    "papermill": {
     "duration": 0.095969,
     "end_time": "2020-11-25T10:04:47.867196",
     "exception": false,
     "start_time": "2020-11-25T10:04:47.771227",
     "status": "completed"
    },
    "tags": []
   },
   "source": [
    "## Autor: Rodrigo Gebara Reis, Hash 173"
   ]
  },
  {
   "cell_type": "markdown",
   "metadata": {
    "papermill": {
     "duration": 0.100948,
     "end_time": "2020-11-25T10:04:48.067776",
     "exception": false,
     "start_time": "2020-11-25T10:04:47.966828",
     "status": "completed"
    },
    "tags": []
   },
   "source": [
    "Nesse EP, o objetivo é compreender o uso de modelos como Doc2Vec para criar uma Rede Neural Artificial para analisar o sentimento (positivo ou negativo) de opiniões sobre filmes. Essas opiniões foram retiradas do IMDb, um dos maiores repositórios de críticas de filmes e séries do mundo. Além disso, serão exploradas diferenças de performance entre as RNA's criadas com sklearn e TensorFlow, além de outros modelos alternativos."
   ]
  },
  {
   "cell_type": "markdown",
   "metadata": {
    "papermill": {
     "duration": 0.125458,
     "end_time": "2020-11-25T10:04:48.297600",
     "exception": false,
     "start_time": "2020-11-25T10:04:48.172142",
     "status": "completed"
    },
    "tags": []
   },
   "source": [
    "# 1. Configuração:"
   ]
  },
  {
   "cell_type": "markdown",
   "metadata": {
    "papermill": {
     "duration": 0.102635,
     "end_time": "2020-11-25T10:04:48.515388",
     "exception": false,
     "start_time": "2020-11-25T10:04:48.412753",
     "status": "completed"
    },
    "tags": []
   },
   "source": [
    "## 1.1 Instalação de pacotes:"
   ]
  },
  {
   "cell_type": "markdown",
   "metadata": {
    "papermill": {
     "duration": 0.100347,
     "end_time": "2020-11-25T10:04:48.713083",
     "exception": false,
     "start_time": "2020-11-25T10:04:48.612736",
     "status": "completed"
    },
    "tags": []
   },
   "source": [
    "Inicialmente, devemos instalar dois pacotes que serão muito usados no decorrer do notebook: $\\textit{ftfy}$ (Fixes Text For You), que corrige alguns erros de transcrição do Unicode; e $\\textit{gensim}$, importante em trabalhos relacionados a Natural Language Processing. Finalmente, vamos instalar também $\\textit{tensorflow}$ e $\\textit{keras}$, responsáveis por algumas redes neurais."
   ]
  },
  {
   "cell_type": "code",
   "execution_count": 1,
   "metadata": {
    "execution": {
     "iopub.execute_input": "2020-11-25T10:04:48.918861Z",
     "iopub.status.busy": "2020-11-25T10:04:48.917608Z",
     "iopub.status.idle": "2020-11-25T10:05:27.661962Z",
     "shell.execute_reply": "2020-11-25T10:05:27.662648Z"
    },
    "papermill": {
     "duration": 38.851983,
     "end_time": "2020-11-25T10:05:27.662888",
     "exception": false,
     "start_time": "2020-11-25T10:04:48.810905",
     "status": "completed"
    },
    "tags": []
   },
   "outputs": [
    {
     "name": "stdout",
     "output_type": "stream",
     "text": [
      "Collecting ftfy\r\n",
      "  Downloading ftfy-5.8.tar.gz (64 kB)\r\n",
      "\u001b[K     |████████████████████████████████| 64 kB 597 kB/s \r\n",
      "\u001b[?25hRequirement already satisfied: wcwidth in /opt/conda/lib/python3.7/site-packages (from ftfy) (0.1.9)\r\n",
      "Building wheels for collected packages: ftfy\r\n",
      "  Building wheel for ftfy (setup.py) ... \u001b[?25l-\b \b\\\b \bdone\r\n",
      "\u001b[?25h  Created wheel for ftfy: filename=ftfy-5.8-py3-none-any.whl size=45612 sha256=b0ba44d9d5e7a6e255bb6b51d3148a7c1472fbc9f66b57c84d4015559fe9b8dc\r\n",
      "  Stored in directory: /root/.cache/pip/wheels/49/1c/fc/8b19700f939810cd8fd9495ae34934b246279791288eda1c31\r\n",
      "Successfully built ftfy\r\n",
      "Installing collected packages: ftfy\r\n",
      "Successfully installed ftfy-5.8\r\n",
      "Requirement already satisfied: gensim in /opt/conda/lib/python3.7/site-packages (3.8.3)\r\n",
      "Requirement already satisfied: six>=1.5.0 in /opt/conda/lib/python3.7/site-packages (from gensim) (1.14.0)\r\n",
      "Requirement already satisfied: smart-open>=1.8.1 in /opt/conda/lib/python3.7/site-packages (from gensim) (3.0.0)\r\n",
      "Requirement already satisfied: numpy>=1.11.3 in /opt/conda/lib/python3.7/site-packages (from gensim) (1.18.5)\r\n",
      "Requirement already satisfied: scipy>=0.18.1 in /opt/conda/lib/python3.7/site-packages (from gensim) (1.4.1)\r\n",
      "Requirement already satisfied: requests in /opt/conda/lib/python3.7/site-packages (from smart-open>=1.8.1->gensim) (2.23.0)\r\n",
      "Requirement already satisfied: certifi>=2017.4.17 in /opt/conda/lib/python3.7/site-packages (from requests->smart-open>=1.8.1->gensim) (2020.11.8)\r\n",
      "Requirement already satisfied: chardet<4,>=3.0.2 in /opt/conda/lib/python3.7/site-packages (from requests->smart-open>=1.8.1->gensim) (3.0.4)\r\n",
      "Requirement already satisfied: idna<3,>=2.5 in /opt/conda/lib/python3.7/site-packages (from requests->smart-open>=1.8.1->gensim) (2.9)\r\n",
      "Requirement already satisfied: urllib3!=1.25.0,!=1.25.1,<1.26,>=1.21.1 in /opt/conda/lib/python3.7/site-packages (from requests->smart-open>=1.8.1->gensim) (1.25.9)\r\n",
      "Requirement already satisfied: tensorflow in /opt/conda/lib/python3.7/site-packages (2.3.1)\r\n",
      "Requirement already satisfied: tensorboard<3,>=2.3.0 in /opt/conda/lib/python3.7/site-packages (from tensorflow) (2.4.0)\r\n",
      "Requirement already satisfied: wheel>=0.26 in /opt/conda/lib/python3.7/site-packages (from tensorflow) (0.34.2)\r\n",
      "Requirement already satisfied: astunparse==1.6.3 in /opt/conda/lib/python3.7/site-packages (from tensorflow) (1.6.3)\r\n",
      "Requirement already satisfied: tensorflow-estimator<2.4.0,>=2.3.0 in /opt/conda/lib/python3.7/site-packages (from tensorflow) (2.3.0)\r\n",
      "Requirement already satisfied: six>=1.12.0 in /opt/conda/lib/python3.7/site-packages (from tensorflow) (1.14.0)\r\n",
      "Requirement already satisfied: grpcio>=1.8.6 in /opt/conda/lib/python3.7/site-packages (from tensorflow) (1.33.2)\r\n",
      "Requirement already satisfied: keras-preprocessing<1.2,>=1.1.1 in /opt/conda/lib/python3.7/site-packages (from tensorflow) (1.1.2)\r\n",
      "Requirement already satisfied: google-pasta>=0.1.8 in /opt/conda/lib/python3.7/site-packages (from tensorflow) (0.2.0)\r\n",
      "Requirement already satisfied: termcolor>=1.1.0 in /opt/conda/lib/python3.7/site-packages (from tensorflow) (1.1.0)\r\n",
      "Requirement already satisfied: gast==0.3.3 in /opt/conda/lib/python3.7/site-packages (from tensorflow) (0.3.3)\r\n",
      "Requirement already satisfied: h5py<2.11.0,>=2.10.0 in /opt/conda/lib/python3.7/site-packages (from tensorflow) (2.10.0)\r\n",
      "Requirement already satisfied: numpy<1.19.0,>=1.16.0 in /opt/conda/lib/python3.7/site-packages (from tensorflow) (1.18.5)\r\n",
      "Requirement already satisfied: protobuf>=3.9.2 in /opt/conda/lib/python3.7/site-packages (from tensorflow) (3.14.0)\r\n",
      "Requirement already satisfied: wrapt>=1.11.1 in /opt/conda/lib/python3.7/site-packages (from tensorflow) (1.11.2)\r\n",
      "Requirement already satisfied: opt-einsum>=2.3.2 in /opt/conda/lib/python3.7/site-packages (from tensorflow) (3.3.0)\r\n",
      "Requirement already satisfied: absl-py>=0.7.0 in /opt/conda/lib/python3.7/site-packages (from tensorflow) (0.11.0)\r\n",
      "Requirement already satisfied: tensorboard-plugin-wit>=1.6.0 in /opt/conda/lib/python3.7/site-packages (from tensorboard<3,>=2.3.0->tensorflow) (1.7.0)\r\n",
      "Requirement already satisfied: markdown>=2.6.8 in /opt/conda/lib/python3.7/site-packages (from tensorboard<3,>=2.3.0->tensorflow) (3.2.1)\r\n",
      "Requirement already satisfied: google-auth-oauthlib<0.5,>=0.4.1 in /opt/conda/lib/python3.7/site-packages (from tensorboard<3,>=2.3.0->tensorflow) (0.4.1)\r\n",
      "Requirement already satisfied: setuptools>=41.0.0 in /opt/conda/lib/python3.7/site-packages (from tensorboard<3,>=2.3.0->tensorflow) (46.1.3.post20200325)\r\n",
      "Requirement already satisfied: werkzeug>=0.11.15 in /opt/conda/lib/python3.7/site-packages (from tensorboard<3,>=2.3.0->tensorflow) (1.0.1)\r\n",
      "Requirement already satisfied: requests<3,>=2.21.0 in /opt/conda/lib/python3.7/site-packages (from tensorboard<3,>=2.3.0->tensorflow) (2.23.0)\r\n",
      "Requirement already satisfied: google-auth<2,>=1.6.3 in /opt/conda/lib/python3.7/site-packages (from tensorboard<3,>=2.3.0->tensorflow) (1.14.0)\r\n",
      "Requirement already satisfied: requests-oauthlib>=0.7.0 in /opt/conda/lib/python3.7/site-packages (from google-auth-oauthlib<0.5,>=0.4.1->tensorboard<3,>=2.3.0->tensorflow) (1.2.0)\r\n",
      "Requirement already satisfied: chardet<4,>=3.0.2 in /opt/conda/lib/python3.7/site-packages (from requests<3,>=2.21.0->tensorboard<3,>=2.3.0->tensorflow) (3.0.4)\r\n",
      "Requirement already satisfied: certifi>=2017.4.17 in /opt/conda/lib/python3.7/site-packages (from requests<3,>=2.21.0->tensorboard<3,>=2.3.0->tensorflow) (2020.11.8)\r\n",
      "Requirement already satisfied: idna<3,>=2.5 in /opt/conda/lib/python3.7/site-packages (from requests<3,>=2.21.0->tensorboard<3,>=2.3.0->tensorflow) (2.9)\r\n",
      "Requirement already satisfied: urllib3!=1.25.0,!=1.25.1,<1.26,>=1.21.1 in /opt/conda/lib/python3.7/site-packages (from requests<3,>=2.21.0->tensorboard<3,>=2.3.0->tensorflow) (1.25.9)\r\n",
      "Requirement already satisfied: pyasn1-modules>=0.2.1 in /opt/conda/lib/python3.7/site-packages (from google-auth<2,>=1.6.3->tensorboard<3,>=2.3.0->tensorflow) (0.2.7)\r\n",
      "Requirement already satisfied: rsa<4.1,>=3.1.4 in /opt/conda/lib/python3.7/site-packages (from google-auth<2,>=1.6.3->tensorboard<3,>=2.3.0->tensorflow) (4.0)\r\n",
      "Requirement already satisfied: cachetools<5.0,>=2.0.0 in /opt/conda/lib/python3.7/site-packages (from google-auth<2,>=1.6.3->tensorboard<3,>=2.3.0->tensorflow) (3.1.1)\r\n",
      "Requirement already satisfied: oauthlib>=3.0.0 in /opt/conda/lib/python3.7/site-packages (from requests-oauthlib>=0.7.0->google-auth-oauthlib<0.5,>=0.4.1->tensorboard<3,>=2.3.0->tensorflow) (3.0.1)\r\n",
      "Requirement already satisfied: pyasn1<0.5.0,>=0.4.6 in /opt/conda/lib/python3.7/site-packages (from pyasn1-modules>=0.2.1->google-auth<2,>=1.6.3->tensorboard<3,>=2.3.0->tensorflow) (0.4.8)\r\n",
      "Requirement already satisfied: keras in /opt/conda/lib/python3.7/site-packages (2.4.3)\r\n",
      "Requirement already satisfied: pyyaml in /opt/conda/lib/python3.7/site-packages (from keras) (5.3.1)\r\n",
      "Requirement already satisfied: h5py in /opt/conda/lib/python3.7/site-packages (from keras) (2.10.0)\r\n",
      "Requirement already satisfied: numpy>=1.9.1 in /opt/conda/lib/python3.7/site-packages (from keras) (1.18.5)\r\n",
      "Requirement already satisfied: scipy>=0.14 in /opt/conda/lib/python3.7/site-packages (from keras) (1.4.1)\r\n",
      "Requirement already satisfied: six in /opt/conda/lib/python3.7/site-packages (from h5py->keras) (1.14.0)\r\n"
     ]
    }
   ],
   "source": [
    "!pip3 install ftfy\n",
    "!pip3 install gensim\n",
    "!pip3 install tensorflow\n",
    "!pip3 install keras"
   ]
  },
  {
   "cell_type": "markdown",
   "metadata": {
    "papermill": {
     "duration": 0.108908,
     "end_time": "2020-11-25T10:05:27.885814",
     "exception": false,
     "start_time": "2020-11-25T10:05:27.776906",
     "status": "completed"
    },
    "tags": []
   },
   "source": [
    "Agora, vamos importar as bibliotecas pertinentes, que serão usadas no decorrer do notebook:"
   ]
  },
  {
   "cell_type": "code",
   "execution_count": 2,
   "metadata": {
    "execution": {
     "iopub.execute_input": "2020-11-25T10:05:28.117911Z",
     "iopub.status.busy": "2020-11-25T10:05:28.117040Z",
     "iopub.status.idle": "2020-11-25T10:05:36.358804Z",
     "shell.execute_reply": "2020-11-25T10:05:36.358146Z"
    },
    "papermill": {
     "duration": 8.362876,
     "end_time": "2020-11-25T10:05:36.358946",
     "exception": false,
     "start_time": "2020-11-25T10:05:27.996070",
     "status": "completed"
    },
    "tags": []
   },
   "outputs": [],
   "source": [
    "#Geral\n",
    "import numpy as np\n",
    "np.random.seed(36)\n",
    "import pandas as pd\n",
    "import matplotlib.pyplot as plt\n",
    "import random\n",
    "random.seed(36)\n",
    "\n",
    "#Processamento de textos\n",
    "from ftfy import fix_text\n",
    "import string\n",
    "import re\n",
    "from gensim.test.utils import common_texts\n",
    "from gensim.models.doc2vec import Doc2Vec, TaggedDocument\n",
    "\n",
    "#ML e NLP\n",
    "from sklearn.linear_model import LogisticRegression\n",
    "from sklearn import neural_network, svm\n",
    "from sklearn.neural_network import MLPClassifier\n",
    "from sklearn.model_selection import GridSearchCV, RandomizedSearchCV, train_test_split, cross_val_score\n",
    "from sklearn.metrics import roc_auc_score, accuracy_score\n",
    "from sklearn.neighbors import KNeighborsClassifier\n",
    "import tensorflow as tf\n",
    "tf.random.set_seed(36)\n",
    "import keras\n",
    "from keras import Sequential, regularizers\n",
    "from keras.layers import Dense\n",
    "from tensorflow.python.framework import ops\n",
    "from keras.callbacks import EarlyStopping\n",
    "from tqdm import tqdm as tqdm"
   ]
  },
  {
   "cell_type": "markdown",
   "metadata": {
    "papermill": {
     "duration": 0.10747,
     "end_time": "2020-11-25T10:05:36.575328",
     "exception": false,
     "start_time": "2020-11-25T10:05:36.467858",
     "status": "completed"
    },
    "tags": []
   },
   "source": [
    "Note que foram configuradas seeds para os comandos de aleatoriedade, de modo a possibilitar a reprodução dos resultados da análise."
   ]
  },
  {
   "cell_type": "markdown",
   "metadata": {
    "papermill": {
     "duration": 0.106526,
     "end_time": "2020-11-25T10:05:36.789402",
     "exception": false,
     "start_time": "2020-11-25T10:05:36.682876",
     "status": "completed"
    },
    "tags": []
   },
   "source": [
    "# 2. Data prep:"
   ]
  },
  {
   "cell_type": "markdown",
   "metadata": {
    "papermill": {
     "duration": 0.107486,
     "end_time": "2020-11-25T10:05:37.005101",
     "exception": false,
     "start_time": "2020-11-25T10:05:36.897615",
     "status": "completed"
    },
    "tags": []
   },
   "source": [
    "## 2.1. Importação dos dados:"
   ]
  },
  {
   "cell_type": "markdown",
   "metadata": {
    "papermill": {
     "duration": 0.106244,
     "end_time": "2020-11-25T10:05:37.217777",
     "exception": false,
     "start_time": "2020-11-25T10:05:37.111533",
     "status": "completed"
    },
    "tags": []
   },
   "source": [
    "Importando as bases de treino, validação e teste, respectivamente:"
   ]
  },
  {
   "cell_type": "code",
   "execution_count": 3,
   "metadata": {
    "execution": {
     "iopub.execute_input": "2020-11-25T10:05:37.441103Z",
     "iopub.status.busy": "2020-11-25T10:05:37.440319Z",
     "iopub.status.idle": "2020-11-25T10:05:37.867957Z",
     "shell.execute_reply": "2020-11-25T10:05:37.867100Z"
    },
    "papermill": {
     "duration": 0.543588,
     "end_time": "2020-11-25T10:05:37.868092",
     "exception": false,
     "start_time": "2020-11-25T10:05:37.324504",
     "status": "completed"
    },
    "tags": []
   },
   "outputs": [],
   "source": [
    "train = pd.read_csv(\"../input/sentiment-analysis-pmr3508/data_train.csv\")"
   ]
  },
  {
   "cell_type": "markdown",
   "metadata": {
    "papermill": {
     "duration": 0.106718,
     "end_time": "2020-11-25T10:05:38.084596",
     "exception": false,
     "start_time": "2020-11-25T10:05:37.977878",
     "status": "completed"
    },
    "tags": []
   },
   "source": [
    "## 2.2. Compreensão e análise inicial do dataset:"
   ]
  },
  {
   "cell_type": "markdown",
   "metadata": {
    "papermill": {
     "duration": 0.105648,
     "end_time": "2020-11-25T10:05:38.346321",
     "exception": false,
     "start_time": "2020-11-25T10:05:38.240673",
     "status": "completed"
    },
    "tags": []
   },
   "source": [
    "Agora vamos visualizar as primeiras linhas do dataframe de treino, para conhecer seus atributos. Além disso, devemos conferir seu tamanho:"
   ]
  },
  {
   "cell_type": "code",
   "execution_count": 4,
   "metadata": {
    "execution": {
     "iopub.execute_input": "2020-11-25T10:05:38.584159Z",
     "iopub.status.busy": "2020-11-25T10:05:38.583385Z",
     "iopub.status.idle": "2020-11-25T10:05:38.593825Z",
     "shell.execute_reply": "2020-11-25T10:05:38.593163Z"
    },
    "papermill": {
     "duration": 0.136508,
     "end_time": "2020-11-25T10:05:38.593949",
     "exception": false,
     "start_time": "2020-11-25T10:05:38.457441",
     "status": "completed"
    },
    "tags": []
   },
   "outputs": [
    {
     "data": {
      "text/html": [
       "<div>\n",
       "<style scoped>\n",
       "    .dataframe tbody tr th:only-of-type {\n",
       "        vertical-align: middle;\n",
       "    }\n",
       "\n",
       "    .dataframe tbody tr th {\n",
       "        vertical-align: top;\n",
       "    }\n",
       "\n",
       "    .dataframe thead th {\n",
       "        text-align: right;\n",
       "    }\n",
       "</style>\n",
       "<table border=\"1\" class=\"dataframe\">\n",
       "  <thead>\n",
       "    <tr style=\"text-align: right;\">\n",
       "      <th></th>\n",
       "      <th>review</th>\n",
       "      <th>positive</th>\n",
       "    </tr>\n",
       "  </thead>\n",
       "  <tbody>\n",
       "    <tr>\n",
       "      <th>0</th>\n",
       "      <td>Bromwell High is a cartoon comedy. It ran at t...</td>\n",
       "      <td>1</td>\n",
       "    </tr>\n",
       "    <tr>\n",
       "      <th>1</th>\n",
       "      <td>Homelessness (or Houselessness as George Carli...</td>\n",
       "      <td>1</td>\n",
       "    </tr>\n",
       "    <tr>\n",
       "      <th>2</th>\n",
       "      <td>Brilliant over-acting by Lesley Ann Warren. Be...</td>\n",
       "      <td>1</td>\n",
       "    </tr>\n",
       "    <tr>\n",
       "      <th>3</th>\n",
       "      <td>This is easily the most underrated film inn th...</td>\n",
       "      <td>1</td>\n",
       "    </tr>\n",
       "    <tr>\n",
       "      <th>4</th>\n",
       "      <td>This is not the typical Mel Brooks film. It wa...</td>\n",
       "      <td>1</td>\n",
       "    </tr>\n",
       "  </tbody>\n",
       "</table>\n",
       "</div>"
      ],
      "text/plain": [
       "                                              review  positive\n",
       "0  Bromwell High is a cartoon comedy. It ran at t...         1\n",
       "1  Homelessness (or Houselessness as George Carli...         1\n",
       "2  Brilliant over-acting by Lesley Ann Warren. Be...         1\n",
       "3  This is easily the most underrated film inn th...         1\n",
       "4  This is not the typical Mel Brooks film. It wa...         1"
      ]
     },
     "execution_count": 4,
     "metadata": {},
     "output_type": "execute_result"
    }
   ],
   "source": [
    "train.head()"
   ]
  },
  {
   "cell_type": "code",
   "execution_count": 5,
   "metadata": {
    "execution": {
     "iopub.execute_input": "2020-11-25T10:05:38.819695Z",
     "iopub.status.busy": "2020-11-25T10:05:38.818702Z",
     "iopub.status.idle": "2020-11-25T10:05:38.823545Z",
     "shell.execute_reply": "2020-11-25T10:05:38.822941Z"
    },
    "papermill": {
     "duration": 0.120131,
     "end_time": "2020-11-25T10:05:38.823672",
     "exception": false,
     "start_time": "2020-11-25T10:05:38.703541",
     "status": "completed"
    },
    "tags": []
   },
   "outputs": [
    {
     "data": {
      "text/plain": [
       "(24984, 2)"
      ]
     },
     "execution_count": 5,
     "metadata": {},
     "output_type": "execute_result"
    }
   ],
   "source": [
    "train.shape"
   ]
  },
  {
   "cell_type": "markdown",
   "metadata": {
    "papermill": {
     "duration": 0.108007,
     "end_time": "2020-11-25T10:05:39.042665",
     "exception": false,
     "start_time": "2020-11-25T10:05:38.934658",
     "status": "completed"
    },
    "tags": []
   },
   "source": [
    "Com isso, percebemos apenas duas informações no dataframe: a review propriamente dita, e se ela é positiva (1) ou negativa (0)."
   ]
  },
  {
   "cell_type": "markdown",
   "metadata": {
    "papermill": {
     "duration": 0.10786,
     "end_time": "2020-11-25T10:05:39.258803",
     "exception": false,
     "start_time": "2020-11-25T10:05:39.150943",
     "status": "completed"
    },
    "tags": []
   },
   "source": [
    "Realizando uma análise quantitativa dos dados, percebemos, pela média, que o dataset é bem equilibrado com relação ao número de análises positivas e negativas. Quanto mais próxima de 0.5 a média está, mais balanceados são os dados:"
   ]
  },
  {
   "cell_type": "code",
   "execution_count": 6,
   "metadata": {
    "execution": {
     "iopub.execute_input": "2020-11-25T10:05:39.489459Z",
     "iopub.status.busy": "2020-11-25T10:05:39.488428Z",
     "iopub.status.idle": "2020-11-25T10:05:39.503748Z",
     "shell.execute_reply": "2020-11-25T10:05:39.502953Z"
    },
    "papermill": {
     "duration": 0.136607,
     "end_time": "2020-11-25T10:05:39.503897",
     "exception": false,
     "start_time": "2020-11-25T10:05:39.367290",
     "status": "completed"
    },
    "tags": []
   },
   "outputs": [
    {
     "data": {
      "text/html": [
       "<div>\n",
       "<style scoped>\n",
       "    .dataframe tbody tr th:only-of-type {\n",
       "        vertical-align: middle;\n",
       "    }\n",
       "\n",
       "    .dataframe tbody tr th {\n",
       "        vertical-align: top;\n",
       "    }\n",
       "\n",
       "    .dataframe thead th {\n",
       "        text-align: right;\n",
       "    }\n",
       "</style>\n",
       "<table border=\"1\" class=\"dataframe\">\n",
       "  <thead>\n",
       "    <tr style=\"text-align: right;\">\n",
       "      <th></th>\n",
       "      <th>positive</th>\n",
       "    </tr>\n",
       "  </thead>\n",
       "  <tbody>\n",
       "    <tr>\n",
       "      <th>count</th>\n",
       "      <td>24984.00000</td>\n",
       "    </tr>\n",
       "    <tr>\n",
       "      <th>mean</th>\n",
       "      <td>0.49988</td>\n",
       "    </tr>\n",
       "    <tr>\n",
       "      <th>std</th>\n",
       "      <td>0.50001</td>\n",
       "    </tr>\n",
       "    <tr>\n",
       "      <th>min</th>\n",
       "      <td>0.00000</td>\n",
       "    </tr>\n",
       "    <tr>\n",
       "      <th>25%</th>\n",
       "      <td>0.00000</td>\n",
       "    </tr>\n",
       "    <tr>\n",
       "      <th>50%</th>\n",
       "      <td>0.00000</td>\n",
       "    </tr>\n",
       "    <tr>\n",
       "      <th>75%</th>\n",
       "      <td>1.00000</td>\n",
       "    </tr>\n",
       "    <tr>\n",
       "      <th>max</th>\n",
       "      <td>1.00000</td>\n",
       "    </tr>\n",
       "  </tbody>\n",
       "</table>\n",
       "</div>"
      ],
      "text/plain": [
       "          positive\n",
       "count  24984.00000\n",
       "mean       0.49988\n",
       "std        0.50001\n",
       "min        0.00000\n",
       "25%        0.00000\n",
       "50%        0.00000\n",
       "75%        1.00000\n",
       "max        1.00000"
      ]
     },
     "execution_count": 6,
     "metadata": {},
     "output_type": "execute_result"
    }
   ],
   "source": [
    "train.describe()"
   ]
  },
  {
   "cell_type": "markdown",
   "metadata": {
    "papermill": {
     "duration": 0.108633,
     "end_time": "2020-11-25T10:05:39.725827",
     "exception": false,
     "start_time": "2020-11-25T10:05:39.617194",
     "status": "completed"
    },
    "tags": []
   },
   "source": [
    "Podemos garantir isso observando a distribuição da variável \"positive\":"
   ]
  },
  {
   "cell_type": "code",
   "execution_count": 7,
   "metadata": {
    "execution": {
     "iopub.execute_input": "2020-11-25T10:05:39.951227Z",
     "iopub.status.busy": "2020-11-25T10:05:39.950500Z",
     "iopub.status.idle": "2020-11-25T10:05:39.957423Z",
     "shell.execute_reply": "2020-11-25T10:05:39.956660Z"
    },
    "papermill": {
     "duration": 0.121276,
     "end_time": "2020-11-25T10:05:39.957555",
     "exception": false,
     "start_time": "2020-11-25T10:05:39.836279",
     "status": "completed"
    },
    "tags": []
   },
   "outputs": [
    {
     "data": {
      "text/plain": [
       "0    12495\n",
       "1    12489\n",
       "Name: positive, dtype: int64"
      ]
     },
     "execution_count": 7,
     "metadata": {},
     "output_type": "execute_result"
    }
   ],
   "source": [
    "train[\"positive\"].value_counts()"
   ]
  },
  {
   "cell_type": "code",
   "execution_count": 8,
   "metadata": {
    "execution": {
     "iopub.execute_input": "2020-11-25T10:05:40.195154Z",
     "iopub.status.busy": "2020-11-25T10:05:40.192836Z",
     "iopub.status.idle": "2020-11-25T10:05:40.199910Z",
     "shell.execute_reply": "2020-11-25T10:05:40.199167Z"
    },
    "papermill": {
     "duration": 0.13093,
     "end_time": "2020-11-25T10:05:40.200031",
     "exception": false,
     "start_time": "2020-11-25T10:05:40.069101",
     "status": "completed"
    },
    "tags": []
   },
   "outputs": [
    {
     "data": {
      "text/plain": [
       "review      0\n",
       "positive    0\n",
       "dtype: int64"
      ]
     },
     "execution_count": 8,
     "metadata": {},
     "output_type": "execute_result"
    }
   ],
   "source": [
    "train.isnull().sum()"
   ]
  },
  {
   "cell_type": "markdown",
   "metadata": {
    "papermill": {
     "duration": 0.109488,
     "end_time": "2020-11-25T10:05:40.419617",
     "exception": false,
     "start_time": "2020-11-25T10:05:40.310129",
     "status": "completed"
    },
    "tags": []
   },
   "source": [
    "Note, também, que não há dados faltantes na base de dados, o que deve proporcionar uma análise mais precisa."
   ]
  },
  {
   "cell_type": "markdown",
   "metadata": {
    "papermill": {
     "duration": 0.114696,
     "end_time": "2020-11-25T10:05:40.645409",
     "exception": false,
     "start_time": "2020-11-25T10:05:40.530713",
     "status": "completed"
    },
    "tags": []
   },
   "source": [
    "## 2.3. Tratamento inicial dos dados:"
   ]
  },
  {
   "cell_type": "markdown",
   "metadata": {
    "papermill": {
     "duration": 0.109977,
     "end_time": "2020-11-25T10:05:40.866125",
     "exception": false,
     "start_time": "2020-11-25T10:05:40.756148",
     "status": "completed"
    },
    "tags": []
   },
   "source": [
    "Inicialmente, vamos procurar por reviews duplicadas no dataframe:"
   ]
  },
  {
   "cell_type": "code",
   "execution_count": 9,
   "metadata": {
    "execution": {
     "iopub.execute_input": "2020-11-25T10:05:41.106194Z",
     "iopub.status.busy": "2020-11-25T10:05:41.105430Z",
     "iopub.status.idle": "2020-11-25T10:05:41.203770Z",
     "shell.execute_reply": "2020-11-25T10:05:41.203026Z"
    },
    "papermill": {
     "duration": 0.227265,
     "end_time": "2020-11-25T10:05:41.203892",
     "exception": false,
     "start_time": "2020-11-25T10:05:40.976627",
     "status": "completed"
    },
    "tags": []
   },
   "outputs": [
    {
     "data": {
      "text/html": [
       "<div>\n",
       "<style scoped>\n",
       "    .dataframe tbody tr th:only-of-type {\n",
       "        vertical-align: middle;\n",
       "    }\n",
       "\n",
       "    .dataframe tbody tr th {\n",
       "        vertical-align: top;\n",
       "    }\n",
       "\n",
       "    .dataframe thead th {\n",
       "        text-align: right;\n",
       "    }\n",
       "</style>\n",
       "<table border=\"1\" class=\"dataframe\">\n",
       "  <thead>\n",
       "    <tr style=\"text-align: right;\">\n",
       "      <th></th>\n",
       "      <th>review</th>\n",
       "      <th>positive</th>\n",
       "    </tr>\n",
       "  </thead>\n",
       "  <tbody>\n",
       "    <tr>\n",
       "      <th>24826</th>\n",
       "      <td>'Dead Letter Office' is a low-budget film abou...</td>\n",
       "      <td>0</td>\n",
       "    </tr>\n",
       "    <tr>\n",
       "      <th>18434</th>\n",
       "      <td>'Dead Letter Office' is a low-budget film abou...</td>\n",
       "      <td>0</td>\n",
       "    </tr>\n",
       "    <tr>\n",
       "      <th>8122</th>\n",
       "      <td>.......Playing Kaddiddlehopper, Col San Fernan...</td>\n",
       "      <td>1</td>\n",
       "    </tr>\n",
       "    <tr>\n",
       "      <th>11731</th>\n",
       "      <td>.......Playing Kaddiddlehopper, Col San Fernan...</td>\n",
       "      <td>1</td>\n",
       "    </tr>\n",
       "    <tr>\n",
       "      <th>21968</th>\n",
       "      <td>&lt;br /&gt;&lt;br /&gt;Back in his youth, the old man had...</td>\n",
       "      <td>0</td>\n",
       "    </tr>\n",
       "    <tr>\n",
       "      <th>...</th>\n",
       "      <td>...</td>\n",
       "      <td>...</td>\n",
       "    </tr>\n",
       "    <tr>\n",
       "      <th>21448</th>\n",
       "      <td>in this movie, joe pesci slams dunks a basketb...</td>\n",
       "      <td>0</td>\n",
       "    </tr>\n",
       "    <tr>\n",
       "      <th>10996</th>\n",
       "      <td>it's amazing that so many people that i know h...</td>\n",
       "      <td>1</td>\n",
       "    </tr>\n",
       "    <tr>\n",
       "      <th>10993</th>\n",
       "      <td>it's amazing that so many people that i know h...</td>\n",
       "      <td>1</td>\n",
       "    </tr>\n",
       "    <tr>\n",
       "      <th>19524</th>\n",
       "      <td>this movie begins with an ordinary funeral... ...</td>\n",
       "      <td>0</td>\n",
       "    </tr>\n",
       "    <tr>\n",
       "      <th>21253</th>\n",
       "      <td>this movie begins with an ordinary funeral... ...</td>\n",
       "      <td>0</td>\n",
       "    </tr>\n",
       "  </tbody>\n",
       "</table>\n",
       "<p>188 rows × 2 columns</p>\n",
       "</div>"
      ],
      "text/plain": [
       "                                                  review  positive\n",
       "24826  'Dead Letter Office' is a low-budget film abou...         0\n",
       "18434  'Dead Letter Office' is a low-budget film abou...         0\n",
       "8122   .......Playing Kaddiddlehopper, Col San Fernan...         1\n",
       "11731  .......Playing Kaddiddlehopper, Col San Fernan...         1\n",
       "21968  <br /><br />Back in his youth, the old man had...         0\n",
       "...                                                  ...       ...\n",
       "21448  in this movie, joe pesci slams dunks a basketb...         0\n",
       "10996  it's amazing that so many people that i know h...         1\n",
       "10993  it's amazing that so many people that i know h...         1\n",
       "19524  this movie begins with an ordinary funeral... ...         0\n",
       "21253  this movie begins with an ordinary funeral... ...         0\n",
       "\n",
       "[188 rows x 2 columns]"
      ]
     },
     "execution_count": 9,
     "metadata": {},
     "output_type": "execute_result"
    }
   ],
   "source": [
    "train[train.duplicated([\"review\"], keep = False)].sort_values(by = \"review\")"
   ]
  },
  {
   "cell_type": "markdown",
   "metadata": {
    "papermill": {
     "duration": 0.110297,
     "end_time": "2020-11-25T10:05:41.425688",
     "exception": false,
     "start_time": "2020-11-25T10:05:41.315391",
     "status": "completed"
    },
    "tags": []
   },
   "source": [
    "Como a chance de essas duplicatas ocorrerem de verdade é extremamente baixa (dois textos idênticos serem escritos por pessoas distintas), podemos considerá-las como erros na coleta de dados. Por isso, serão removidas:"
   ]
  },
  {
   "cell_type": "code",
   "execution_count": 10,
   "metadata": {
    "execution": {
     "iopub.execute_input": "2020-11-25T10:05:41.667173Z",
     "iopub.status.busy": "2020-11-25T10:05:41.664502Z",
     "iopub.status.idle": "2020-11-25T10:05:41.758527Z",
     "shell.execute_reply": "2020-11-25T10:05:41.757901Z"
    },
    "papermill": {
     "duration": 0.22003,
     "end_time": "2020-11-25T10:05:41.758661",
     "exception": false,
     "start_time": "2020-11-25T10:05:41.538631",
     "status": "completed"
    },
    "tags": []
   },
   "outputs": [
    {
     "data": {
      "text/plain": [
       "(24888, 2)"
      ]
     },
     "execution_count": 10,
     "metadata": {},
     "output_type": "execute_result"
    }
   ],
   "source": [
    "train = train.drop_duplicates(\"review\", keep = \"first\")\n",
    "train.shape"
   ]
  },
  {
   "cell_type": "markdown",
   "metadata": {
    "papermill": {
     "duration": 0.112638,
     "end_time": "2020-11-25T10:05:41.984315",
     "exception": false,
     "start_time": "2020-11-25T10:05:41.871677",
     "status": "completed"
    },
    "tags": []
   },
   "source": [
    "Como já observado, o dataset possui duas colunas: uma com as reviews, e uma com a variável target \"positive\". Assim, vamos criar duas listas, separando-as:"
   ]
  },
  {
   "cell_type": "code",
   "execution_count": 11,
   "metadata": {
    "execution": {
     "iopub.execute_input": "2020-11-25T10:05:42.223675Z",
     "iopub.status.busy": "2020-11-25T10:05:42.222719Z",
     "iopub.status.idle": "2020-11-25T10:05:42.225299Z",
     "shell.execute_reply": "2020-11-25T10:05:42.225898Z"
    },
    "papermill": {
     "duration": 0.128835,
     "end_time": "2020-11-25T10:05:42.226051",
     "exception": false,
     "start_time": "2020-11-25T10:05:42.097216",
     "status": "completed"
    },
    "tags": []
   },
   "outputs": [],
   "source": [
    "Y_train = np.array(train.positive.tolist())\n",
    "X_train = train.review.tolist()"
   ]
  },
  {
   "cell_type": "markdown",
   "metadata": {
    "papermill": {
     "duration": 0.111842,
     "end_time": "2020-11-25T10:05:42.453842",
     "exception": false,
     "start_time": "2020-11-25T10:05:42.342000",
     "status": "completed"
    },
    "tags": []
   },
   "source": [
    "## 2.4. Tratamento e padronização dos textos:"
   ]
  },
  {
   "cell_type": "markdown",
   "metadata": {
    "papermill": {
     "duration": 0.116102,
     "end_time": "2020-11-25T10:05:42.684906",
     "exception": false,
     "start_time": "2020-11-25T10:05:42.568804",
     "status": "completed"
    },
    "tags": []
   },
   "source": [
    "Vamos observar alguns textos aleatórios, para identificarmos elementos que devem ser removidos, de modo a padronizar os dados e retirar itens desnecessários:"
   ]
  },
  {
   "cell_type": "code",
   "execution_count": 12,
   "metadata": {
    "execution": {
     "iopub.execute_input": "2020-11-25T10:05:42.917010Z",
     "iopub.status.busy": "2020-11-25T10:05:42.915900Z",
     "iopub.status.idle": "2020-11-25T10:05:42.921140Z",
     "shell.execute_reply": "2020-11-25T10:05:42.921755Z"
    },
    "papermill": {
     "duration": 0.123082,
     "end_time": "2020-11-25T10:05:42.921924",
     "exception": false,
     "start_time": "2020-11-25T10:05:42.798842",
     "status": "completed"
    },
    "scrolled": false,
    "tags": []
   },
   "outputs": [
    {
     "name": "stdout",
     "output_type": "stream",
     "text": [
      "Sitting, TypingÂ… Nothing is the latest \"what if?\" fest offered by Vincenzio Natali, and starring David Hewlitt and Andrew Miller as two losers. One is having relationship problems, got canned from his job (because of relationship problems) and the police are out to get him (because of his job and his relationship problems). The other guy is a agoraphobic who refuses to go outside his home, is met by a bothersome girl guide who calls on her Mom to claim she was molested when he doesn't buy cookies from him. Oh yeah, the police are after him too, after the Mom of the girl scout call them in to arrest him.<br /><br />Man, what a day.<br /><br />What if you could make all of this disappear? That is the whole premise behind 'Nothing'. The two fools realize, the cops, the girl scout, the cars, the lawn, the road, everythingÂ… disappear. There's nothing but white space! This is an interesting concept I thought. I also looked at the time of this, 30 minutes had gone in the movie, and I still had an hour left in the movie. Could the 2 actors make this work and keep us entertained for 60 minutes? Although the actors try, 60 minutes IS a long time and there is clearly dead air in places of this movie. But the two actors, whom are life-long friends with each other and the director, have such great repertoire with each other, that it was fun to watch for the dialogue and improve goofing around the two do. There are lots of supernatural elements, but it's more of their response to these elements that ultimately make this film worth seeing. \n",
      "\n",
      "In 1993, \"the visitors\" was an enormous hit in France. So, the sequence was inevitable and unfortunately, this sequence ranks among the worst ones ever made. <br /><br />This is a movie that doesn't keep its promises. Indeed, it's supposed to tell a sole story. Jean Reno must go in the twentieth century and take Christian Clavier back in the Middle Ages so that time can normally follow its course. The problem is that Clavier feels completely at ease in the world of the twentieth century, and so make him get back in the Middles Ages is rather hard... Instead of this, the movie goes on several other stories without succeeding in following the main plot. As a consequence, the movie becomes sometimes muddle-headed, sometimes a bit of a mess.<br /><br />But the movie also suffers from the performance of nearly all the actors. Reno and Clavier fall into the trap that however they could avoid in the first movie: they're going over the top and become annoying. Then, why did Jean-Marie PoirÃ© the film-maker engage Muriel Robin in the female main role? He made a mistake because she seems ill-at-ease and is absolutely pitiful. The other actors aren't better: Marie-Anne Chazel is nonexistent and Christian Bujeau, unbearable.<br /><br /> Of course, the movie contains a few good moments with efficient gags but it often falls into vulgarity and easiness. Certain sequences and dialogs are affected. It also appears hollow because PoirÃ© takes back elements that secured the success of the first movie. Thus, a young girl takes Reno for a close relative of her family and asks him to take part in her wedding.<br /><br />A labored and disappointing follow-up. Anyway, what's the interest of this movie otherwise commercial?<br /><br /> \n",
      "\n",
      "THE RUNNING MAN, along with TOTAL RECALL, is my favorite Schwarzenegger movie. No, this isn't 2001, but it's not meant to be. And the acting and script here isn't even up to par with other Arnie movies like PREDATOR or THE TERMINATOR. But I submit that the IDEA behind this movie is one of the coolest ever to hit the big screen. A state-sponsored game show in which criminals convicted of serious crimes compete against \"heroic\" stalkers armed with all kinds of weapons (the runners are equipped with none) in order to satisfy the public's lust for sport and blood. The ultimate prize for a winning runner: freedom. Or so the rules claim.<br /><br />For a movie with such over-the-top gory death scenes and cheesy one-liners, it really does have a lot to say. Someone else has pointed out all the commentary on culture/government presented in this movie, so I won't go into it here. Suffice it to say that if you can look beyond the seemingly silly feel of the movie, you will enjoy it very much (especially if you're a big SF fan with a lot of imagination). Like I said, it's not trying to be a serious art film, but it IS surprisingly layered for a 80s shoot-em-up flick. The premise is borrowed from a Richard Bachman (aka Stephen King) short novel, but diverges fairly strongly from its source material, especially towards the end. (The book ends rather nihilistically; needless to say this movie doesn't.) I enjoyed both, but I like the movie better.<br /><br />My favorite line: \"Guess it's caused from steroids.\" \n",
      "\n",
      "Come on people. This movie is better than 4. I can see this happening...wealthy people have done crazier things than this. And it was funny.<br /><br />I watch a comedy to be entertained, escape from the pressures of the world for a short while, and not to have to take anything too seriously. This movie fully suits that purpose. I judge a movie on its own merits and am not about to compare Surviving Christmas to Blazing Saddles. I watched totally dysfunctional people grow into caring, likable individuals who could easily live down the street from my home. It will remain on my list of \"favorite.....must watch for the holiday season\". If you just want to have a fun 90 minutes, watch this one. \n",
      "\n",
      "I cannot believe how unknown this movie is,it was absolutely incredible. The ending alone has stuck with me for almost thirty years. The road sign through the rearveiw mirror blew me away. If you liked \"RACE WITH THE DEVIL\" you will love this movie \n",
      "\n"
     ]
    }
   ],
   "source": [
    "numbers = np.random.randint(24887, size=(5))\n",
    "for i in numbers:\n",
    "    print(X_train[i], \"\\n\")"
   ]
  },
  {
   "cell_type": "markdown",
   "metadata": {
    "papermill": {
     "duration": 0.115739,
     "end_time": "2020-11-25T10:05:43.149921",
     "exception": false,
     "start_time": "2020-11-25T10:05:43.034182",
     "status": "completed"
    },
    "tags": []
   },
   "source": [
    "Note que há diversos elementos que devem ser removidos, o principal sendo \"<br />\"; e outros a serem corrigidos. Como dito no início do notebook, a importação do pacote $\\textit{ftfy}$ tem objetivo de realizar essas correções."
   ]
  },
  {
   "cell_type": "markdown",
   "metadata": {
    "papermill": {
     "duration": 0.112999,
     "end_time": "2020-11-25T10:05:43.375270",
     "exception": false,
     "start_time": "2020-11-25T10:05:43.262271",
     "status": "completed"
    },
    "tags": []
   },
   "source": [
    "É recomendado que a função de limpeza utilizada no uso do modelo de representação, ou seja, no Doc2Vec, seja idêntica à utilizada no treinamento do modelo de representação. Assim, a função a seguir será copiada do notebook $\\textit{\"Introdução ao Doc2Vec\"}$ fornecido:"
   ]
  },
  {
   "cell_type": "code",
   "execution_count": 13,
   "metadata": {
    "execution": {
     "iopub.execute_input": "2020-11-25T10:05:43.613605Z",
     "iopub.status.busy": "2020-11-25T10:05:43.612782Z",
     "iopub.status.idle": "2020-11-25T10:05:43.616481Z",
     "shell.execute_reply": "2020-11-25T10:05:43.615724Z"
    },
    "papermill": {
     "duration": 0.126533,
     "end_time": "2020-11-25T10:05:43.616624",
     "exception": false,
     "start_time": "2020-11-25T10:05:43.490091",
     "status": "completed"
    },
    "tags": []
   },
   "outputs": [],
   "source": [
    "def clean(text):\n",
    "    txt=text.replace(\"<br />\",\" \") #retirando tags\n",
    "    txt=fix_text(txt) #consertando Mojibakes (Ver https://pypi.org/project/ftfy/)\n",
    "    txt=txt.lower() #passando tudo para minúsculo\n",
    "    txt=txt.translate(str.maketrans('', '', string.punctuation)) #retirando toda pontuação\n",
    "    txt=txt.replace(\" — \", \" \") #retirando hífens\n",
    "    txt=re.sub(\"\\d+\", ' <number> ', txt) #colocando um token especial para os números\n",
    "    txt=re.sub(' +', ' ', txt) #deletando espaços extras\n",
    "    return txt"
   ]
  },
  {
   "cell_type": "markdown",
   "metadata": {
    "papermill": {
     "duration": 0.114412,
     "end_time": "2020-11-25T10:05:43.844271",
     "exception": false,
     "start_time": "2020-11-25T10:05:43.729859",
     "status": "completed"
    },
    "tags": []
   },
   "source": [
    "Aplicando a função em todas as avaliações:"
   ]
  },
  {
   "cell_type": "code",
   "execution_count": 14,
   "metadata": {
    "execution": {
     "iopub.execute_input": "2020-11-25T10:05:44.127479Z",
     "iopub.status.busy": "2020-11-25T10:05:44.094700Z",
     "iopub.status.idle": "2020-11-25T10:06:53.148409Z",
     "shell.execute_reply": "2020-11-25T10:06:53.149019Z"
    },
    "papermill": {
     "duration": 69.192532,
     "end_time": "2020-11-25T10:06:53.149188",
     "exception": false,
     "start_time": "2020-11-25T10:05:43.956656",
     "status": "completed"
    },
    "tags": []
   },
   "outputs": [
    {
     "name": "stdout",
     "output_type": "stream",
     "text": [
      "CPU times: user 1min 8s, sys: 3.6 ms, total: 1min 8s\n",
      "Wall time: 1min 8s\n"
     ]
    }
   ],
   "source": [
    "%%time\n",
    "X_train = [clean(x) for x in X_train]"
   ]
  },
  {
   "cell_type": "markdown",
   "metadata": {
    "papermill": {
     "duration": 0.112695,
     "end_time": "2020-11-25T10:06:53.374731",
     "exception": false,
     "start_time": "2020-11-25T10:06:53.262036",
     "status": "completed"
    },
    "tags": []
   },
   "source": [
    "Exibindo os mesmos textos após serem padronizados:"
   ]
  },
  {
   "cell_type": "code",
   "execution_count": 15,
   "metadata": {
    "execution": {
     "iopub.execute_input": "2020-11-25T10:06:53.615188Z",
     "iopub.status.busy": "2020-11-25T10:06:53.614327Z",
     "iopub.status.idle": "2020-11-25T10:06:53.620820Z",
     "shell.execute_reply": "2020-11-25T10:06:53.619974Z"
    },
    "papermill": {
     "duration": 0.133702,
     "end_time": "2020-11-25T10:06:53.620979",
     "exception": false,
     "start_time": "2020-11-25T10:06:53.487277",
     "status": "completed"
    },
    "tags": []
   },
   "outputs": [
    {
     "name": "stdout",
     "output_type": "stream",
     "text": [
      "sitting typing… nothing is the latest what if fest offered by vincenzio natali and starring david hewlitt and andrew miller as two losers one is having relationship problems got canned from his job because of relationship problems and the police are out to get him because of his job and his relationship problems the other guy is a agoraphobic who refuses to go outside his home is met by a bothersome girl guide who calls on her mom to claim she was molested when he doesnt buy cookies from him oh yeah the police are after him too after the mom of the girl scout call them in to arrest him man what a day what if you could make all of this disappear that is the whole premise behind nothing the two fools realize the cops the girl scout the cars the lawn the road everything… disappear theres nothing but white space this is an interesting concept i thought i also looked at the time of this <number> minutes had gone in the movie and i still had an hour left in the movie could the <number> actors make this work and keep us entertained for <number> minutes although the actors try <number> minutes is a long time and there is clearly dead air in places of this movie but the two actors whom are lifelong friends with each other and the director have such great repertoire with each other that it was fun to watch for the dialogue and improve goofing around the two do there are lots of supernatural elements but its more of their response to these elements that ultimately make this film worth seeing \n",
      "\n",
      "in <number> the visitors was an enormous hit in france so the sequence was inevitable and unfortunately this sequence ranks among the worst ones ever made this is a movie that doesnt keep its promises indeed its supposed to tell a sole story jean reno must go in the twentieth century and take christian clavier back in the middle ages so that time can normally follow its course the problem is that clavier feels completely at ease in the world of the twentieth century and so make him get back in the middles ages is rather hard instead of this the movie goes on several other stories without succeeding in following the main plot as a consequence the movie becomes sometimes muddleheaded sometimes a bit of a mess but the movie also suffers from the performance of nearly all the actors reno and clavier fall into the trap that however they could avoid in the first movie theyre going over the top and become annoying then why did jeanmarie poiré the filmmaker engage muriel robin in the female main role he made a mistake because she seems illatease and is absolutely pitiful the other actors arent better marieanne chazel is nonexistent and christian bujeau unbearable of course the movie contains a few good moments with efficient gags but it often falls into vulgarity and easiness certain sequences and dialogs are affected it also appears hollow because poiré takes back elements that secured the success of the first movie thus a young girl takes reno for a close relative of her family and asks him to take part in her wedding a labored and disappointing followup anyway whats the interest of this movie otherwise commercial  \n",
      "\n",
      "the running man along with total recall is my favorite schwarzenegger movie no this isnt <number> but its not meant to be and the acting and script here isnt even up to par with other arnie movies like predator or the terminator but i submit that the idea behind this movie is one of the coolest ever to hit the big screen a statesponsored game show in which criminals convicted of serious crimes compete against heroic stalkers armed with all kinds of weapons the runners are equipped with none in order to satisfy the publics lust for sport and blood the ultimate prize for a winning runner freedom or so the rules claim for a movie with such overthetop gory death scenes and cheesy oneliners it really does have a lot to say someone else has pointed out all the commentary on culturegovernment presented in this movie so i wont go into it here suffice it to say that if you can look beyond the seemingly silly feel of the movie you will enjoy it very much especially if youre a big sf fan with a lot of imagination like i said its not trying to be a serious art film but it is surprisingly layered for a <number> s shootemup flick the premise is borrowed from a richard bachman aka stephen king short novel but diverges fairly strongly from its source material especially towards the end the book ends rather nihilistically needless to say this movie doesnt i enjoyed both but i like the movie better my favorite line guess its caused from steroids \n",
      "\n",
      "come on people this movie is better than <number> i can see this happeningwealthy people have done crazier things than this and it was funny i watch a comedy to be entertained escape from the pressures of the world for a short while and not to have to take anything too seriously this movie fully suits that purpose i judge a movie on its own merits and am not about to compare surviving christmas to blazing saddles i watched totally dysfunctional people grow into caring likable individuals who could easily live down the street from my home it will remain on my list of favoritemust watch for the holiday season if you just want to have a fun <number> minutes watch this one \n",
      "\n",
      "i cannot believe how unknown this movie isit was absolutely incredible the ending alone has stuck with me for almost thirty years the road sign through the rearveiw mirror blew me away if you liked race with the devil you will love this movie \n",
      "\n"
     ]
    }
   ],
   "source": [
    "for i in numbers:\n",
    "    print(X_train[i], \"\\n\")"
   ]
  },
  {
   "cell_type": "markdown",
   "metadata": {
    "papermill": {
     "duration": 0.1139,
     "end_time": "2020-11-25T10:06:53.849414",
     "exception": false,
     "start_time": "2020-11-25T10:06:53.735514",
     "status": "completed"
    },
    "tags": []
   },
   "source": [
    "Transformando os textos em vetores, cada posição com uma palavra:"
   ]
  },
  {
   "cell_type": "code",
   "execution_count": 16,
   "metadata": {
    "execution": {
     "iopub.execute_input": "2020-11-25T10:06:54.125717Z",
     "iopub.status.busy": "2020-11-25T10:06:54.103353Z",
     "iopub.status.idle": "2020-11-25T10:06:55.044424Z",
     "shell.execute_reply": "2020-11-25T10:06:55.043555Z"
    },
    "papermill": {
     "duration": 1.080573,
     "end_time": "2020-11-25T10:06:55.044573",
     "exception": false,
     "start_time": "2020-11-25T10:06:53.964000",
     "status": "completed"
    },
    "tags": []
   },
   "outputs": [],
   "source": [
    "X_train = [x.split() for x in X_train]"
   ]
  },
  {
   "cell_type": "markdown",
   "metadata": {
    "papermill": {
     "duration": 0.116556,
     "end_time": "2020-11-25T10:06:55.278864",
     "exception": false,
     "start_time": "2020-11-25T10:06:55.162308",
     "status": "completed"
    },
    "tags": []
   },
   "source": [
    "Com isso, os textos estarão uniformizados e prontos para serem utilizados no Doc2Vec."
   ]
  },
  {
   "cell_type": "markdown",
   "metadata": {
    "papermill": {
     "duration": 0.117412,
     "end_time": "2020-11-25T10:06:55.512999",
     "exception": false,
     "start_time": "2020-11-25T10:06:55.395587",
     "status": "completed"
    },
    "tags": []
   },
   "source": [
    "# 3. Aplicando o modelo Doc2Vec:"
   ]
  },
  {
   "cell_type": "markdown",
   "metadata": {
    "papermill": {
     "duration": 0.115334,
     "end_time": "2020-11-25T10:06:55.745153",
     "exception": false,
     "start_time": "2020-11-25T10:06:55.629819",
     "status": "completed"
    },
    "tags": []
   },
   "source": [
    "Para esse exercício, já temos um Doc2Vec pré-treinado. Vamos importá-lo:"
   ]
  },
  {
   "cell_type": "code",
   "execution_count": 17,
   "metadata": {
    "execution": {
     "iopub.execute_input": "2020-11-25T10:06:55.982346Z",
     "iopub.status.busy": "2020-11-25T10:06:55.981439Z",
     "iopub.status.idle": "2020-11-25T10:06:56.859389Z",
     "shell.execute_reply": "2020-11-25T10:06:56.858684Z"
    },
    "papermill": {
     "duration": 0.998663,
     "end_time": "2020-11-25T10:06:56.859579",
     "exception": false,
     "start_time": "2020-11-25T10:06:55.860916",
     "status": "completed"
    },
    "tags": []
   },
   "outputs": [],
   "source": [
    "d2v = Doc2Vec.load(\"../input/sentiment-analysis-pmr3508/doc2vec\")"
   ]
  },
  {
   "cell_type": "markdown",
   "metadata": {
    "papermill": {
     "duration": 0.119391,
     "end_time": "2020-11-25T10:06:57.099891",
     "exception": false,
     "start_time": "2020-11-25T10:06:56.980500",
     "status": "completed"
    },
    "tags": []
   },
   "source": [
    "Agora, devemos atualizar os pesos da rede neural do Doc2Vec para os textos desse dataset. A seguir, vamos fixar uma seed para possibilitar resultados consistentes, e iremos definir que a descida do gradiente dê 30 passos."
   ]
  },
  {
   "cell_type": "code",
   "execution_count": 18,
   "metadata": {
    "execution": {
     "iopub.execute_input": "2020-11-25T10:06:57.340315Z",
     "iopub.status.busy": "2020-11-25T10:06:57.339206Z",
     "iopub.status.idle": "2020-11-25T10:06:57.342815Z",
     "shell.execute_reply": "2020-11-25T10:06:57.342079Z"
    },
    "papermill": {
     "duration": 0.12542,
     "end_time": "2020-11-25T10:06:57.342937",
     "exception": false,
     "start_time": "2020-11-25T10:06:57.217517",
     "status": "completed"
    },
    "tags": []
   },
   "outputs": [],
   "source": [
    "def emb(text, model, normalize = False): \n",
    "    model.random.seed(42)\n",
    "    x = model.infer_vector(text, steps = 20)\n",
    "    \n",
    "    if normalize: \n",
    "        return(x/np.sqrt(x@x))\n",
    "    \n",
    "    else: \n",
    "        return(x)"
   ]
  },
  {
   "cell_type": "markdown",
   "metadata": {
    "papermill": {
     "duration": 0.1157,
     "end_time": "2020-11-25T10:06:57.573061",
     "exception": false,
     "start_time": "2020-11-25T10:06:57.457361",
     "status": "completed"
    },
    "tags": []
   },
   "source": [
    "Utilizando a função acima, vamos obter os vetores correspondentes aos textos:"
   ]
  },
  {
   "cell_type": "code",
   "execution_count": 19,
   "metadata": {
    "execution": {
     "iopub.execute_input": "2020-11-25T10:06:57.818003Z",
     "iopub.status.busy": "2020-11-25T10:06:57.817023Z",
     "iopub.status.idle": "2020-11-25T10:11:03.783539Z",
     "shell.execute_reply": "2020-11-25T10:11:03.784420Z"
    },
    "papermill": {
     "duration": 246.090913,
     "end_time": "2020-11-25T10:11:03.784760",
     "exception": false,
     "start_time": "2020-11-25T10:06:57.693847",
     "status": "completed"
    },
    "tags": []
   },
   "outputs": [
    {
     "name": "stdout",
     "output_type": "stream",
     "text": [
      "CPU times: user 4min 5s, sys: 442 ms, total: 4min 5s\n",
      "Wall time: 4min 5s\n"
     ]
    }
   ],
   "source": [
    "%%time\n",
    "X_train = [emb(x, d2v) for x in X_train] \n",
    "X_train = np.array(X_train)"
   ]
  },
  {
   "cell_type": "markdown",
   "metadata": {
    "papermill": {
     "duration": 0.114637,
     "end_time": "2020-11-25T10:11:04.016491",
     "exception": false,
     "start_time": "2020-11-25T10:11:03.901854",
     "status": "completed"
    },
    "tags": []
   },
   "source": [
    "# 4. Criação e Treino das Redes Neurais:"
   ]
  },
  {
   "cell_type": "markdown",
   "metadata": {
    "papermill": {
     "duration": 0.115382,
     "end_time": "2020-11-25T10:11:04.246961",
     "exception": false,
     "start_time": "2020-11-25T10:11:04.131579",
     "status": "completed"
    },
    "tags": []
   },
   "source": [
    "## 4.1. Utilizando o SKLearn"
   ]
  },
  {
   "cell_type": "markdown",
   "metadata": {
    "papermill": {
     "duration": 0.137822,
     "end_time": "2020-11-25T10:11:04.505310",
     "exception": false,
     "start_time": "2020-11-25T10:11:04.367488",
     "status": "completed"
    },
    "tags": []
   },
   "source": [
    "### 4.1.1. Rede Neural 1 (SKLearn, 1 Camada)"
   ]
  },
  {
   "cell_type": "markdown",
   "metadata": {
    "papermill": {
     "duration": 0.115193,
     "end_time": "2020-11-25T10:11:04.740176",
     "exception": false,
     "start_time": "2020-11-25T10:11:04.624983",
     "status": "completed"
    },
    "tags": []
   },
   "source": [
    "Primeiro vamos inicializar a rede neural do pacote SKLearn, já adicionando a opção \"early_stopping\", que interrompe o treinamento caso a medida de acurácia não melhore em um determinado número de iterações."
   ]
  },
  {
   "cell_type": "code",
   "execution_count": 20,
   "metadata": {
    "execution": {
     "iopub.execute_input": "2020-11-25T10:11:04.978603Z",
     "iopub.status.busy": "2020-11-25T10:11:04.977707Z",
     "iopub.status.idle": "2020-11-25T10:11:04.982623Z",
     "shell.execute_reply": "2020-11-25T10:11:04.981923Z"
    },
    "papermill": {
     "duration": 0.126997,
     "end_time": "2020-11-25T10:11:04.982754",
     "exception": false,
     "start_time": "2020-11-25T10:11:04.855757",
     "status": "completed"
    },
    "tags": []
   },
   "outputs": [
    {
     "data": {
      "text/plain": [
       "{'activation': 'relu',\n",
       " 'alpha': 0.0001,\n",
       " 'batch_size': 'auto',\n",
       " 'beta_1': 0.9,\n",
       " 'beta_2': 0.999,\n",
       " 'early_stopping': True,\n",
       " 'epsilon': 1e-08,\n",
       " 'hidden_layer_sizes': (100,),\n",
       " 'learning_rate': 'constant',\n",
       " 'learning_rate_init': 0.001,\n",
       " 'max_fun': 15000,\n",
       " 'max_iter': 200,\n",
       " 'momentum': 0.9,\n",
       " 'n_iter_no_change': 10,\n",
       " 'nesterovs_momentum': True,\n",
       " 'power_t': 0.5,\n",
       " 'random_state': None,\n",
       " 'shuffle': True,\n",
       " 'solver': 'adam',\n",
       " 'tol': 0.0001,\n",
       " 'validation_fraction': 0.1,\n",
       " 'verbose': False,\n",
       " 'warm_start': False}"
      ]
     },
     "execution_count": 20,
     "metadata": {},
     "output_type": "execute_result"
    }
   ],
   "source": [
    "NN_SKLearn = neural_network.MLPClassifier(early_stopping = True)\n",
    "NN_SKLearn.get_params()"
   ]
  },
  {
   "cell_type": "markdown",
   "metadata": {
    "papermill": {
     "duration": 0.117207,
     "end_time": "2020-11-25T10:11:05.215734",
     "exception": false,
     "start_time": "2020-11-25T10:11:05.098527",
     "status": "completed"
    },
    "tags": []
   },
   "source": [
    "Vamos usar GridSearchCV para escolher as combinações de hiperparâmetros ideais. O \"alpha\" poderá assumir dois valores mais comuns, \"learning_rate\" será testado com as duas métricas possíveis, e o tamanho das camadas deve variar de 1 a 100, de modo a encontrar o melhor nesse intervalo. A métrica utilizada será a AUC, a área embaixo do gráfico da curva ROC."
   ]
  },
  {
   "cell_type": "code",
   "execution_count": 21,
   "metadata": {
    "execution": {
     "iopub.execute_input": "2020-11-25T10:11:05.467607Z",
     "iopub.status.busy": "2020-11-25T10:11:05.466685Z",
     "iopub.status.idle": "2020-11-25T10:11:05.469960Z",
     "shell.execute_reply": "2020-11-25T10:11:05.469215Z"
    },
    "papermill": {
     "duration": 0.133542,
     "end_time": "2020-11-25T10:11:05.470079",
     "exception": false,
     "start_time": "2020-11-25T10:11:05.336537",
     "status": "completed"
    },
    "tags": []
   },
   "outputs": [],
   "source": [
    "grid_params_NN_SKLearn = {\"alpha\":[0.0001, 0.001], \"learning_rate\":[\"constant\", \"adaptive\"], \n",
    "                          \"hidden_layer_sizes\":[i for i in range(1, 101)]}\n",
    "grid_NN_SKLearn = GridSearchCV(NN_SKLearn, grid_params_NN_SKLearn, n_jobs = -1, cv = 2, verbose = 1, scoring = \"roc_auc\")"
   ]
  },
  {
   "cell_type": "code",
   "execution_count": 22,
   "metadata": {
    "execution": {
     "iopub.execute_input": "2020-11-25T10:11:05.711699Z",
     "iopub.status.busy": "2020-11-25T10:11:05.710894Z",
     "iopub.status.idle": "2020-11-25T10:18:57.340389Z",
     "shell.execute_reply": "2020-11-25T10:18:57.339599Z"
    },
    "papermill": {
     "duration": 471.752976,
     "end_time": "2020-11-25T10:18:57.340520",
     "exception": false,
     "start_time": "2020-11-25T10:11:05.587544",
     "status": "completed"
    },
    "tags": []
   },
   "outputs": [
    {
     "name": "stdout",
     "output_type": "stream",
     "text": [
      "Fitting 2 folds for each of 400 candidates, totalling 800 fits\n"
     ]
    },
    {
     "name": "stderr",
     "output_type": "stream",
     "text": [
      "[Parallel(n_jobs=-1)]: Using backend LokyBackend with 4 concurrent workers.\n",
      "[Parallel(n_jobs=-1)]: Done  42 tasks      | elapsed:   23.1s\n",
      "[Parallel(n_jobs=-1)]: Done 192 tasks      | elapsed:  1.7min\n",
      "[Parallel(n_jobs=-1)]: Done 442 tasks      | elapsed:  4.3min\n",
      "[Parallel(n_jobs=-1)]: Done 792 tasks      | elapsed:  7.7min\n",
      "[Parallel(n_jobs=-1)]: Done 800 out of 800 | elapsed:  7.8min finished\n"
     ]
    },
    {
     "name": "stdout",
     "output_type": "stream",
     "text": [
      "Hiperparâmetros: MLPClassifier(early_stopping=True, hidden_layer_sizes=99,\n",
      "              learning_rate='adaptive')\n",
      "Melhor score: 0.8893809288397777\n",
      "CPU times: user 7.83 s, sys: 439 ms, total: 8.27 s\n",
      "Wall time: 7min 51s\n"
     ]
    }
   ],
   "source": [
    "%%time\n",
    "grid_NN_SKLearn.fit(X_train, Y_train)\n",
    "print(\"Hiperparâmetros:\", grid_NN_SKLearn.best_estimator_)\n",
    "print(\"Melhor score:\", grid_NN_SKLearn.best_score_)"
   ]
  },
  {
   "cell_type": "code",
   "execution_count": 23,
   "metadata": {
    "execution": {
     "iopub.execute_input": "2020-11-25T10:18:57.618294Z",
     "iopub.status.busy": "2020-11-25T10:18:57.617257Z",
     "iopub.status.idle": "2020-11-25T10:18:57.620761Z",
     "shell.execute_reply": "2020-11-25T10:18:57.620045Z"
    },
    "papermill": {
     "duration": 0.136814,
     "end_time": "2020-11-25T10:18:57.620880",
     "exception": false,
     "start_time": "2020-11-25T10:18:57.484066",
     "status": "completed"
    },
    "tags": []
   },
   "outputs": [],
   "source": [
    "NN_SKLearn = grid_NN_SKLearn.best_estimator_"
   ]
  },
  {
   "cell_type": "markdown",
   "metadata": {
    "papermill": {
     "duration": 0.1232,
     "end_time": "2020-11-25T10:18:57.863160",
     "exception": false,
     "start_time": "2020-11-25T10:18:57.739960",
     "status": "completed"
    },
    "tags": []
   },
   "source": [
    "### 4.1.2. Rede Neural 2 (SKLearn, 2 Camadas)"
   ]
  },
  {
   "cell_type": "markdown",
   "metadata": {
    "papermill": {
     "duration": 0.122763,
     "end_time": "2020-11-25T10:18:58.108147",
     "exception": false,
     "start_time": "2020-11-25T10:18:57.985384",
     "status": "completed"
    },
    "tags": []
   },
   "source": [
    "Vamos usar um tratamento semelhante ao realizado acima. No entanto, vamos restringir nossa busca a um intervalo de 50 a 100 neurônios, com um step de 10, na primeira camada, e de 20 até o número de neurônios da primeira."
   ]
  },
  {
   "cell_type": "code",
   "execution_count": 24,
   "metadata": {
    "execution": {
     "iopub.execute_input": "2020-11-25T10:18:58.362207Z",
     "iopub.status.busy": "2020-11-25T10:18:58.361130Z",
     "iopub.status.idle": "2020-11-25T10:18:58.364598Z",
     "shell.execute_reply": "2020-11-25T10:18:58.363908Z"
    },
    "papermill": {
     "duration": 0.134227,
     "end_time": "2020-11-25T10:18:58.364741",
     "exception": false,
     "start_time": "2020-11-25T10:18:58.230514",
     "status": "completed"
    },
    "tags": []
   },
   "outputs": [],
   "source": [
    "NN_SKLearn_2 = neural_network.MLPClassifier(early_stopping = True)"
   ]
  },
  {
   "cell_type": "code",
   "execution_count": 25,
   "metadata": {
    "execution": {
     "iopub.execute_input": "2020-11-25T10:18:58.620012Z",
     "iopub.status.busy": "2020-11-25T10:18:58.619008Z",
     "iopub.status.idle": "2020-11-25T10:18:58.622401Z",
     "shell.execute_reply": "2020-11-25T10:18:58.621652Z"
    },
    "papermill": {
     "duration": 0.133626,
     "end_time": "2020-11-25T10:18:58.622537",
     "exception": false,
     "start_time": "2020-11-25T10:18:58.488911",
     "status": "completed"
    },
    "tags": []
   },
   "outputs": [],
   "source": [
    "grid_params_NN_SKLearn_2 = {\"alpha\":[0.0001, 0.001], \"learning_rate\":[\"constant\", \"adaptive\"], \n",
    "                          \"hidden_layer_sizes\":[(i, j) for i in range(40, 101, 10) for j in range(20, i, 10)]}\n",
    "grid_NN_SKLearn_2 = GridSearchCV(NN_SKLearn_2, grid_params_NN_SKLearn_2, n_jobs = -1, cv = 2, verbose = 1, scoring = \"roc_auc\")"
   ]
  },
  {
   "cell_type": "code",
   "execution_count": 26,
   "metadata": {
    "execution": {
     "iopub.execute_input": "2020-11-25T10:18:58.873126Z",
     "iopub.status.busy": "2020-11-25T10:18:58.871994Z",
     "iopub.status.idle": "2020-11-25T10:22:47.443291Z",
     "shell.execute_reply": "2020-11-25T10:22:47.444330Z"
    },
    "papermill": {
     "duration": 228.701562,
     "end_time": "2020-11-25T10:22:47.444543",
     "exception": false,
     "start_time": "2020-11-25T10:18:58.742981",
     "status": "completed"
    },
    "tags": []
   },
   "outputs": [
    {
     "name": "stdout",
     "output_type": "stream",
     "text": [
      "Fitting 2 folds for each of 140 candidates, totalling 280 fits\n"
     ]
    },
    {
     "name": "stderr",
     "output_type": "stream",
     "text": [
      "[Parallel(n_jobs=-1)]: Using backend LokyBackend with 4 concurrent workers.\n",
      "[Parallel(n_jobs=-1)]: Done  42 tasks      | elapsed:   31.3s\n",
      "[Parallel(n_jobs=-1)]: Done 192 tasks      | elapsed:  2.5min\n",
      "[Parallel(n_jobs=-1)]: Done 280 out of 280 | elapsed:  3.7min finished\n"
     ]
    },
    {
     "name": "stdout",
     "output_type": "stream",
     "text": [
      "Hiperparâmetros: MLPClassifier(early_stopping=True, hidden_layer_sizes=(100, 80))\n",
      "Melhor score: 0.8904698207347547\n",
      "CPU times: user 12.7 s, sys: 222 ms, total: 12.9 s\n",
      "Wall time: 3min 48s\n"
     ]
    }
   ],
   "source": [
    "%%time\n",
    "grid_NN_SKLearn_2.fit(X_train, Y_train)\n",
    "print(\"Hiperparâmetros:\", grid_NN_SKLearn_2.best_estimator_)\n",
    "print(\"Melhor score:\", grid_NN_SKLearn_2.best_score_)"
   ]
  },
  {
   "cell_type": "code",
   "execution_count": 27,
   "metadata": {
    "execution": {
     "iopub.execute_input": "2020-11-25T10:22:47.704908Z",
     "iopub.status.busy": "2020-11-25T10:22:47.704133Z",
     "iopub.status.idle": "2020-11-25T10:22:47.706956Z",
     "shell.execute_reply": "2020-11-25T10:22:47.706262Z"
    },
    "papermill": {
     "duration": 0.133668,
     "end_time": "2020-11-25T10:22:47.707081",
     "exception": false,
     "start_time": "2020-11-25T10:22:47.573413",
     "status": "completed"
    },
    "tags": []
   },
   "outputs": [],
   "source": [
    "NN_SKLearn_2 = grid_NN_SKLearn_2.best_estimator_"
   ]
  },
  {
   "cell_type": "markdown",
   "metadata": {
    "papermill": {
     "duration": 0.123408,
     "end_time": "2020-11-25T10:22:47.956056",
     "exception": false,
     "start_time": "2020-11-25T10:22:47.832648",
     "status": "completed"
    },
    "tags": []
   },
   "source": [
    "## 4.2. Utilizando Tensorflow e Keras"
   ]
  },
  {
   "cell_type": "markdown",
   "metadata": {
    "papermill": {
     "duration": 0.122335,
     "end_time": "2020-11-25T10:22:48.201011",
     "exception": false,
     "start_time": "2020-11-25T10:22:48.078676",
     "status": "completed"
    },
    "tags": []
   },
   "source": [
    "Observando tanto o notebook fornecido por Felipe Maia quanto algumas sugestões no website do Tensorflow, é recomendado que a primeira rede neural criada com essa biblioteca seja do modelo sequencial. Nele, vamos criando e empilhando cada camada da rede. Precisamos, então, definir dois parâmetros: o número de camadas, e o número de hidden units em cada uma."
   ]
  },
  {
   "cell_type": "markdown",
   "metadata": {
    "papermill": {
     "duration": 0.145759,
     "end_time": "2020-11-25T10:22:48.469980",
     "exception": false,
     "start_time": "2020-11-25T10:22:48.324221",
     "status": "completed"
    },
    "tags": []
   },
   "source": [
    "Posteriormente, vamos criar outro modelo, utilizando duas camadas ocultas, com um algoritmo de Random Search, de modo a otimizar os hiperparâmetros pertinentes. Estes são dois valores de regularização (l1, l2), e o número de neurônios em cada camada. Vamos fixar o número de iterações do \"early stopping\" em dez, assim como ocorre no SKLearn."
   ]
  },
  {
   "cell_type": "markdown",
   "metadata": {
    "papermill": {
     "duration": 0.122913,
     "end_time": "2020-11-25T10:22:48.725274",
     "exception": false,
     "start_time": "2020-11-25T10:22:48.602361",
     "status": "completed"
    },
    "tags": []
   },
   "source": [
    "### 4.2.1. Rede Neural 3 (Modelo Sequencial 1)"
   ]
  },
  {
   "cell_type": "markdown",
   "metadata": {
    "papermill": {
     "duration": 0.123162,
     "end_time": "2020-11-25T10:22:48.972131",
     "exception": false,
     "start_time": "2020-11-25T10:22:48.848969",
     "status": "completed"
    },
    "tags": []
   },
   "source": [
    "Aqui, seguimos testes de tentativa e erro, de acordo com o que se pode imaginar que trará bons resultados. Utilizaremos o mesmo número de camadas e de neurônios por camada que atingiram o melhor resultado com o SKLearn, para visualizar a diferença em performance entre os dois métodos."
   ]
  },
  {
   "cell_type": "code",
   "execution_count": 28,
   "metadata": {
    "execution": {
     "iopub.execute_input": "2020-11-25T10:22:49.225134Z",
     "iopub.status.busy": "2020-11-25T10:22:49.224372Z",
     "iopub.status.idle": "2020-11-25T10:22:49.396194Z",
     "shell.execute_reply": "2020-11-25T10:22:49.395563Z"
    },
    "papermill": {
     "duration": 0.301749,
     "end_time": "2020-11-25T10:22:49.396351",
     "exception": false,
     "start_time": "2020-11-25T10:22:49.094602",
     "status": "completed"
    },
    "tags": []
   },
   "outputs": [],
   "source": [
    "n_features = X_train.shape[1] #Número de atributos que serão utilizados\n",
    "\n",
    "ops.reset_default_graph() #Resetando as redes neurais treinadas até aqui (importante para testes)\n",
    "\n",
    "NN_S1 = Sequential()\n",
    "NN_S1.add(Dense(100, activation = \"relu\", input_shape = (n_features,)))\n",
    "NN_S1.add(Dense(90, activation = \"relu\"))\n",
    "NN_S1.add(Dense(1, activation = \"sigmoid\"))"
   ]
  },
  {
   "cell_type": "markdown",
   "metadata": {
    "papermill": {
     "duration": 0.123698,
     "end_time": "2020-11-25T10:22:49.643813",
     "exception": false,
     "start_time": "2020-11-25T10:22:49.520115",
     "status": "completed"
    },
    "tags": []
   },
   "source": [
    "Podemos observar o número de parâmetros de cada rede definida:"
   ]
  },
  {
   "cell_type": "code",
   "execution_count": 29,
   "metadata": {
    "execution": {
     "iopub.execute_input": "2020-11-25T10:22:49.895934Z",
     "iopub.status.busy": "2020-11-25T10:22:49.895127Z",
     "iopub.status.idle": "2020-11-25T10:22:49.902078Z",
     "shell.execute_reply": "2020-11-25T10:22:49.901512Z"
    },
    "papermill": {
     "duration": 0.135453,
     "end_time": "2020-11-25T10:22:49.902210",
     "exception": false,
     "start_time": "2020-11-25T10:22:49.766757",
     "status": "completed"
    },
    "tags": []
   },
   "outputs": [
    {
     "name": "stdout",
     "output_type": "stream",
     "text": [
      "Model: \"sequential\"\n",
      "_________________________________________________________________\n",
      "Layer (type)                 Output Shape              Param #   \n",
      "=================================================================\n",
      "dense (Dense)                (None, 100)               5100      \n",
      "_________________________________________________________________\n",
      "dense_1 (Dense)              (None, 90)                9090      \n",
      "_________________________________________________________________\n",
      "dense_2 (Dense)              (None, 1)                 91        \n",
      "=================================================================\n",
      "Total params: 14,281\n",
      "Trainable params: 14,281\n",
      "Non-trainable params: 0\n",
      "_________________________________________________________________\n"
     ]
    }
   ],
   "source": [
    "NN_S1.summary()"
   ]
  },
  {
   "cell_type": "markdown",
   "metadata": {
    "papermill": {
     "duration": 0.125873,
     "end_time": "2020-11-25T10:22:50.151877",
     "exception": false,
     "start_time": "2020-11-25T10:22:50.026004",
     "status": "completed"
    },
    "tags": []
   },
   "source": [
    "Agora, os modelos precisam de duas funções para serem compilados: uma função loss e um otimizador. Como loss, vamos utilizar \"binary_crossentropy\", já que é um modelo de classificação binário, e a saída do modelo é uma probabilidade. Além disso, assim como na Rede Neural do SKLearn, vamos utilizar a AUC como métrica:"
   ]
  },
  {
   "cell_type": "code",
   "execution_count": 30,
   "metadata": {
    "execution": {
     "iopub.execute_input": "2020-11-25T10:22:50.412131Z",
     "iopub.status.busy": "2020-11-25T10:22:50.411419Z",
     "iopub.status.idle": "2020-11-25T10:22:50.427988Z",
     "shell.execute_reply": "2020-11-25T10:22:50.427206Z"
    },
    "papermill": {
     "duration": 0.151334,
     "end_time": "2020-11-25T10:22:50.428110",
     "exception": false,
     "start_time": "2020-11-25T10:22:50.276776",
     "status": "completed"
    },
    "tags": []
   },
   "outputs": [],
   "source": [
    "NN_S1.compile(optimizer = \"adam\", loss = \"binary_crossentropy\", metrics = [keras.metrics.AUC()])"
   ]
  },
  {
   "cell_type": "markdown",
   "metadata": {
    "papermill": {
     "duration": 0.124021,
     "end_time": "2020-11-25T10:22:50.677817",
     "exception": false,
     "start_time": "2020-11-25T10:22:50.553796",
     "status": "completed"
    },
    "tags": []
   },
   "source": [
    "Para treinar os modelos, vamos definir o tamanho dos \"lotes\", além da fração dos dados que serão separados para validação e o número máximo de iterações (epochs). Para separar os dados de validação, usamos a seguinte função:"
   ]
  },
  {
   "cell_type": "code",
   "execution_count": 31,
   "metadata": {
    "execution": {
     "iopub.execute_input": "2020-11-25T10:22:50.940064Z",
     "iopub.status.busy": "2020-11-25T10:22:50.939213Z",
     "iopub.status.idle": "2020-11-25T10:22:50.947317Z",
     "shell.execute_reply": "2020-11-25T10:22:50.946659Z"
    },
    "papermill": {
     "duration": 0.144176,
     "end_time": "2020-11-25T10:22:50.947441",
     "exception": false,
     "start_time": "2020-11-25T10:22:50.803265",
     "status": "completed"
    },
    "tags": []
   },
   "outputs": [],
   "source": [
    "X_train1, X_val, Y_train1, Y_val = train_test_split(X_train, Y_train, test_size=0.20)"
   ]
  },
  {
   "cell_type": "code",
   "execution_count": 32,
   "metadata": {
    "execution": {
     "iopub.execute_input": "2020-11-25T10:22:51.202351Z",
     "iopub.status.busy": "2020-11-25T10:22:51.201625Z",
     "iopub.status.idle": "2020-11-25T10:23:14.995100Z",
     "shell.execute_reply": "2020-11-25T10:23:14.994349Z"
    },
    "papermill": {
     "duration": 23.923253,
     "end_time": "2020-11-25T10:23:14.995233",
     "exception": false,
     "start_time": "2020-11-25T10:22:51.071980",
     "status": "completed"
    },
    "scrolled": true,
    "tags": []
   },
   "outputs": [
    {
     "name": "stdout",
     "output_type": "stream",
     "text": [
      "Epoch 1/50\n",
      "208/208 [==============================] - 1s 3ms/step - loss: 0.4647 - auc: 0.8648 - val_loss: 0.4265 - val_auc: 0.8889\n",
      "Epoch 2/50\n",
      "208/208 [==============================] - 0s 2ms/step - loss: 0.4151 - auc: 0.8925 - val_loss: 0.4178 - val_auc: 0.8910\n",
      "Epoch 3/50\n",
      "208/208 [==============================] - 0s 2ms/step - loss: 0.4030 - auc: 0.8989 - val_loss: 0.4158 - val_auc: 0.8918\n",
      "Epoch 4/50\n",
      "208/208 [==============================] - 0s 2ms/step - loss: 0.3943 - auc: 0.9033 - val_loss: 0.4137 - val_auc: 0.8927\n",
      "Epoch 5/50\n",
      "208/208 [==============================] - 0s 2ms/step - loss: 0.3845 - auc: 0.9082 - val_loss: 0.4184 - val_auc: 0.8926\n",
      "Epoch 6/50\n",
      "208/208 [==============================] - 0s 2ms/step - loss: 0.3749 - auc: 0.9129 - val_loss: 0.4173 - val_auc: 0.8923\n",
      "Epoch 7/50\n",
      "208/208 [==============================] - 0s 2ms/step - loss: 0.3665 - auc: 0.9171 - val_loss: 0.4268 - val_auc: 0.8900\n",
      "Epoch 8/50\n",
      "208/208 [==============================] - 0s 2ms/step - loss: 0.3604 - auc: 0.9200 - val_loss: 0.4227 - val_auc: 0.8902\n",
      "Epoch 9/50\n",
      "208/208 [==============================] - 0s 2ms/step - loss: 0.3517 - auc: 0.9239 - val_loss: 0.4294 - val_auc: 0.8884\n",
      "Epoch 10/50\n",
      "208/208 [==============================] - 0s 2ms/step - loss: 0.3457 - auc: 0.9265 - val_loss: 0.4304 - val_auc: 0.8862\n",
      "Epoch 11/50\n",
      "208/208 [==============================] - 0s 2ms/step - loss: 0.3374 - auc: 0.9302 - val_loss: 0.4405 - val_auc: 0.8883\n",
      "Epoch 12/50\n",
      "208/208 [==============================] - 0s 2ms/step - loss: 0.3310 - auc: 0.9329 - val_loss: 0.4394 - val_auc: 0.8861\n",
      "Epoch 13/50\n",
      "208/208 [==============================] - 0s 2ms/step - loss: 0.3235 - auc: 0.9361 - val_loss: 0.4438 - val_auc: 0.8848\n",
      "Epoch 14/50\n",
      "208/208 [==============================] - 0s 2ms/step - loss: 0.3181 - auc: 0.9383 - val_loss: 0.4521 - val_auc: 0.8847\n",
      "Epoch 15/50\n",
      "208/208 [==============================] - 0s 2ms/step - loss: 0.3107 - auc: 0.9412 - val_loss: 0.4609 - val_auc: 0.8770\n",
      "Epoch 16/50\n",
      "208/208 [==============================] - 0s 2ms/step - loss: 0.3035 - auc: 0.9441 - val_loss: 0.4578 - val_auc: 0.8783\n",
      "Epoch 17/50\n",
      "208/208 [==============================] - 0s 2ms/step - loss: 0.2962 - auc: 0.9470 - val_loss: 0.4611 - val_auc: 0.8788\n",
      "Epoch 18/50\n",
      "208/208 [==============================] - 0s 2ms/step - loss: 0.2917 - auc: 0.9485 - val_loss: 0.4647 - val_auc: 0.8783\n",
      "Epoch 19/50\n",
      "208/208 [==============================] - 0s 2ms/step - loss: 0.2828 - auc: 0.9518 - val_loss: 0.4740 - val_auc: 0.8762\n",
      "Epoch 20/50\n",
      "208/208 [==============================] - 0s 2ms/step - loss: 0.2770 - auc: 0.9539 - val_loss: 0.4797 - val_auc: 0.8771\n",
      "Epoch 21/50\n",
      "208/208 [==============================] - 0s 2ms/step - loss: 0.2694 - auc: 0.9566 - val_loss: 0.4960 - val_auc: 0.8758\n",
      "Epoch 22/50\n",
      "208/208 [==============================] - 0s 2ms/step - loss: 0.2637 - auc: 0.9585 - val_loss: 0.4997 - val_auc: 0.8743\n",
      "Epoch 23/50\n",
      "208/208 [==============================] - 0s 2ms/step - loss: 0.2582 - auc: 0.9602 - val_loss: 0.5028 - val_auc: 0.8682\n",
      "Epoch 24/50\n",
      "208/208 [==============================] - 0s 2ms/step - loss: 0.2508 - auc: 0.9626 - val_loss: 0.5052 - val_auc: 0.8685\n",
      "Epoch 25/50\n",
      "208/208 [==============================] - 0s 2ms/step - loss: 0.2480 - auc: 0.9634 - val_loss: 0.5214 - val_auc: 0.8704\n",
      "Epoch 26/50\n",
      "208/208 [==============================] - 0s 2ms/step - loss: 0.2390 - auc: 0.9663 - val_loss: 0.5271 - val_auc: 0.8716\n",
      "Epoch 27/50\n",
      "208/208 [==============================] - 0s 2ms/step - loss: 0.2337 - auc: 0.9679 - val_loss: 0.5384 - val_auc: 0.8663\n",
      "Epoch 28/50\n",
      "208/208 [==============================] - 0s 2ms/step - loss: 0.2273 - auc: 0.9696 - val_loss: 0.5474 - val_auc: 0.8698\n",
      "Epoch 29/50\n",
      "208/208 [==============================] - 0s 2ms/step - loss: 0.2234 - auc: 0.9707 - val_loss: 0.5558 - val_auc: 0.8645\n",
      "Epoch 30/50\n",
      "208/208 [==============================] - 0s 2ms/step - loss: 0.2197 - auc: 0.9718 - val_loss: 0.5681 - val_auc: 0.8641\n",
      "Epoch 31/50\n",
      "208/208 [==============================] - 0s 2ms/step - loss: 0.2116 - auc: 0.9739 - val_loss: 0.5707 - val_auc: 0.8636\n",
      "Epoch 32/50\n",
      "208/208 [==============================] - 0s 2ms/step - loss: 0.2090 - auc: 0.9745 - val_loss: 0.5823 - val_auc: 0.8637\n",
      "Epoch 33/50\n",
      "208/208 [==============================] - 0s 2ms/step - loss: 0.2006 - auc: 0.9769 - val_loss: 0.5992 - val_auc: 0.8596\n",
      "Epoch 34/50\n",
      "208/208 [==============================] - 0s 2ms/step - loss: 0.1974 - auc: 0.9777 - val_loss: 0.6034 - val_auc: 0.8618\n",
      "Epoch 35/50\n",
      "208/208 [==============================] - 0s 2ms/step - loss: 0.1905 - auc: 0.9793 - val_loss: 0.6216 - val_auc: 0.8626\n",
      "Epoch 36/50\n",
      "208/208 [==============================] - 0s 2ms/step - loss: 0.1880 - auc: 0.9797 - val_loss: 0.6185 - val_auc: 0.8600\n",
      "Epoch 37/50\n",
      "208/208 [==============================] - 0s 2ms/step - loss: 0.1839 - auc: 0.9807 - val_loss: 0.6359 - val_auc: 0.8584\n",
      "Epoch 38/50\n",
      "208/208 [==============================] - 0s 2ms/step - loss: 0.1762 - auc: 0.9826 - val_loss: 0.6525 - val_auc: 0.8576\n",
      "Epoch 39/50\n",
      "208/208 [==============================] - 0s 2ms/step - loss: 0.1746 - auc: 0.9827 - val_loss: 0.6629 - val_auc: 0.8567\n",
      "Epoch 40/50\n",
      "208/208 [==============================] - 0s 2ms/step - loss: 0.1694 - auc: 0.9839 - val_loss: 0.6655 - val_auc: 0.8577\n",
      "Epoch 41/50\n",
      "208/208 [==============================] - 0s 2ms/step - loss: 0.1648 - auc: 0.9849 - val_loss: 0.6886 - val_auc: 0.8616\n",
      "Epoch 42/50\n",
      "208/208 [==============================] - 1s 3ms/step - loss: 0.1595 - auc: 0.9859 - val_loss: 0.7227 - val_auc: 0.8576\n",
      "Epoch 43/50\n",
      "208/208 [==============================] - 1s 3ms/step - loss: 0.1593 - auc: 0.9859 - val_loss: 0.7105 - val_auc: 0.8551\n",
      "Epoch 44/50\n",
      "208/208 [==============================] - 0s 2ms/step - loss: 0.1518 - auc: 0.9873 - val_loss: 0.7256 - val_auc: 0.8546\n",
      "Epoch 45/50\n",
      "208/208 [==============================] - 0s 2ms/step - loss: 0.1499 - auc: 0.9876 - val_loss: 0.7295 - val_auc: 0.8515\n",
      "Epoch 46/50\n",
      "208/208 [==============================] - 0s 2ms/step - loss: 0.1439 - auc: 0.9888 - val_loss: 0.7388 - val_auc: 0.8525\n",
      "Epoch 47/50\n",
      "208/208 [==============================] - 0s 2ms/step - loss: 0.1390 - auc: 0.9896 - val_loss: 0.7742 - val_auc: 0.8437\n",
      "Epoch 48/50\n",
      "208/208 [==============================] - 0s 2ms/step - loss: 0.1359 - auc: 0.9902 - val_loss: 0.7687 - val_auc: 0.8502\n",
      "Epoch 49/50\n",
      "208/208 [==============================] - 0s 2ms/step - loss: 0.1337 - auc: 0.9904 - val_loss: 0.7805 - val_auc: 0.8488\n",
      "Epoch 50/50\n",
      "208/208 [==============================] - 0s 2ms/step - loss: 0.1322 - auc: 0.9904 - val_loss: 0.7904 - val_auc: 0.8450\n"
     ]
    }
   ],
   "source": [
    "history_S1 = NN_S1.fit(X_train1, Y_train1, validation_data = (X_val, Y_val), epochs = 50, batch_size = 96, \n",
    "                          shuffle=True, verbose=1)"
   ]
  },
  {
   "cell_type": "markdown",
   "metadata": {
    "papermill": {
     "duration": 0.299725,
     "end_time": "2020-11-25T10:23:15.594219",
     "exception": false,
     "start_time": "2020-11-25T10:23:15.294494",
     "status": "completed"
    },
    "tags": []
   },
   "source": [
    "Note que adotar o mesmo número de camadas que deu o melhor resultado com o SKLearn não necessariamente produzirá o melhor resultado com Tensorflow/Keras. A seguir, no próximo modelo, vamos efetivamente otimizar os hiperparâmetros para esses módulos."
   ]
  },
  {
   "cell_type": "markdown",
   "metadata": {
    "papermill": {
     "duration": 0.298535,
     "end_time": "2020-11-25T10:23:16.199304",
     "exception": false,
     "start_time": "2020-11-25T10:23:15.900769",
     "status": "completed"
    },
    "tags": []
   },
   "source": [
    "### 4.2.2. Rede Neural 4 (Otimizada, Random Search)"
   ]
  },
  {
   "cell_type": "markdown",
   "metadata": {
    "papermill": {
     "duration": 0.343413,
     "end_time": "2020-11-25T10:23:16.849366",
     "exception": false,
     "start_time": "2020-11-25T10:23:16.505953",
     "status": "completed"
    },
    "tags": []
   },
   "source": [
    "Para regularização, utilizaremos uma estratégia do Tensorflow chamada \"Early Stopping\", ou seja, se a métrica de acurácia não melhorar dentro de um determinado número de iterações, o programa interrompe o treinamento, mesmo que o número total de epochs não tenha sido atingindo. Além disso, vamos restringir os pesos da rede, fazendo uso de duas penalizações, que devemos encontrar o valor ideal. Finalmente, temos que encontrar o tamanho ideal das duas camadas ocultas. No total, portanto, temos quatro números a serem otimizados."
   ]
  },
  {
   "cell_type": "markdown",
   "metadata": {
    "papermill": {
     "duration": 0.297102,
     "end_time": "2020-11-25T10:23:17.446874",
     "exception": false,
     "start_time": "2020-11-25T10:23:17.149772",
     "status": "completed"
    },
    "tags": []
   },
   "source": [
    "Faremos uso de uma metodologia de Random Search. A partir de uma variedade de valores, será escolhida aleatoriamente uma combinação de quatro valores: um para o número de perceptrons de cada camada escondida (n1 e n2); e um para cada penalização (l1 e l2). No total, serão escolhidas 200 dessas combinações."
   ]
  },
  {
   "cell_type": "code",
   "execution_count": 33,
   "metadata": {
    "execution": {
     "iopub.execute_input": "2020-11-25T10:23:18.060558Z",
     "iopub.status.busy": "2020-11-25T10:23:18.059471Z",
     "iopub.status.idle": "2020-11-25T10:23:18.063289Z",
     "shell.execute_reply": "2020-11-25T10:23:18.062519Z"
    },
    "papermill": {
     "duration": 0.319098,
     "end_time": "2020-11-25T10:23:18.063416",
     "exception": false,
     "start_time": "2020-11-25T10:23:17.744318",
     "status": "completed"
    },
    "tags": []
   },
   "outputs": [],
   "source": [
    "n_iter = 200\n",
    "\n",
    "n_neurons = []\n",
    "pen = []\n",
    "\n",
    "for i in range(n_iter): #Gerando as 200 combinações:\n",
    "    n1 = random.randrange(25, 101, 5) #Assim como feito na Rede Neural 2, vamos pegar apenas uma amostragem dos valores entre 25 e 100.\n",
    "    n2 = random.randrange(20, n1, 5)\n",
    "    n_neurons.append((n1, n2))\n",
    "    \n",
    "    l1 = random.choice([0, 1e-15, 1e-10, 1e-5, 1e-3, 1e-2, 1e-1])\n",
    "    l2 = random.choice([0, 1e-15, 1e-10, 1e-5, 1e-3, 1e-2, 1e-1])\n",
    "    pen.append((l1, l2))"
   ]
  },
  {
   "cell_type": "markdown",
   "metadata": {
    "papermill": {
     "duration": 0.305756,
     "end_time": "2020-11-25T10:23:18.670075",
     "exception": false,
     "start_time": "2020-11-25T10:23:18.364319",
     "status": "completed"
    },
    "tags": []
   },
   "source": [
    "Agora, vamos criar um DataFrame com as combinações obtidas:"
   ]
  },
  {
   "cell_type": "code",
   "execution_count": 34,
   "metadata": {
    "execution": {
     "iopub.execute_input": "2020-11-25T10:23:19.293492Z",
     "iopub.status.busy": "2020-11-25T10:23:19.292464Z",
     "iopub.status.idle": "2020-11-25T10:23:19.296814Z",
     "shell.execute_reply": "2020-11-25T10:23:19.297366Z"
    },
    "papermill": {
     "duration": 0.325366,
     "end_time": "2020-11-25T10:23:19.297523",
     "exception": false,
     "start_time": "2020-11-25T10:23:18.972157",
     "status": "completed"
    },
    "tags": []
   },
   "outputs": [
    {
     "data": {
      "text/html": [
       "<div>\n",
       "<style scoped>\n",
       "    .dataframe tbody tr th:only-of-type {\n",
       "        vertical-align: middle;\n",
       "    }\n",
       "\n",
       "    .dataframe tbody tr th {\n",
       "        vertical-align: top;\n",
       "    }\n",
       "\n",
       "    .dataframe thead th {\n",
       "        text-align: right;\n",
       "    }\n",
       "</style>\n",
       "<table border=\"1\" class=\"dataframe\">\n",
       "  <thead>\n",
       "    <tr style=\"text-align: right;\">\n",
       "      <th></th>\n",
       "      <th>n_neurons</th>\n",
       "      <th>penalizações</th>\n",
       "      <th>iterações</th>\n",
       "      <th>auc</th>\n",
       "    </tr>\n",
       "  </thead>\n",
       "  <tbody>\n",
       "    <tr>\n",
       "      <th>0</th>\n",
       "      <td>(70, 25)</td>\n",
       "      <td>(0, 0.001)</td>\n",
       "      <td>None</td>\n",
       "      <td>None</td>\n",
       "    </tr>\n",
       "    <tr>\n",
       "      <th>1</th>\n",
       "      <td>(50, 25)</td>\n",
       "      <td>(1e-10, 0.01)</td>\n",
       "      <td>None</td>\n",
       "      <td>None</td>\n",
       "    </tr>\n",
       "    <tr>\n",
       "      <th>2</th>\n",
       "      <td>(90, 45)</td>\n",
       "      <td>(0.001, 1e-10)</td>\n",
       "      <td>None</td>\n",
       "      <td>None</td>\n",
       "    </tr>\n",
       "    <tr>\n",
       "      <th>3</th>\n",
       "      <td>(35, 30)</td>\n",
       "      <td>(1e-05, 0.1)</td>\n",
       "      <td>None</td>\n",
       "      <td>None</td>\n",
       "    </tr>\n",
       "    <tr>\n",
       "      <th>4</th>\n",
       "      <td>(100, 80)</td>\n",
       "      <td>(1e-10, 0.1)</td>\n",
       "      <td>None</td>\n",
       "      <td>None</td>\n",
       "    </tr>\n",
       "  </tbody>\n",
       "</table>\n",
       "</div>"
      ],
      "text/plain": [
       "   n_neurons    penalizações iterações   auc\n",
       "0   (70, 25)      (0, 0.001)      None  None\n",
       "1   (50, 25)   (1e-10, 0.01)      None  None\n",
       "2   (90, 45)  (0.001, 1e-10)      None  None\n",
       "3   (35, 30)    (1e-05, 0.1)      None  None\n",
       "4  (100, 80)    (1e-10, 0.1)      None  None"
      ]
     },
     "execution_count": 34,
     "metadata": {},
     "output_type": "execute_result"
    }
   ],
   "source": [
    "params = {\"n_neurons\": n_neurons, \"penalizações\": pen, \"iterações\": n_iter*[None], \"auc\": n_iter*[None]}\n",
    "params = pd.DataFrame(params)\n",
    "params = params[[\"n_neurons\", \"penalizações\", \"iterações\", \"auc\"]]\n",
    "params.head()"
   ]
  },
  {
   "cell_type": "markdown",
   "metadata": {
    "papermill": {
     "duration": 0.307255,
     "end_time": "2020-11-25T10:23:19.902055",
     "exception": false,
     "start_time": "2020-11-25T10:23:19.594800",
     "status": "completed"
    },
    "tags": []
   },
   "source": [
    "Note que os outputs na camada \"n_neurons\" são tuplas que representam o número de neurônios na primeira e na segunda camada escondida, respectivamente; as saídas em \"penalizações\" são tuplas com os valores das duas regularizações apresentadas. \"iterações\" e \"auc\" serão completadas em seguida. A primeira irá armazenar o número de iterações completas até a parada, devido ao Early Stopping. Já a segunda deve armazenar o score de AUC no Early Stopping."
   ]
  },
  {
   "cell_type": "markdown",
   "metadata": {
    "papermill": {
     "duration": 0.312388,
     "end_time": "2020-11-25T10:23:20.521275",
     "exception": false,
     "start_time": "2020-11-25T10:23:20.208887",
     "status": "completed"
    },
    "tags": []
   },
   "source": [
    "Para completar a tabela, vamos definir uma função que cria modelos para treinamento:"
   ]
  },
  {
   "cell_type": "code",
   "execution_count": 35,
   "metadata": {
    "execution": {
     "iopub.execute_input": "2020-11-25T10:23:21.134380Z",
     "iopub.status.busy": "2020-11-25T10:23:21.133304Z",
     "iopub.status.idle": "2020-11-25T10:23:21.136838Z",
     "shell.execute_reply": "2020-11-25T10:23:21.136275Z"
    },
    "papermill": {
     "duration": 0.312241,
     "end_time": "2020-11-25T10:23:21.136963",
     "exception": false,
     "start_time": "2020-11-25T10:23:20.824722",
     "status": "completed"
    },
    "tags": []
   },
   "outputs": [],
   "source": [
    "def create_model(n_neurons = (10,10), pen = (.001, .001)):\n",
    "    \n",
    "    ops.reset_default_graph() #Resetando as redes neurais treinadas até aqui (importante para testes)\n",
    "    \n",
    "    model = Sequential()\n",
    "    model.add(Dense(n_neurons[0], input_shape = (n_features,), activation = \"relu\", \n",
    "                    kernel_regularizer = regularizers.l1_l2(l1 = pen[0], l2 = pen[1]), \n",
    "                    bias_regularizer = regularizers.l1_l2(l1 = pen[0], l2 = pen[1])))\n",
    "    model.add(Dense(n_neurons[1], activation = \"relu\", \n",
    "                    kernel_regularizer = regularizers.l1_l2(l1 = pen[0], l2 = pen[1]), \n",
    "                    bias_regularizer = regularizers.l1_l2(l1 = pen[0], l2 = pen[1])))\n",
    "    model.add(Dense(1, activation = \"sigmoid\", \n",
    "                    kernel_regularizer = regularizers.l1_l2(l1 = pen[0], l2 = pen[1]), \n",
    "                    bias_regularizer = regularizers.l1_l2(l1 = pen[0], l2 = pen[1])))\n",
    "    \n",
    "    model.compile(optimizer = \"adam\", loss = \"binary_crossentropy\", metrics = [keras.metrics.AUC()])\n",
    "    return model"
   ]
  },
  {
   "cell_type": "markdown",
   "metadata": {
    "papermill": {
     "duration": 0.312064,
     "end_time": "2020-11-25T10:23:21.753173",
     "exception": false,
     "start_time": "2020-11-25T10:23:21.441109",
     "status": "completed"
    },
    "tags": []
   },
   "source": [
    "Note que a diferença entre a definição dessa rede e da Rede Neural 3 é que, além de ter uma camada a mais, agora temos dois parâmetros que não estavam presentes: \"kernel_regularizer\" e \"bias_regularizer\", que são os valores de penalização que definimos. A explicação para os modelos de loss e metrics são os mesmos explicitados na Rede Neural 3."
   ]
  },
  {
   "cell_type": "markdown",
   "metadata": {
    "papermill": {
     "duration": 0.298091,
     "end_time": "2020-11-25T10:23:22.350856",
     "exception": false,
     "start_time": "2020-11-25T10:23:22.052765",
     "status": "completed"
    },
    "tags": []
   },
   "source": [
    "Primeiramente, vamos definir o Early Stopping que será utilizado: se a AUC em relação ao conjunto de validação não melhorar em dez iterações, o programa para:"
   ]
  },
  {
   "cell_type": "code",
   "execution_count": 36,
   "metadata": {
    "execution": {
     "iopub.execute_input": "2020-11-25T10:23:22.951027Z",
     "iopub.status.busy": "2020-11-25T10:23:22.950294Z",
     "iopub.status.idle": "2020-11-25T10:23:22.954016Z",
     "shell.execute_reply": "2020-11-25T10:23:22.953267Z"
    },
    "papermill": {
     "duration": 0.305341,
     "end_time": "2020-11-25T10:23:22.954143",
     "exception": false,
     "start_time": "2020-11-25T10:23:22.648802",
     "status": "completed"
    },
    "tags": []
   },
   "outputs": [],
   "source": [
    "es = EarlyStopping(monitor = \"val_auc\", patience = 10)"
   ]
  },
  {
   "cell_type": "markdown",
   "metadata": {
    "papermill": {
     "duration": 0.29862,
     "end_time": "2020-11-25T10:23:23.548658",
     "exception": false,
     "start_time": "2020-11-25T10:23:23.250038",
     "status": "completed"
    },
    "tags": []
   },
   "source": [
    "Agora vamos criar um modelo para cada combinação adquirida com o Random Search, finalizando o preenchimento da tabela:"
   ]
  },
  {
   "cell_type": "code",
   "execution_count": 37,
   "metadata": {
    "execution": {
     "iopub.execute_input": "2020-11-25T10:23:24.155044Z",
     "iopub.status.busy": "2020-11-25T10:23:24.154227Z",
     "iopub.status.idle": "2020-11-25T10:43:51.466457Z",
     "shell.execute_reply": "2020-11-25T10:43:51.463426Z"
    },
    "papermill": {
     "duration": 1227.615143,
     "end_time": "2020-11-25T10:43:51.466649",
     "exception": false,
     "start_time": "2020-11-25T10:23:23.851506",
     "status": "completed"
    },
    "tags": []
   },
   "outputs": [
    {
     "name": "stderr",
     "output_type": "stream",
     "text": [
      "100%|██████████| 200/200 [20:26<00:00,  6.13s/it]"
     ]
    },
    {
     "name": "stdout",
     "output_type": "stream",
     "text": [
      "CPU times: user 36min 47s, sys: 4min 36s, total: 41min 23s\n",
      "Wall time: 20min 26s\n"
     ]
    },
    {
     "name": "stderr",
     "output_type": "stream",
     "text": [
      "\n"
     ]
    }
   ],
   "source": [
    "%%time\n",
    "for i in tqdm(range(n_iter)):\n",
    "    model = create_model(params.loc[i, \"n_neurons\"], params.loc[i, \"penalizações\"])\n",
    "    \n",
    "    history = model.fit(X_train1, Y_train1, epochs = 50, validation_data = (X_val, Y_val), \n",
    "                        batch_size = 96, shuffle = True, verbose = False, callbacks = [es]) \n",
    "    \n",
    "    params.loc[i, \"iterações\"] = len(history.history[\"val_auc\"])\n",
    "    params.loc[i, \"auc\"] = history.history[\"val_auc\"][-1]"
   ]
  },
  {
   "cell_type": "markdown",
   "metadata": {
    "papermill": {
     "duration": 0.37773,
     "end_time": "2020-11-25T10:43:52.230934",
     "exception": false,
     "start_time": "2020-11-25T10:43:51.853204",
     "status": "completed"
    },
    "tags": []
   },
   "source": [
    "Vamos reordenar o dataframe, de modo que os modelos apareçam em ordem decrescente de acurácia:"
   ]
  },
  {
   "cell_type": "code",
   "execution_count": 38,
   "metadata": {
    "execution": {
     "iopub.execute_input": "2020-11-25T10:43:52.998985Z",
     "iopub.status.busy": "2020-11-25T10:43:52.997916Z",
     "iopub.status.idle": "2020-11-25T10:43:53.001643Z",
     "shell.execute_reply": "2020-11-25T10:43:53.000907Z"
    },
    "papermill": {
     "duration": 0.391173,
     "end_time": "2020-11-25T10:43:53.001763",
     "exception": false,
     "start_time": "2020-11-25T10:43:52.610590",
     "status": "completed"
    },
    "tags": []
   },
   "outputs": [],
   "source": [
    "params = params.sort_values(\"auc\", ascending = False)"
   ]
  },
  {
   "cell_type": "markdown",
   "metadata": {
    "papermill": {
     "duration": 0.392671,
     "end_time": "2020-11-25T10:43:53.776091",
     "exception": false,
     "start_time": "2020-11-25T10:43:53.383420",
     "status": "completed"
    },
    "tags": []
   },
   "source": [
    "Visualizando os dez melhores resultados:"
   ]
  },
  {
   "cell_type": "code",
   "execution_count": 39,
   "metadata": {
    "execution": {
     "iopub.execute_input": "2020-11-25T10:43:54.560158Z",
     "iopub.status.busy": "2020-11-25T10:43:54.559186Z",
     "iopub.status.idle": "2020-11-25T10:43:54.564595Z",
     "shell.execute_reply": "2020-11-25T10:43:54.563841Z"
    },
    "papermill": {
     "duration": 0.408516,
     "end_time": "2020-11-25T10:43:54.564726",
     "exception": false,
     "start_time": "2020-11-25T10:43:54.156210",
     "status": "completed"
    },
    "tags": []
   },
   "outputs": [
    {
     "data": {
      "text/html": [
       "<div>\n",
       "<style scoped>\n",
       "    .dataframe tbody tr th:only-of-type {\n",
       "        vertical-align: middle;\n",
       "    }\n",
       "\n",
       "    .dataframe tbody tr th {\n",
       "        vertical-align: top;\n",
       "    }\n",
       "\n",
       "    .dataframe thead th {\n",
       "        text-align: right;\n",
       "    }\n",
       "</style>\n",
       "<table border=\"1\" class=\"dataframe\">\n",
       "  <thead>\n",
       "    <tr style=\"text-align: right;\">\n",
       "      <th></th>\n",
       "      <th>n_neurons</th>\n",
       "      <th>penalizações</th>\n",
       "      <th>iterações</th>\n",
       "      <th>auc</th>\n",
       "    </tr>\n",
       "  </thead>\n",
       "  <tbody>\n",
       "    <tr>\n",
       "      <th>15</th>\n",
       "      <td>(60, 40)</td>\n",
       "      <td>(1e-15, 0.001)</td>\n",
       "      <td>11</td>\n",
       "      <td>0.894834</td>\n",
       "    </tr>\n",
       "    <tr>\n",
       "      <th>75</th>\n",
       "      <td>(50, 35)</td>\n",
       "      <td>(1e-10, 0.001)</td>\n",
       "      <td>11</td>\n",
       "      <td>0.894826</td>\n",
       "    </tr>\n",
       "    <tr>\n",
       "      <th>47</th>\n",
       "      <td>(50, 35)</td>\n",
       "      <td>(0, 0.001)</td>\n",
       "      <td>11</td>\n",
       "      <td>0.894576</td>\n",
       "    </tr>\n",
       "    <tr>\n",
       "      <th>104</th>\n",
       "      <td>(55, 45)</td>\n",
       "      <td>(0, 0.001)</td>\n",
       "      <td>11</td>\n",
       "      <td>0.894392</td>\n",
       "    </tr>\n",
       "    <tr>\n",
       "      <th>111</th>\n",
       "      <td>(75, 45)</td>\n",
       "      <td>(1e-10, 0.001)</td>\n",
       "      <td>11</td>\n",
       "      <td>0.8943</td>\n",
       "    </tr>\n",
       "    <tr>\n",
       "      <th>191</th>\n",
       "      <td>(70, 60)</td>\n",
       "      <td>(1e-05, 0.001)</td>\n",
       "      <td>11</td>\n",
       "      <td>0.894221</td>\n",
       "    </tr>\n",
       "    <tr>\n",
       "      <th>126</th>\n",
       "      <td>(35, 30)</td>\n",
       "      <td>(1e-05, 0)</td>\n",
       "      <td>11</td>\n",
       "      <td>0.894178</td>\n",
       "    </tr>\n",
       "    <tr>\n",
       "      <th>113</th>\n",
       "      <td>(65, 60)</td>\n",
       "      <td>(1e-05, 0.001)</td>\n",
       "      <td>11</td>\n",
       "      <td>0.894156</td>\n",
       "    </tr>\n",
       "    <tr>\n",
       "      <th>67</th>\n",
       "      <td>(30, 25)</td>\n",
       "      <td>(0, 1e-15)</td>\n",
       "      <td>11</td>\n",
       "      <td>0.894058</td>\n",
       "    </tr>\n",
       "    <tr>\n",
       "      <th>183</th>\n",
       "      <td>(60, 25)</td>\n",
       "      <td>(1e-15, 1e-05)</td>\n",
       "      <td>11</td>\n",
       "      <td>0.893933</td>\n",
       "    </tr>\n",
       "  </tbody>\n",
       "</table>\n",
       "</div>"
      ],
      "text/plain": [
       "    n_neurons    penalizações iterações       auc\n",
       "15   (60, 40)  (1e-15, 0.001)        11  0.894834\n",
       "75   (50, 35)  (1e-10, 0.001)        11  0.894826\n",
       "47   (50, 35)      (0, 0.001)        11  0.894576\n",
       "104  (55, 45)      (0, 0.001)        11  0.894392\n",
       "111  (75, 45)  (1e-10, 0.001)        11    0.8943\n",
       "191  (70, 60)  (1e-05, 0.001)        11  0.894221\n",
       "126  (35, 30)      (1e-05, 0)        11  0.894178\n",
       "113  (65, 60)  (1e-05, 0.001)        11  0.894156\n",
       "67   (30, 25)      (0, 1e-15)        11  0.894058\n",
       "183  (60, 25)  (1e-15, 1e-05)        11  0.893933"
      ]
     },
     "execution_count": 39,
     "metadata": {},
     "output_type": "execute_result"
    }
   ],
   "source": [
    "params.head(10)"
   ]
  },
  {
   "cell_type": "markdown",
   "metadata": {
    "papermill": {
     "duration": 0.372577,
     "end_time": "2020-11-25T10:43:55.316004",
     "exception": false,
     "start_time": "2020-11-25T10:43:54.943427",
     "status": "completed"
    },
    "tags": []
   },
   "source": [
    "Com a melhor rede encontrada, definimos e treinamos nosso modelo final:"
   ]
  },
  {
   "cell_type": "code",
   "execution_count": 40,
   "metadata": {
    "execution": {
     "iopub.execute_input": "2020-11-25T10:43:56.083565Z",
     "iopub.status.busy": "2020-11-25T10:43:56.082400Z",
     "iopub.status.idle": "2020-11-25T10:44:01.603148Z",
     "shell.execute_reply": "2020-11-25T10:44:01.602454Z"
    },
    "papermill": {
     "duration": 5.90723,
     "end_time": "2020-11-25T10:44:01.603307",
     "exception": false,
     "start_time": "2020-11-25T10:43:55.696077",
     "status": "completed"
    },
    "tags": []
   },
   "outputs": [
    {
     "name": "stdout",
     "output_type": "stream",
     "text": [
      "Epoch 1/11\n",
      "208/208 [==============================] - 1s 3ms/step - loss: 0.5638 - auc: 0.8568 - val_loss: 0.5020 - val_auc: 0.8873\n",
      "Epoch 2/11\n",
      "208/208 [==============================] - 0s 2ms/step - loss: 0.4858 - auc: 0.8911 - val_loss: 0.4795 - val_auc: 0.8904\n",
      "Epoch 3/11\n",
      "208/208 [==============================] - 0s 2ms/step - loss: 0.4660 - auc: 0.8954 - val_loss: 0.4690 - val_auc: 0.8909\n",
      "Epoch 4/11\n",
      "208/208 [==============================] - 0s 2ms/step - loss: 0.4544 - auc: 0.8974 - val_loss: 0.4601 - val_auc: 0.8928\n",
      "Epoch 5/11\n",
      "208/208 [==============================] - 0s 2ms/step - loss: 0.4443 - auc: 0.9000 - val_loss: 0.4561 - val_auc: 0.8936\n",
      "Epoch 6/11\n",
      "208/208 [==============================] - 0s 2ms/step - loss: 0.4375 - auc: 0.9018 - val_loss: 0.4491 - val_auc: 0.8945\n",
      "Epoch 7/11\n",
      "208/208 [==============================] - 0s 2ms/step - loss: 0.4319 - auc: 0.9036 - val_loss: 0.4496 - val_auc: 0.8934\n",
      "Epoch 8/11\n",
      "208/208 [==============================] - 0s 2ms/step - loss: 0.4277 - auc: 0.9050 - val_loss: 0.4474 - val_auc: 0.8938\n",
      "Epoch 9/11\n",
      "208/208 [==============================] - 0s 2ms/step - loss: 0.4232 - auc: 0.9066 - val_loss: 0.4468 - val_auc: 0.8942\n",
      "Epoch 10/11\n",
      "208/208 [==============================] - 0s 2ms/step - loss: 0.4203 - auc: 0.9080 - val_loss: 0.4457 - val_auc: 0.8941\n",
      "Epoch 11/11\n",
      "208/208 [==============================] - 0s 2ms/step - loss: 0.4163 - auc: 0.9098 - val_loss: 0.4497 - val_auc: 0.8937\n"
     ]
    }
   ],
   "source": [
    "n_neurons = params[\"n_neurons\"][0]\n",
    "pen = params[\"penalizações\"][0]\n",
    "epochs = params[\"iterações\"][0]\n",
    "\n",
    "NN_TF = create_model(n_neurons, pen)\n",
    "\n",
    "history = NN_TF.fit(X_train1, Y_train1, epochs = epochs, validation_data = (X_val, Y_val), \n",
    "                        batch_size = 96, shuffle = True, verbose = 1)"
   ]
  },
  {
   "cell_type": "markdown",
   "metadata": {
    "papermill": {
     "duration": 0.415448,
     "end_time": "2020-11-25T10:44:02.434459",
     "exception": false,
     "start_time": "2020-11-25T10:44:02.019011",
     "status": "completed"
    },
    "tags": []
   },
   "source": [
    "# 5. Modelos alternativos"
   ]
  },
  {
   "cell_type": "markdown",
   "metadata": {
    "papermill": {
     "duration": 0.414086,
     "end_time": "2020-11-25T10:44:03.269356",
     "exception": false,
     "start_time": "2020-11-25T10:44:02.855270",
     "status": "completed"
    },
    "tags": []
   },
   "source": [
    "## 5.1. KNN"
   ]
  },
  {
   "cell_type": "markdown",
   "metadata": {
    "papermill": {
     "duration": 0.44399,
     "end_time": "2020-11-25T10:44:04.126298",
     "exception": false,
     "start_time": "2020-11-25T10:44:03.682308",
     "status": "completed"
    },
    "tags": []
   },
   "source": [
    "Vamos definir o KNN e encontrar os melhores hiperparâmetros utilizando o método GridSearchCV. Buscaremos o \"k\" ótimo no intervalo de 3 a 35."
   ]
  },
  {
   "cell_type": "code",
   "execution_count": 41,
   "metadata": {
    "execution": {
     "iopub.execute_input": "2020-11-25T10:44:05.001119Z",
     "iopub.status.busy": "2020-11-25T10:44:05.000029Z",
     "iopub.status.idle": "2020-11-25T10:44:05.003098Z",
     "shell.execute_reply": "2020-11-25T10:44:05.003683Z"
    },
    "papermill": {
     "duration": 0.4274,
     "end_time": "2020-11-25T10:44:05.003852",
     "exception": false,
     "start_time": "2020-11-25T10:44:04.576452",
     "status": "completed"
    },
    "tags": []
   },
   "outputs": [],
   "source": [
    "knn = KNeighborsClassifier(algorithm = \"auto\", leaf_size = 30, n_jobs = -1)"
   ]
  },
  {
   "cell_type": "code",
   "execution_count": 42,
   "metadata": {
    "execution": {
     "iopub.execute_input": "2020-11-25T10:44:05.851313Z",
     "iopub.status.busy": "2020-11-25T10:44:05.850213Z",
     "iopub.status.idle": "2020-11-25T10:44:05.853525Z",
     "shell.execute_reply": "2020-11-25T10:44:05.854142Z"
    },
    "papermill": {
     "duration": 0.432936,
     "end_time": "2020-11-25T10:44:05.854331",
     "exception": false,
     "start_time": "2020-11-25T10:44:05.421395",
     "status": "completed"
    },
    "tags": []
   },
   "outputs": [],
   "source": [
    "grid_params_knn = {\"p\":[1, 2], \"n_neighbors\":[i for i in range(3, 36)]}\n",
    "grid_knn = GridSearchCV(knn, grid_params_knn, cv = 2, n_jobs = -1, verbose = 1, scoring = \"roc_auc\")"
   ]
  },
  {
   "cell_type": "code",
   "execution_count": 43,
   "metadata": {
    "execution": {
     "iopub.execute_input": "2020-11-25T10:44:06.687114Z",
     "iopub.status.busy": "2020-11-25T10:44:06.686320Z",
     "iopub.status.idle": "2020-11-25T11:07:15.492907Z",
     "shell.execute_reply": "2020-11-25T11:07:15.491042Z"
    },
    "papermill": {
     "duration": 1389.226588,
     "end_time": "2020-11-25T11:07:15.493038",
     "exception": false,
     "start_time": "2020-11-25T10:44:06.266450",
     "status": "completed"
    },
    "tags": []
   },
   "outputs": [
    {
     "name": "stdout",
     "output_type": "stream",
     "text": [
      "Fitting 2 folds for each of 66 candidates, totalling 132 fits\n"
     ]
    },
    {
     "name": "stderr",
     "output_type": "stream",
     "text": [
      "[Parallel(n_jobs=-1)]: Using backend LokyBackend with 4 concurrent workers.\n",
      "[Parallel(n_jobs=-1)]: Done  42 tasks      | elapsed:  8.0min\n",
      "[Parallel(n_jobs=-1)]: Done 132 out of 132 | elapsed: 23.1min finished\n"
     ]
    },
    {
     "name": "stdout",
     "output_type": "stream",
     "text": [
      "CPU times: user 907 ms, sys: 192 ms, total: 1.1 s\n",
      "Wall time: 23min 8s\n"
     ]
    },
    {
     "data": {
      "text/plain": [
       "GridSearchCV(cv=2, estimator=KNeighborsClassifier(n_jobs=-1), n_jobs=-1,\n",
       "             param_grid={'n_neighbors': [3, 4, 5, 6, 7, 8, 9, 10, 11, 12, 13,\n",
       "                                         14, 15, 16, 17, 18, 19, 20, 21, 22, 23,\n",
       "                                         24, 25, 26, 27, 28, 29, 30, 31, 32, ...],\n",
       "                         'p': [1, 2]},\n",
       "             scoring='roc_auc', verbose=1)"
      ]
     },
     "execution_count": 43,
     "metadata": {},
     "output_type": "execute_result"
    }
   ],
   "source": [
    "%%time\n",
    "grid_knn.fit(X_train, Y_train)"
   ]
  },
  {
   "cell_type": "code",
   "execution_count": 44,
   "metadata": {
    "execution": {
     "iopub.execute_input": "2020-11-25T11:07:16.335513Z",
     "iopub.status.busy": "2020-11-25T11:07:16.334632Z",
     "iopub.status.idle": "2020-11-25T11:07:16.338974Z",
     "shell.execute_reply": "2020-11-25T11:07:16.338393Z"
    },
    "papermill": {
     "duration": 0.425133,
     "end_time": "2020-11-25T11:07:16.339112",
     "exception": false,
     "start_time": "2020-11-25T11:07:15.913979",
     "status": "completed"
    },
    "tags": []
   },
   "outputs": [
    {
     "name": "stdout",
     "output_type": "stream",
     "text": [
      "Hiperparâmetros: KNeighborsClassifier(n_jobs=-1, n_neighbors=35)\n",
      "Melhor score: 0.8503667543153675\n"
     ]
    }
   ],
   "source": [
    "print(\"Hiperparâmetros:\", grid_knn.best_estimator_)\n",
    "print(\"Melhor score:\", grid_knn.best_score_)"
   ]
  },
  {
   "cell_type": "markdown",
   "metadata": {
    "papermill": {
     "duration": 0.422026,
     "end_time": "2020-11-25T11:07:17.199820",
     "exception": false,
     "start_time": "2020-11-25T11:07:16.777794",
     "status": "completed"
    },
    "tags": []
   },
   "source": [
    "Mantendo o melhor modelo:"
   ]
  },
  {
   "cell_type": "code",
   "execution_count": 45,
   "metadata": {
    "execution": {
     "iopub.execute_input": "2020-11-25T11:07:18.037505Z",
     "iopub.status.busy": "2020-11-25T11:07:18.036572Z",
     "iopub.status.idle": "2020-11-25T11:07:18.039193Z",
     "shell.execute_reply": "2020-11-25T11:07:18.039913Z"
    },
    "papermill": {
     "duration": 0.42404,
     "end_time": "2020-11-25T11:07:18.040061",
     "exception": false,
     "start_time": "2020-11-25T11:07:17.616021",
     "status": "completed"
    },
    "tags": []
   },
   "outputs": [],
   "source": [
    "knn = grid_knn.best_estimator_"
   ]
  },
  {
   "cell_type": "markdown",
   "metadata": {
    "papermill": {
     "duration": 0.418056,
     "end_time": "2020-11-25T11:07:18.878482",
     "exception": false,
     "start_time": "2020-11-25T11:07:18.460426",
     "status": "completed"
    },
    "tags": []
   },
   "source": [
    "## 5.2. SVM"
   ]
  },
  {
   "cell_type": "markdown",
   "metadata": {
    "papermill": {
     "duration": 0.417251,
     "end_time": "2020-11-25T11:07:19.710312",
     "exception": false,
     "start_time": "2020-11-25T11:07:19.293061",
     "status": "completed"
    },
    "tags": []
   },
   "source": [
    "Definindo o Support Vector Machine:"
   ]
  },
  {
   "cell_type": "code",
   "execution_count": 46,
   "metadata": {
    "execution": {
     "iopub.execute_input": "2020-11-25T11:07:20.578588Z",
     "iopub.status.busy": "2020-11-25T11:07:20.577818Z",
     "iopub.status.idle": "2020-11-25T11:07:20.581624Z",
     "shell.execute_reply": "2020-11-25T11:07:20.580851Z"
    },
    "papermill": {
     "duration": 0.453817,
     "end_time": "2020-11-25T11:07:20.581753",
     "exception": false,
     "start_time": "2020-11-25T11:07:20.127936",
     "status": "completed"
    },
    "tags": []
   },
   "outputs": [],
   "source": [
    "svm = svm.SVC(probability = True)"
   ]
  },
  {
   "cell_type": "markdown",
   "metadata": {
    "papermill": {
     "duration": 0.431372,
     "end_time": "2020-11-25T11:07:21.439731",
     "exception": false,
     "start_time": "2020-11-25T11:07:21.008359",
     "status": "completed"
    },
    "tags": []
   },
   "source": [
    "Também utilizando o GridSearchCV para encontrar hiperparâmetros ideais:"
   ]
  },
  {
   "cell_type": "code",
   "execution_count": 47,
   "metadata": {
    "execution": {
     "iopub.execute_input": "2020-11-25T11:07:22.300856Z",
     "iopub.status.busy": "2020-11-25T11:07:22.300070Z",
     "iopub.status.idle": "2020-11-25T11:07:22.303640Z",
     "shell.execute_reply": "2020-11-25T11:07:22.302881Z"
    },
    "papermill": {
     "duration": 0.424669,
     "end_time": "2020-11-25T11:07:22.303767",
     "exception": false,
     "start_time": "2020-11-25T11:07:21.879098",
     "status": "completed"
    },
    "tags": []
   },
   "outputs": [],
   "source": [
    "grid_params_svm = {\"C\":[0.1, 1, 10],  \n",
    "              \"kernel\":[\"linear\", \"rbf\"], \"probability\":[True]}  \n",
    "  \n",
    "grid_svm = GridSearchCV(svm, grid_params_svm, cv = 2, verbose = 1, n_jobs = -1, scoring = \"roc_auc\") "
   ]
  },
  {
   "cell_type": "code",
   "execution_count": 48,
   "metadata": {
    "execution": {
     "iopub.execute_input": "2020-11-25T11:07:23.137637Z",
     "iopub.status.busy": "2020-11-25T11:07:23.136901Z",
     "iopub.status.idle": "2020-11-25T11:22:00.112638Z",
     "shell.execute_reply": "2020-11-25T11:22:00.111954Z"
    },
    "papermill": {
     "duration": 877.394977,
     "end_time": "2020-11-25T11:22:00.112775",
     "exception": false,
     "start_time": "2020-11-25T11:07:22.717798",
     "status": "completed"
    },
    "tags": []
   },
   "outputs": [
    {
     "name": "stdout",
     "output_type": "stream",
     "text": [
      "Fitting 2 folds for each of 6 candidates, totalling 12 fits\n"
     ]
    },
    {
     "name": "stderr",
     "output_type": "stream",
     "text": [
      "[Parallel(n_jobs=-1)]: Using backend LokyBackend with 4 concurrent workers.\n",
      "/opt/conda/lib/python3.7/site-packages/joblib/externals/loky/process_executor.py:706: UserWarning: A worker stopped while some jobs were given to the executor. This can be caused by a too short worker timeout or by a memory leak.\n",
      "  \"timeout or by a memory leak.\", UserWarning\n",
      "[Parallel(n_jobs=-1)]: Done  12 out of  12 | elapsed:  9.3min finished\n"
     ]
    },
    {
     "name": "stdout",
     "output_type": "stream",
     "text": [
      "CPU times: user 5min 21s, sys: 258 ms, total: 5min 21s\n",
      "Wall time: 14min 36s\n"
     ]
    },
    {
     "data": {
      "text/plain": [
       "GridSearchCV(cv=2, estimator=SVC(probability=True), n_jobs=-1,\n",
       "             param_grid={'C': [0.1, 1, 10], 'kernel': ['linear', 'rbf'],\n",
       "                         'probability': [True]},\n",
       "             scoring='roc_auc', verbose=1)"
      ]
     },
     "execution_count": 48,
     "metadata": {},
     "output_type": "execute_result"
    }
   ],
   "source": [
    "%%time\n",
    "grid_svm.fit(X_train, Y_train) "
   ]
  },
  {
   "cell_type": "code",
   "execution_count": 49,
   "metadata": {
    "execution": {
     "iopub.execute_input": "2020-11-25T11:22:00.965712Z",
     "iopub.status.busy": "2020-11-25T11:22:00.964916Z",
     "iopub.status.idle": "2020-11-25T11:22:00.969319Z",
     "shell.execute_reply": "2020-11-25T11:22:00.968592Z"
    },
    "papermill": {
     "duration": 0.433112,
     "end_time": "2020-11-25T11:22:00.969446",
     "exception": false,
     "start_time": "2020-11-25T11:22:00.536334",
     "status": "completed"
    },
    "tags": []
   },
   "outputs": [
    {
     "name": "stdout",
     "output_type": "stream",
     "text": [
      "Hiperparâmetros: SVC(C=1, probability=True)\n",
      "Melhor score: 0.8871900877790198\n"
     ]
    }
   ],
   "source": [
    "print(\"Hiperparâmetros:\", grid_svm.best_estimator_)\n",
    "print(\"Melhor score:\", grid_svm.best_score_)"
   ]
  },
  {
   "cell_type": "markdown",
   "metadata": {
    "papermill": {
     "duration": 0.480274,
     "end_time": "2020-11-25T11:22:01.877225",
     "exception": false,
     "start_time": "2020-11-25T11:22:01.396951",
     "status": "completed"
    },
    "tags": []
   },
   "source": [
    "Mantendo o melhor modelo encontrado:"
   ]
  },
  {
   "cell_type": "code",
   "execution_count": 50,
   "metadata": {
    "execution": {
     "iopub.execute_input": "2020-11-25T11:22:02.721601Z",
     "iopub.status.busy": "2020-11-25T11:22:02.720826Z",
     "iopub.status.idle": "2020-11-25T11:22:02.723999Z",
     "shell.execute_reply": "2020-11-25T11:22:02.723270Z"
    },
    "papermill": {
     "duration": 0.429298,
     "end_time": "2020-11-25T11:22:02.724119",
     "exception": false,
     "start_time": "2020-11-25T11:22:02.294821",
     "status": "completed"
    },
    "tags": []
   },
   "outputs": [],
   "source": [
    "svm = grid_svm.best_estimator_"
   ]
  },
  {
   "cell_type": "markdown",
   "metadata": {
    "papermill": {
     "duration": 0.424094,
     "end_time": "2020-11-25T11:22:03.569292",
     "exception": false,
     "start_time": "2020-11-25T11:22:03.145198",
     "status": "completed"
    },
    "tags": []
   },
   "source": [
    "## 5.3. Regressão Logística"
   ]
  },
  {
   "cell_type": "markdown",
   "metadata": {
    "papermill": {
     "duration": 0.420773,
     "end_time": "2020-11-25T11:22:04.410800",
     "exception": false,
     "start_time": "2020-11-25T11:22:03.990027",
     "status": "completed"
    },
    "tags": []
   },
   "source": [
    "Vamos criar um modelo de regressão logística, selecionando os melhores hiperparâmetros também com GridSearchCV:"
   ]
  },
  {
   "cell_type": "code",
   "execution_count": 51,
   "metadata": {
    "execution": {
     "iopub.execute_input": "2020-11-25T11:22:05.265813Z",
     "iopub.status.busy": "2020-11-25T11:22:05.265018Z",
     "iopub.status.idle": "2020-11-25T11:23:17.979692Z",
     "shell.execute_reply": "2020-11-25T11:23:17.978481Z"
    },
    "papermill": {
     "duration": 73.145964,
     "end_time": "2020-11-25T11:23:17.979897",
     "exception": false,
     "start_time": "2020-11-25T11:22:04.833933",
     "status": "completed"
    },
    "tags": []
   },
   "outputs": [
    {
     "name": "stdout",
     "output_type": "stream",
     "text": [
      "Fitting 2 folds for each of 200 candidates, totalling 400 fits\n"
     ]
    },
    {
     "name": "stderr",
     "output_type": "stream",
     "text": [
      "[Parallel(n_jobs=-1)]: Using backend LokyBackend with 4 concurrent workers.\n",
      "[Parallel(n_jobs=-1)]: Done  33 tasks      | elapsed:    6.5s\n",
      "[Parallel(n_jobs=-1)]: Done 154 tasks      | elapsed:   28.2s\n",
      "[Parallel(n_jobs=-1)]: Done 357 tasks      | elapsed:  1.1min\n",
      "[Parallel(n_jobs=-1)]: Done 400 out of 400 | elapsed:  1.2min finished\n"
     ]
    },
    {
     "name": "stdout",
     "output_type": "stream",
     "text": [
      "CPU times: user 2.34 s, sys: 0 ns, total: 2.34 s\n",
      "Wall time: 1min 12s\n"
     ]
    },
    {
     "data": {
      "text/plain": [
       "GridSearchCV(cv=2,\n",
       "             estimator=LogisticRegression(random_state=36, solver='liblinear'),\n",
       "             n_jobs=-1,\n",
       "             param_grid={'C': [0.0, 0.10101010101010101, 0.20202020202020202,\n",
       "                               0.30303030303030304, 0.40404040404040403,\n",
       "                               0.5050505050505051, 0.6060606060606061,\n",
       "                               0.7070707070707071, 0.8080808080808081,\n",
       "                               0.9090909090909091, 1.0101010101010102,\n",
       "                               1.1111111111111112, 1.2121212121212122,\n",
       "                               1.31...1414141414141,\n",
       "                               1.5151515151515151, 1.6161616161616161,\n",
       "                               1.7171717171717171, 1.8181818181818181,\n",
       "                               1.9191919191919191, 2.0202020202020203,\n",
       "                               2.121212121212121, 2.2222222222222223,\n",
       "                               2.323232323232323, 2.4242424242424243,\n",
       "                               2.525252525252525, 2.6262626262626263,\n",
       "                               2.727272727272727, 2.8282828282828283,\n",
       "                               2.929292929292929, ...],\n",
       "                         'penalty': ['l2', 'l1']},\n",
       "             scoring='roc_auc', verbose=2)"
      ]
     },
     "execution_count": 51,
     "metadata": {},
     "output_type": "execute_result"
    }
   ],
   "source": [
    "%%time\n",
    "logreg = LogisticRegression(solver='liblinear',random_state=36)\n",
    "grid_params_logreg = {\"C\":[x for x in np.linspace(0,10,100)], \n",
    "                     \"penalty\":['l2', 'l1']}\n",
    "\n",
    "grid_logreg = GridSearchCV(logreg, grid_params_logreg, scoring = \"roc_auc\", \n",
    "                            cv = 2, n_jobs = -1, verbose = 2)\n",
    "\n",
    "grid_logreg.fit(X_train, Y_train) "
   ]
  },
  {
   "cell_type": "code",
   "execution_count": 52,
   "metadata": {
    "execution": {
     "iopub.execute_input": "2020-11-25T11:23:18.858366Z",
     "iopub.status.busy": "2020-11-25T11:23:18.857433Z",
     "iopub.status.idle": "2020-11-25T11:23:18.863466Z",
     "shell.execute_reply": "2020-11-25T11:23:18.862767Z"
    },
    "papermill": {
     "duration": 0.44895,
     "end_time": "2020-11-25T11:23:18.863601",
     "exception": false,
     "start_time": "2020-11-25T11:23:18.414651",
     "status": "completed"
    },
    "tags": []
   },
   "outputs": [
    {
     "name": "stdout",
     "output_type": "stream",
     "text": [
      "Hiperparâmetros: SVC(C=1, probability=True)\n",
      "Melhor score: 0.8871900877790198\n"
     ]
    }
   ],
   "source": [
    "print(\"Hiperparâmetros:\", grid_svm.best_estimator_)\n",
    "print(\"Melhor score:\", grid_svm.best_score_)"
   ]
  },
  {
   "cell_type": "markdown",
   "metadata": {
    "papermill": {
     "duration": 0.442022,
     "end_time": "2020-11-25T11:23:19.776766",
     "exception": false,
     "start_time": "2020-11-25T11:23:19.334744",
     "status": "completed"
    },
    "tags": []
   },
   "source": [
    "Mantendo o melhor modelo encontrado:"
   ]
  },
  {
   "cell_type": "code",
   "execution_count": 53,
   "metadata": {
    "execution": {
     "iopub.execute_input": "2020-11-25T11:23:20.641232Z",
     "iopub.status.busy": "2020-11-25T11:23:20.640476Z",
     "iopub.status.idle": "2020-11-25T11:23:20.643674Z",
     "shell.execute_reply": "2020-11-25T11:23:20.642916Z"
    },
    "papermill": {
     "duration": 0.435753,
     "end_time": "2020-11-25T11:23:20.643797",
     "exception": false,
     "start_time": "2020-11-25T11:23:20.208044",
     "status": "completed"
    },
    "tags": []
   },
   "outputs": [],
   "source": [
    "logreg = grid_logreg.best_estimator_"
   ]
  },
  {
   "cell_type": "markdown",
   "metadata": {
    "papermill": {
     "duration": 0.425954,
     "end_time": "2020-11-25T11:23:21.505283",
     "exception": false,
     "start_time": "2020-11-25T11:23:21.079329",
     "status": "completed"
    },
    "tags": []
   },
   "source": [
    "# 6. Tratamento dos dados de validação e de teste"
   ]
  },
  {
   "cell_type": "markdown",
   "metadata": {
    "papermill": {
     "duration": 0.430447,
     "end_time": "2020-11-25T11:23:22.376433",
     "exception": false,
     "start_time": "2020-11-25T11:23:21.945986",
     "status": "completed"
    },
    "tags": []
   },
   "source": [
    "Vamos tratar os dados de validação e de teste da mesma maneira que fizemos com os dados de treino."
   ]
  },
  {
   "cell_type": "markdown",
   "metadata": {
    "papermill": {
     "duration": 0.425845,
     "end_time": "2020-11-25T11:23:23.231121",
     "exception": false,
     "start_time": "2020-11-25T11:23:22.805276",
     "status": "completed"
    },
    "tags": []
   },
   "source": [
    "Importando validação e teste, respectivamente:"
   ]
  },
  {
   "cell_type": "code",
   "execution_count": 54,
   "metadata": {
    "execution": {
     "iopub.execute_input": "2020-11-25T11:23:24.099970Z",
     "iopub.status.busy": "2020-11-25T11:23:24.099130Z",
     "iopub.status.idle": "2020-11-25T11:23:24.453052Z",
     "shell.execute_reply": "2020-11-25T11:23:24.452017Z"
    },
    "papermill": {
     "duration": 0.796148,
     "end_time": "2020-11-25T11:23:24.453184",
     "exception": false,
     "start_time": "2020-11-25T11:23:23.657036",
     "status": "completed"
    },
    "tags": []
   },
   "outputs": [],
   "source": [
    "data_test1 = pd.read_csv(\"../input/sentiment-analysis-pmr3508/data_test1.csv\")\n",
    "data_test2_X = pd.read_csv(\"../input/sentiment-analysis-pmr3508/data_test2_X.csv\")"
   ]
  },
  {
   "cell_type": "markdown",
   "metadata": {
    "papermill": {
     "duration": 0.424069,
     "end_time": "2020-11-25T11:23:25.311236",
     "exception": false,
     "start_time": "2020-11-25T11:23:24.887167",
     "status": "completed"
    },
    "tags": []
   },
   "source": [
    "Vamos observar o início de cada um deles:"
   ]
  },
  {
   "cell_type": "code",
   "execution_count": 55,
   "metadata": {
    "execution": {
     "iopub.execute_input": "2020-11-25T11:23:26.183820Z",
     "iopub.status.busy": "2020-11-25T11:23:26.182710Z",
     "iopub.status.idle": "2020-11-25T11:23:26.186771Z",
     "shell.execute_reply": "2020-11-25T11:23:26.187540Z"
    },
    "papermill": {
     "duration": 0.448074,
     "end_time": "2020-11-25T11:23:26.187695",
     "exception": false,
     "start_time": "2020-11-25T11:23:25.739621",
     "status": "completed"
    },
    "tags": []
   },
   "outputs": [
    {
     "data": {
      "text/html": [
       "<div>\n",
       "<style scoped>\n",
       "    .dataframe tbody tr th:only-of-type {\n",
       "        vertical-align: middle;\n",
       "    }\n",
       "\n",
       "    .dataframe tbody tr th {\n",
       "        vertical-align: top;\n",
       "    }\n",
       "\n",
       "    .dataframe thead th {\n",
       "        text-align: right;\n",
       "    }\n",
       "</style>\n",
       "<table border=\"1\" class=\"dataframe\">\n",
       "  <thead>\n",
       "    <tr style=\"text-align: right;\">\n",
       "      <th></th>\n",
       "      <th>review</th>\n",
       "      <th>positive</th>\n",
       "    </tr>\n",
       "  </thead>\n",
       "  <tbody>\n",
       "    <tr>\n",
       "      <th>0</th>\n",
       "      <td>This was one of the most emotional movies I ha...</td>\n",
       "      <td>1</td>\n",
       "    </tr>\n",
       "    <tr>\n",
       "      <th>1</th>\n",
       "      <td>New Year's Day. The day after consuming a few ...</td>\n",
       "      <td>0</td>\n",
       "    </tr>\n",
       "    <tr>\n",
       "      <th>2</th>\n",
       "      <td>Before launching into whether this film is wor...</td>\n",
       "      <td>0</td>\n",
       "    </tr>\n",
       "    <tr>\n",
       "      <th>3</th>\n",
       "      <td>Critters 4 is a good movie. A bit of a twist t...</td>\n",
       "      <td>1</td>\n",
       "    </tr>\n",
       "    <tr>\n",
       "      <th>4</th>\n",
       "      <td>For connoisseurs of bad movies, Galaxina is a ...</td>\n",
       "      <td>0</td>\n",
       "    </tr>\n",
       "  </tbody>\n",
       "</table>\n",
       "</div>"
      ],
      "text/plain": [
       "                                              review  positive\n",
       "0  This was one of the most emotional movies I ha...         1\n",
       "1  New Year's Day. The day after consuming a few ...         0\n",
       "2  Before launching into whether this film is wor...         0\n",
       "3  Critters 4 is a good movie. A bit of a twist t...         1\n",
       "4  For connoisseurs of bad movies, Galaxina is a ...         0"
      ]
     },
     "execution_count": 55,
     "metadata": {},
     "output_type": "execute_result"
    }
   ],
   "source": [
    "data_test1.head()"
   ]
  },
  {
   "cell_type": "code",
   "execution_count": 56,
   "metadata": {
    "execution": {
     "iopub.execute_input": "2020-11-25T11:23:27.048158Z",
     "iopub.status.busy": "2020-11-25T11:23:27.047171Z",
     "iopub.status.idle": "2020-11-25T11:23:27.052077Z",
     "shell.execute_reply": "2020-11-25T11:23:27.051395Z"
    },
    "papermill": {
     "duration": 0.438709,
     "end_time": "2020-11-25T11:23:27.052199",
     "exception": false,
     "start_time": "2020-11-25T11:23:26.613490",
     "status": "completed"
    },
    "tags": []
   },
   "outputs": [
    {
     "data": {
      "text/html": [
       "<div>\n",
       "<style scoped>\n",
       "    .dataframe tbody tr th:only-of-type {\n",
       "        vertical-align: middle;\n",
       "    }\n",
       "\n",
       "    .dataframe tbody tr th {\n",
       "        vertical-align: top;\n",
       "    }\n",
       "\n",
       "    .dataframe thead th {\n",
       "        text-align: right;\n",
       "    }\n",
       "</style>\n",
       "<table border=\"1\" class=\"dataframe\">\n",
       "  <thead>\n",
       "    <tr style=\"text-align: right;\">\n",
       "      <th></th>\n",
       "      <th>review</th>\n",
       "    </tr>\n",
       "  </thead>\n",
       "  <tbody>\n",
       "    <tr>\n",
       "      <th>0</th>\n",
       "      <td>How is it in this day and era, people are stil...</td>\n",
       "    </tr>\n",
       "    <tr>\n",
       "      <th>1</th>\n",
       "      <td>I mean let's face it, all you have to do in mo...</td>\n",
       "    </tr>\n",
       "    <tr>\n",
       "      <th>2</th>\n",
       "      <td>\"RVAM\"'s reputation preceded it. I first heard...</td>\n",
       "    </tr>\n",
       "    <tr>\n",
       "      <th>3</th>\n",
       "      <td>A lot of the negative reviews here concentrate...</td>\n",
       "    </tr>\n",
       "    <tr>\n",
       "      <th>4</th>\n",
       "      <td>A SOUND OF THUNDER. One of the greatest short ...</td>\n",
       "    </tr>\n",
       "  </tbody>\n",
       "</table>\n",
       "</div>"
      ],
      "text/plain": [
       "                                              review\n",
       "0  How is it in this day and era, people are stil...\n",
       "1  I mean let's face it, all you have to do in mo...\n",
       "2  \"RVAM\"'s reputation preceded it. I first heard...\n",
       "3  A lot of the negative reviews here concentrate...\n",
       "4  A SOUND OF THUNDER. One of the greatest short ..."
      ]
     },
     "execution_count": 56,
     "metadata": {},
     "output_type": "execute_result"
    }
   ],
   "source": [
    "data_test2_X.head()"
   ]
  },
  {
   "cell_type": "markdown",
   "metadata": {
    "papermill": {
     "duration": 0.431178,
     "end_time": "2020-11-25T11:23:27.907699",
     "exception": false,
     "start_time": "2020-11-25T11:23:27.476521",
     "status": "completed"
    },
    "tags": []
   },
   "source": [
    "Note que data_test1 realmente é o conjunto de validação, por possuir tanto as reviews quanto a classificação. Já data_test2_X só possui as reviews. Essa base será utilizada para gerar um arquivo de predição para submissão à competição."
   ]
  },
  {
   "cell_type": "markdown",
   "metadata": {
    "papermill": {
     "duration": 0.434425,
     "end_time": "2020-11-25T11:23:28.774381",
     "exception": false,
     "start_time": "2020-11-25T11:23:28.339956",
     "status": "completed"
    },
    "tags": []
   },
   "source": [
    "Podemos observar que os dados de validação são bem balanceados, assim como os dados de treino. Há um número similar de avaliações positivas e negativas:"
   ]
  },
  {
   "cell_type": "code",
   "execution_count": 57,
   "metadata": {
    "execution": {
     "iopub.execute_input": "2020-11-25T11:23:29.672425Z",
     "iopub.status.busy": "2020-11-25T11:23:29.671298Z",
     "iopub.status.idle": "2020-11-25T11:23:29.676185Z",
     "shell.execute_reply": "2020-11-25T11:23:29.675590Z"
    },
    "papermill": {
     "duration": 0.473657,
     "end_time": "2020-11-25T11:23:29.676334",
     "exception": false,
     "start_time": "2020-11-25T11:23:29.202677",
     "status": "completed"
    },
    "tags": []
   },
   "outputs": [
    {
     "data": {
      "text/plain": [
       "0    6308\n",
       "1    6184\n",
       "Name: positive, dtype: int64"
      ]
     },
     "execution_count": 57,
     "metadata": {},
     "output_type": "execute_result"
    }
   ],
   "source": [
    "data_test1[\"positive\"].value_counts()"
   ]
  },
  {
   "cell_type": "markdown",
   "metadata": {
    "papermill": {
     "duration": 0.424257,
     "end_time": "2020-11-25T11:23:30.530054",
     "exception": false,
     "start_time": "2020-11-25T11:23:30.105797",
     "status": "completed"
    },
    "tags": []
   },
   "source": [
    "Vamos observar se há algum dado faltante em um dos dois datasets:"
   ]
  },
  {
   "cell_type": "code",
   "execution_count": 58,
   "metadata": {
    "execution": {
     "iopub.execute_input": "2020-11-25T11:23:31.442838Z",
     "iopub.status.busy": "2020-11-25T11:23:31.441724Z",
     "iopub.status.idle": "2020-11-25T11:23:31.446789Z",
     "shell.execute_reply": "2020-11-25T11:23:31.447403Z"
    },
    "papermill": {
     "duration": 0.474009,
     "end_time": "2020-11-25T11:23:31.447581",
     "exception": false,
     "start_time": "2020-11-25T11:23:30.973572",
     "status": "completed"
    },
    "tags": []
   },
   "outputs": [
    {
     "data": {
      "text/plain": [
       "review      0\n",
       "positive    0\n",
       "dtype: int64"
      ]
     },
     "execution_count": 58,
     "metadata": {},
     "output_type": "execute_result"
    }
   ],
   "source": [
    "data_test1.isnull().sum()"
   ]
  },
  {
   "cell_type": "code",
   "execution_count": 59,
   "metadata": {
    "execution": {
     "iopub.execute_input": "2020-11-25T11:23:32.353615Z",
     "iopub.status.busy": "2020-11-25T11:23:32.352547Z",
     "iopub.status.idle": "2020-11-25T11:23:32.356836Z",
     "shell.execute_reply": "2020-11-25T11:23:32.356206Z"
    },
    "papermill": {
     "duration": 0.451384,
     "end_time": "2020-11-25T11:23:32.356954",
     "exception": false,
     "start_time": "2020-11-25T11:23:31.905570",
     "status": "completed"
    },
    "tags": []
   },
   "outputs": [
    {
     "data": {
      "text/plain": [
       "review    0\n",
       "dtype: int64"
      ]
     },
     "execution_count": 59,
     "metadata": {},
     "output_type": "execute_result"
    }
   ],
   "source": [
    "data_test2_X.isnull().sum()"
   ]
  },
  {
   "cell_type": "markdown",
   "metadata": {
    "papermill": {
     "duration": 0.426099,
     "end_time": "2020-11-25T11:23:33.222171",
     "exception": false,
     "start_time": "2020-11-25T11:23:32.796072",
     "status": "completed"
    },
    "tags": []
   },
   "source": [
    "Como não há dados faltantes, continuamos nossa análise."
   ]
  },
  {
   "cell_type": "markdown",
   "metadata": {
    "papermill": {
     "duration": 0.429728,
     "end_time": "2020-11-25T11:23:34.081073",
     "exception": false,
     "start_time": "2020-11-25T11:23:33.651345",
     "status": "completed"
    },
    "tags": []
   },
   "source": [
    "Agora, buscamos por reviews duplicadas na base de validação (não fazemos isso na base de teste pois ela deve permanecer no tamanho original):"
   ]
  },
  {
   "cell_type": "code",
   "execution_count": 60,
   "metadata": {
    "execution": {
     "iopub.execute_input": "2020-11-25T11:23:35.005927Z",
     "iopub.status.busy": "2020-11-25T11:23:35.000969Z",
     "iopub.status.idle": "2020-11-25T11:23:35.062341Z",
     "shell.execute_reply": "2020-11-25T11:23:35.061611Z"
    },
    "papermill": {
     "duration": 0.505857,
     "end_time": "2020-11-25T11:23:35.062461",
     "exception": false,
     "start_time": "2020-11-25T11:23:34.556604",
     "status": "completed"
    },
    "tags": []
   },
   "outputs": [
    {
     "data": {
      "text/html": [
       "<div>\n",
       "<style scoped>\n",
       "    .dataframe tbody tr th:only-of-type {\n",
       "        vertical-align: middle;\n",
       "    }\n",
       "\n",
       "    .dataframe tbody tr th {\n",
       "        vertical-align: top;\n",
       "    }\n",
       "\n",
       "    .dataframe thead th {\n",
       "        text-align: right;\n",
       "    }\n",
       "</style>\n",
       "<table border=\"1\" class=\"dataframe\">\n",
       "  <thead>\n",
       "    <tr style=\"text-align: right;\">\n",
       "      <th></th>\n",
       "      <th>review</th>\n",
       "      <th>positive</th>\n",
       "    </tr>\n",
       "  </thead>\n",
       "  <tbody>\n",
       "    <tr>\n",
       "      <th>262</th>\n",
       "      <td>(Spoilers)&lt;br /&gt;&lt;br /&gt;Oh sure it's based on Mo...</td>\n",
       "      <td>0</td>\n",
       "    </tr>\n",
       "    <tr>\n",
       "      <th>6365</th>\n",
       "      <td>(Spoilers)&lt;br /&gt;&lt;br /&gt;Oh sure it's based on Mo...</td>\n",
       "      <td>0</td>\n",
       "    </tr>\n",
       "    <tr>\n",
       "      <th>6747</th>\n",
       "      <td>A lot about USA The Movie can be summed up in ...</td>\n",
       "      <td>1</td>\n",
       "    </tr>\n",
       "    <tr>\n",
       "      <th>5834</th>\n",
       "      <td>A lot about USA The Movie can be summed up in ...</td>\n",
       "      <td>1</td>\n",
       "    </tr>\n",
       "    <tr>\n",
       "      <th>4408</th>\n",
       "      <td>After reading previews for this movie I though...</td>\n",
       "      <td>1</td>\n",
       "    </tr>\n",
       "    <tr>\n",
       "      <th>...</th>\n",
       "      <td>...</td>\n",
       "      <td>...</td>\n",
       "    </tr>\n",
       "    <tr>\n",
       "      <th>11921</th>\n",
       "      <td>What a shocker. For starters, I couldn't stand...</td>\n",
       "      <td>0</td>\n",
       "    </tr>\n",
       "    <tr>\n",
       "      <th>11720</th>\n",
       "      <td>What the heck is this about? Kelly (jennifer) ...</td>\n",
       "      <td>0</td>\n",
       "    </tr>\n",
       "    <tr>\n",
       "      <th>10042</th>\n",
       "      <td>What the heck is this about? Kelly (jennifer) ...</td>\n",
       "      <td>0</td>\n",
       "    </tr>\n",
       "    <tr>\n",
       "      <th>6890</th>\n",
       "      <td>this movie sucks. did anyone notice that the e...</td>\n",
       "      <td>0</td>\n",
       "    </tr>\n",
       "    <tr>\n",
       "      <th>1821</th>\n",
       "      <td>this movie sucks. did anyone notice that the e...</td>\n",
       "      <td>0</td>\n",
       "    </tr>\n",
       "  </tbody>\n",
       "</table>\n",
       "<p>100 rows × 2 columns</p>\n",
       "</div>"
      ],
      "text/plain": [
       "                                                  review  positive\n",
       "262    (Spoilers)<br /><br />Oh sure it's based on Mo...         0\n",
       "6365   (Spoilers)<br /><br />Oh sure it's based on Mo...         0\n",
       "6747   A lot about USA The Movie can be summed up in ...         1\n",
       "5834   A lot about USA The Movie can be summed up in ...         1\n",
       "4408   After reading previews for this movie I though...         1\n",
       "...                                                  ...       ...\n",
       "11921  What a shocker. For starters, I couldn't stand...         0\n",
       "11720  What the heck is this about? Kelly (jennifer) ...         0\n",
       "10042  What the heck is this about? Kelly (jennifer) ...         0\n",
       "6890   this movie sucks. did anyone notice that the e...         0\n",
       "1821   this movie sucks. did anyone notice that the e...         0\n",
       "\n",
       "[100 rows x 2 columns]"
      ]
     },
     "execution_count": 60,
     "metadata": {},
     "output_type": "execute_result"
    }
   ],
   "source": [
    "data_test1[data_test1.duplicated([\"review\"], keep = False)].sort_values(by = \"review\")"
   ]
  },
  {
   "cell_type": "markdown",
   "metadata": {
    "papermill": {
     "duration": 0.434304,
     "end_time": "2020-11-25T11:23:35.924453",
     "exception": false,
     "start_time": "2020-11-25T11:23:35.490149",
     "status": "completed"
    },
    "tags": []
   },
   "source": [
    "Há algumas duplicatas, mas, assim como ocorreu com a base de treino, a chance de terem sido realmente submetidas mais de uma vez é muito baixa. Provavelmente se deram por um erro na coleta dos dados. Por isso, devemos manter apenas uma cópia de cada um."
   ]
  },
  {
   "cell_type": "code",
   "execution_count": 61,
   "metadata": {
    "execution": {
     "iopub.execute_input": "2020-11-25T11:23:36.804199Z",
     "iopub.status.busy": "2020-11-25T11:23:36.803417Z",
     "iopub.status.idle": "2020-11-25T11:23:36.852609Z",
     "shell.execute_reply": "2020-11-25T11:23:36.851790Z"
    },
    "papermill": {
     "duration": 0.493867,
     "end_time": "2020-11-25T11:23:36.852740",
     "exception": false,
     "start_time": "2020-11-25T11:23:36.358873",
     "status": "completed"
    },
    "tags": []
   },
   "outputs": [
    {
     "data": {
      "text/plain": [
       "(12441, 2)"
      ]
     },
     "execution_count": 61,
     "metadata": {},
     "output_type": "execute_result"
    }
   ],
   "source": [
    "data_test1 = data_test1.drop_duplicates(\"review\", keep = \"first\")\n",
    "data_test1.shape"
   ]
  },
  {
   "cell_type": "markdown",
   "metadata": {
    "papermill": {
     "duration": 0.429634,
     "end_time": "2020-11-25T11:23:37.709619",
     "exception": false,
     "start_time": "2020-11-25T11:23:37.279985",
     "status": "completed"
    },
    "tags": []
   },
   "source": [
    "Separando as duas variáveis do conjunto de validação:"
   ]
  },
  {
   "cell_type": "code",
   "execution_count": 62,
   "metadata": {
    "execution": {
     "iopub.execute_input": "2020-11-25T11:23:38.594598Z",
     "iopub.status.busy": "2020-11-25T11:23:38.593699Z",
     "iopub.status.idle": "2020-11-25T11:23:38.596702Z",
     "shell.execute_reply": "2020-11-25T11:23:38.597286Z"
    },
    "papermill": {
     "duration": 0.45465,
     "end_time": "2020-11-25T11:23:38.597465",
     "exception": false,
     "start_time": "2020-11-25T11:23:38.142815",
     "status": "completed"
    },
    "tags": []
   },
   "outputs": [],
   "source": [
    "Y_test = np.array(data_test1.positive.tolist())\n",
    "X_test = data_test1.review.tolist()"
   ]
  },
  {
   "cell_type": "markdown",
   "metadata": {
    "papermill": {
     "duration": 0.427974,
     "end_time": "2020-11-25T11:23:39.457086",
     "exception": false,
     "start_time": "2020-11-25T11:23:39.029112",
     "status": "completed"
    },
    "tags": []
   },
   "source": [
    "Agora vamos limpar os textos de ambas as bases, utilizando a função \"clean\", definida no início do notebook:"
   ]
  },
  {
   "cell_type": "code",
   "execution_count": 63,
   "metadata": {
    "execution": {
     "iopub.execute_input": "2020-11-25T11:23:40.343522Z",
     "iopub.status.busy": "2020-11-25T11:23:40.338137Z",
     "iopub.status.idle": "2020-11-25T11:24:48.109898Z",
     "shell.execute_reply": "2020-11-25T11:24:48.110568Z"
    },
    "papermill": {
     "duration": 68.221243,
     "end_time": "2020-11-25T11:24:48.110750",
     "exception": false,
     "start_time": "2020-11-25T11:23:39.889507",
     "status": "completed"
    },
    "tags": []
   },
   "outputs": [
    {
     "name": "stdout",
     "output_type": "stream",
     "text": [
      "CPU times: user 1min 7s, sys: 0 ns, total: 1min 7s\n",
      "Wall time: 1min 7s\n"
     ]
    }
   ],
   "source": [
    "%%time\n",
    "X_test = [clean(x) for x in X_test]\n",
    "X_test2 = data_test2_X.review.tolist()\n",
    "X_test2 = np.array([clean(x) for x in X_test2])"
   ]
  },
  {
   "cell_type": "markdown",
   "metadata": {
    "papermill": {
     "duration": 0.443479,
     "end_time": "2020-11-25T11:24:48.987226",
     "exception": false,
     "start_time": "2020-11-25T11:24:48.543747",
     "status": "completed"
    },
    "tags": []
   },
   "source": [
    "Tokenizando os textos:"
   ]
  },
  {
   "cell_type": "code",
   "execution_count": 64,
   "metadata": {
    "execution": {
     "iopub.execute_input": "2020-11-25T11:24:49.903083Z",
     "iopub.status.busy": "2020-11-25T11:24:49.898043Z",
     "iopub.status.idle": "2020-11-25T11:24:52.198453Z",
     "shell.execute_reply": "2020-11-25T11:24:52.199003Z"
    },
    "papermill": {
     "duration": 2.77344,
     "end_time": "2020-11-25T11:24:52.199176",
     "exception": false,
     "start_time": "2020-11-25T11:24:49.425736",
     "status": "completed"
    },
    "tags": []
   },
   "outputs": [],
   "source": [
    "X_test = [x.split() for x in X_test]\n",
    "X_test2 = [x.split() for x in X_test2]"
   ]
  },
  {
   "cell_type": "markdown",
   "metadata": {
    "papermill": {
     "duration": 0.432036,
     "end_time": "2020-11-25T11:24:53.065787",
     "exception": false,
     "start_time": "2020-11-25T11:24:52.633751",
     "status": "completed"
    },
    "tags": []
   },
   "source": [
    "Aplicando o modelo Doc2Vec:"
   ]
  },
  {
   "cell_type": "code",
   "execution_count": 65,
   "metadata": {
    "execution": {
     "iopub.execute_input": "2020-11-25T11:24:53.940931Z",
     "iopub.status.busy": "2020-11-25T11:24:53.940167Z",
     "iopub.status.idle": "2020-11-25T11:29:02.209137Z",
     "shell.execute_reply": "2020-11-25T11:29:02.209845Z"
    },
    "papermill": {
     "duration": 248.716104,
     "end_time": "2020-11-25T11:29:02.210113",
     "exception": false,
     "start_time": "2020-11-25T11:24:53.494009",
     "status": "completed"
    },
    "tags": []
   },
   "outputs": [
    {
     "name": "stdout",
     "output_type": "stream",
     "text": [
      "CPU times: user 4min 7s, sys: 0 ns, total: 4min 7s\n",
      "Wall time: 4min 7s\n"
     ]
    }
   ],
   "source": [
    "%%time\n",
    "X_test = [emb(x, d2v) for x in X_test] \n",
    "X_test = np.array(X_test)\n",
    "X_test2 = [emb(x, d2v) for x in X_test2] \n",
    "X_test2 = np.array(X_test2)"
   ]
  },
  {
   "cell_type": "markdown",
   "metadata": {
    "papermill": {
     "duration": 0.444021,
     "end_time": "2020-11-25T11:29:03.101069",
     "exception": false,
     "start_time": "2020-11-25T11:29:02.657048",
     "status": "completed"
    },
    "tags": []
   },
   "source": [
    "# 7. Validação e Score dos métodos definidos:"
   ]
  },
  {
   "cell_type": "markdown",
   "metadata": {
    "papermill": {
     "duration": 0.434352,
     "end_time": "2020-11-25T11:29:03.967733",
     "exception": false,
     "start_time": "2020-11-25T11:29:03.533381",
     "status": "completed"
    },
    "tags": []
   },
   "source": [
    "Agora, vamos gerar predições, utilizando o conjunto de validação, a partir dos modelos definidos até aqui: as redes neurais, o classificador KNN, a Support Vector Machine e a Regressão Logística. Vamos compará-las com a classificação correta. Assim, descobrimos aquele com maior acurácia:"
   ]
  },
  {
   "cell_type": "code",
   "execution_count": 66,
   "metadata": {
    "execution": {
     "iopub.execute_input": "2020-11-25T11:29:04.859930Z",
     "iopub.status.busy": "2020-11-25T11:29:04.858587Z",
     "iopub.status.idle": "2020-11-25T11:29:41.582884Z",
     "shell.execute_reply": "2020-11-25T11:29:41.583682Z"
    },
    "papermill": {
     "duration": 37.180807,
     "end_time": "2020-11-25T11:29:41.583873",
     "exception": false,
     "start_time": "2020-11-25T11:29:04.403066",
     "status": "completed"
    },
    "scrolled": true,
    "tags": []
   },
   "outputs": [
    {
     "name": "stdout",
     "output_type": "stream",
     "text": [
      "AUC --- NN_SKLearn: 0.8880\n",
      "AUC --- NN_SKLearn_2: 0.8918\n",
      "AUC --- NN_S1: 0.8439\n",
      "AUC --- NN_TF: 0.8930\n",
      "AUC --- KNN: 0.8572\n",
      "AUC --- SVM: 0.8925\n",
      "AUCs --- Log. Reg.: 0.8835\n"
     ]
    }
   ],
   "source": [
    "print(\"AUC --- NN_SKLearn: {:.4f}\".format(roc_auc_score(Y_test, NN_SKLearn.predict_proba(X_test)[:,1])))\n",
    "print(\"AUC --- NN_SKLearn_2: {:.4f}\".format(roc_auc_score(Y_test, NN_SKLearn_2.predict_proba(X_test)[:,1])))\n",
    "print(\"AUC --- NN_S1: {:.4f}\".format(roc_auc_score(Y_test, NN_S1.predict(X_test).squeeze())))\n",
    "print(\"AUC --- NN_TF: {:.4f}\".format(roc_auc_score(Y_test, NN_TF.predict(X_test).squeeze())))\n",
    "print(\"AUC --- KNN: {:.4f}\".format(roc_auc_score(Y_test, knn.predict_proba(X_test)[:,1])))\n",
    "print(\"AUC --- SVM: {:.4f}\".format(roc_auc_score(Y_test, svm.predict_proba(X_test)[:,1])))\n",
    "print('AUCs --- Log. Reg.: {:.4f}'.format(roc_auc_score(Y_test, logreg.predict_proba(X_test)[:,1])))"
   ]
  },
  {
   "cell_type": "markdown",
   "metadata": {
    "papermill": {
     "duration": 0.430739,
     "end_time": "2020-11-25T11:29:42.451780",
     "exception": false,
     "start_time": "2020-11-25T11:29:42.021041",
     "status": "completed"
    },
    "tags": []
   },
   "source": [
    "Assim, temos que a SVM e a rede neural do Tensorflow produziram as melhores AUC's. Como A NN_TF teve um score levemente maior, vamos selecioná-la:"
   ]
  },
  {
   "cell_type": "code",
   "execution_count": 67,
   "metadata": {
    "execution": {
     "iopub.execute_input": "2020-11-25T11:29:43.332430Z",
     "iopub.status.busy": "2020-11-25T11:29:43.331595Z",
     "iopub.status.idle": "2020-11-25T11:29:43.984320Z",
     "shell.execute_reply": "2020-11-25T11:29:43.983404Z"
    },
    "papermill": {
     "duration": 1.090787,
     "end_time": "2020-11-25T11:29:43.984463",
     "exception": false,
     "start_time": "2020-11-25T11:29:42.893676",
     "status": "completed"
    },
    "tags": []
   },
   "outputs": [],
   "source": [
    "YtestPred = {\"positive\":NN_TF.predict(X_test2).squeeze()}\n",
    "submission = pd.DataFrame(YtestPred)\n",
    "submission.to_csv(\"submission.csv\", index = True, index_label = \"Id\")"
   ]
  },
  {
   "cell_type": "markdown",
   "metadata": {
    "papermill": {
     "duration": 0.440661,
     "end_time": "2020-11-25T11:29:44.875226",
     "exception": false,
     "start_time": "2020-11-25T11:29:44.434565",
     "status": "completed"
    },
    "tags": []
   },
   "source": [
    "# 8. Conclusões"
   ]
  },
  {
   "cell_type": "markdown",
   "metadata": {
    "papermill": {
     "duration": 0.457542,
     "end_time": "2020-11-25T11:29:45.785196",
     "exception": false,
     "start_time": "2020-11-25T11:29:45.327654",
     "status": "completed"
    },
    "tags": []
   },
   "source": [
    "Submetidos os resultados à competição, podemos perceber que diversos modelos diferentes, se devidamente treinados e otimizados, podem atingir resultados semelhantes. Dito isso, é provável que as redes neurais sejam mais maleáveis, além de, no geral, mais rápidas de serem treinadas. O classificador KNN pode obter resultados interessantes, embora não seja interessante em termos de poder computacional. As Support Vector Machines também podem demorar muito para serem treinadas, dependendo do número de parâmetros. Aqui, foram necessários 16 minutos para um 2-fold cross validation e algumas poucas combinações de parâmetros."
   ]
  },
  {
   "cell_type": "markdown",
   "metadata": {
    "papermill": {
     "duration": 0.435118,
     "end_time": "2020-11-25T11:29:46.654852",
     "exception": false,
     "start_time": "2020-11-25T11:29:46.219734",
     "status": "completed"
    },
    "tags": []
   },
   "source": [
    "De modo geral, é sempre interessante aplicar modelos como o SVM, mas aqui, as redes neurais (especialmente do Tensorflow), foram os melhores modelos."
   ]
  }
 ],
 "metadata": {
  "kernelspec": {
   "display_name": "Python 3",
   "language": "python",
   "name": "python3"
  },
  "language_info": {
   "codemirror_mode": {
    "name": "ipython",
    "version": 3
   },
   "file_extension": ".py",
   "mimetype": "text/x-python",
   "name": "python",
   "nbconvert_exporter": "python",
   "pygments_lexer": "ipython3",
   "version": "3.7.6"
  },
  "papermill": {
   "duration": 5104.847674,
   "end_time": "2020-11-25T11:29:47.201679",
   "environment_variables": {},
   "exception": null,
   "input_path": "__notebook__.ipynb",
   "output_path": "__notebook__.ipynb",
   "parameters": {},
   "start_time": "2020-11-25T10:04:42.354005",
   "version": "2.1.0"
  }
 },
 "nbformat": 4,
 "nbformat_minor": 4
}
