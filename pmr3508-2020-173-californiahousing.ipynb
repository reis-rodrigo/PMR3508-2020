{
 "cells": [
  {
   "cell_type": "markdown",
   "metadata": {
    "papermill": {
     "duration": 0.078129,
     "end_time": "2020-11-03T01:02:35.855680",
     "exception": false,
     "start_time": "2020-11-03T01:02:35.777551",
     "status": "completed"
    },
    "tags": []
   },
   "source": [
    "# PMR3508 - Aprendizado de Máquina e Reconhecimento de Padrões"
   ]
  },
  {
   "cell_type": "markdown",
   "metadata": {
    "papermill": {
     "duration": 0.075,
     "end_time": "2020-11-03T01:02:36.006731",
     "exception": false,
     "start_time": "2020-11-03T01:02:35.931731",
     "status": "completed"
    },
    "tags": []
   },
   "source": [
    "## EP2: Regressão Linear na Base \"California Housing\""
   ]
  },
  {
   "cell_type": "markdown",
   "metadata": {
    "papermill": {
     "duration": 0.078348,
     "end_time": "2020-11-03T01:02:36.166315",
     "exception": false,
     "start_time": "2020-11-03T01:02:36.087967",
     "status": "completed"
    },
    "tags": []
   },
   "source": [
    "## Autor: Rodrigo Gebara Reis"
   ]
  },
  {
   "cell_type": "markdown",
   "metadata": {
    "papermill": {
     "duration": 0.076568,
     "end_time": "2020-11-03T01:02:36.319318",
     "exception": false,
     "start_time": "2020-11-03T01:02:36.242750",
     "status": "completed"
    },
    "tags": []
   },
   "source": [
    "# 1. Introdução:"
   ]
  },
  {
   "cell_type": "markdown",
   "metadata": {
    "papermill": {
     "duration": 0.078525,
     "end_time": "2020-11-03T01:02:36.475192",
     "exception": false,
     "start_time": "2020-11-03T01:02:36.396667",
     "status": "completed"
    },
    "tags": []
   },
   "source": [
    "Nesse EP, vamos criar um modelo que prediz o preço médio de uma casa em uma região da Califórnia. O objetivo é testar os regressores lineares vistos até agora em aula: KNN, LASSO e RIDGE."
   ]
  },
  {
   "cell_type": "markdown",
   "metadata": {
    "papermill": {
     "duration": 0.076632,
     "end_time": "2020-11-03T01:02:36.628977",
     "exception": false,
     "start_time": "2020-11-03T01:02:36.552345",
     "status": "completed"
    },
    "tags": []
   },
   "source": [
    "# 2. Importação das bibliotecas:"
   ]
  },
  {
   "cell_type": "markdown",
   "metadata": {
    "papermill": {
     "duration": 0.077144,
     "end_time": "2020-11-03T01:02:36.785007",
     "exception": false,
     "start_time": "2020-11-03T01:02:36.707863",
     "status": "completed"
    },
    "tags": []
   },
   "source": [
    "Vamos fazer a importação das bibliotecas pertinentes: pandas, matplotlib e seaborn para análise dos dados e criação de gráficos; numpy para algumas operações matemáticas; sklearn para os regressores propriamente ditos e geopy para cálculo de distâncias a partir de coordenadas geográficas:"
   ]
  },
  {
   "cell_type": "code",
   "execution_count": 1,
   "metadata": {
    "execution": {
     "iopub.execute_input": "2020-11-03T01:02:36.953142Z",
     "iopub.status.busy": "2020-11-03T01:02:36.948445Z",
     "iopub.status.idle": "2020-11-03T01:02:38.715449Z",
     "shell.execute_reply": "2020-11-03T01:02:38.714608Z"
    },
    "papermill": {
     "duration": 1.852251,
     "end_time": "2020-11-03T01:02:38.715611",
     "exception": false,
     "start_time": "2020-11-03T01:02:36.863360",
     "status": "completed"
    },
    "tags": []
   },
   "outputs": [],
   "source": [
    "import pandas as pd\n",
    "import matplotlib.pyplot as plt\n",
    "%matplotlib inline\n",
    "import numpy as np\n",
    "import seaborn as sns \n",
    "from sklearn.linear_model import LinearRegression, Ridge, Lasso\n",
    "from sklearn.neighbors import KNeighborsRegressor\n",
    "from sklearn.preprocessing import MinMaxScaler\n",
    "from sklearn.metrics import make_scorer\n",
    "from sklearn.model_selection import GridSearchCV, cross_val_score, train_test_split\n",
    "from geopy.distance import distance, geodesic"
   ]
  },
  {
   "cell_type": "markdown",
   "metadata": {
    "papermill": {
     "duration": 0.097015,
     "end_time": "2020-11-03T01:02:38.893953",
     "exception": false,
     "start_time": "2020-11-03T01:02:38.796938",
     "status": "completed"
    },
    "tags": []
   },
   "source": [
    "# 3. Análise da base de dados:"
   ]
  },
  {
   "cell_type": "markdown",
   "metadata": {
    "papermill": {
     "duration": 0.076756,
     "end_time": "2020-11-03T01:02:39.048754",
     "exception": false,
     "start_time": "2020-11-03T01:02:38.971998",
     "status": "completed"
    },
    "tags": []
   },
   "source": [
    "## 3.1. Leitura dos dados:"
   ]
  },
  {
   "cell_type": "markdown",
   "metadata": {
    "papermill": {
     "duration": 0.105008,
     "end_time": "2020-11-03T01:02:39.235358",
     "exception": false,
     "start_time": "2020-11-03T01:02:39.130350",
     "status": "completed"
    },
    "tags": []
   },
   "source": [
    "Vamos importar as bases de treino e teste, respectivamente:"
   ]
  },
  {
   "cell_type": "code",
   "execution_count": 2,
   "metadata": {
    "execution": {
     "iopub.execute_input": "2020-11-03T01:02:39.405747Z",
     "iopub.status.busy": "2020-11-03T01:02:39.404809Z",
     "iopub.status.idle": "2020-11-03T01:02:39.453100Z",
     "shell.execute_reply": "2020-11-03T01:02:39.452200Z"
    },
    "papermill": {
     "duration": 0.137687,
     "end_time": "2020-11-03T01:02:39.453243",
     "exception": false,
     "start_time": "2020-11-03T01:02:39.315556",
     "status": "completed"
    },
    "tags": []
   },
   "outputs": [],
   "source": [
    "train = pd.read_csv(\"../input/atividade-regressao-PMR3508/train.csv\")\n",
    "test = pd.read_csv(\"../input/atividade-regressao-PMR3508/test.csv\")"
   ]
  },
  {
   "cell_type": "markdown",
   "metadata": {
    "papermill": {
     "duration": 0.076599,
     "end_time": "2020-11-03T01:02:39.606201",
     "exception": false,
     "start_time": "2020-11-03T01:02:39.529602",
     "status": "completed"
    },
    "tags": []
   },
   "source": [
    "## 3.2. Tratamento inicial dos dados:"
   ]
  },
  {
   "cell_type": "markdown",
   "metadata": {
    "papermill": {
     "duration": 0.076226,
     "end_time": "2020-11-03T01:02:39.759097",
     "exception": false,
     "start_time": "2020-11-03T01:02:39.682871",
     "status": "completed"
    },
    "tags": []
   },
   "source": [
    "Agora vamos visualizar as primeiras linhas do dataframe de treino, para conhecer seus atributos. Além disso, devemos conferir seu tamanho:"
   ]
  },
  {
   "cell_type": "code",
   "execution_count": 3,
   "metadata": {
    "execution": {
     "iopub.execute_input": "2020-11-03T01:02:39.928796Z",
     "iopub.status.busy": "2020-11-03T01:02:39.926672Z",
     "iopub.status.idle": "2020-11-03T01:02:39.941571Z",
     "shell.execute_reply": "2020-11-03T01:02:39.942153Z"
    },
    "papermill": {
     "duration": 0.107549,
     "end_time": "2020-11-03T01:02:39.942332",
     "exception": false,
     "start_time": "2020-11-03T01:02:39.834783",
     "status": "completed"
    },
    "tags": []
   },
   "outputs": [
    {
     "data": {
      "text/html": [
       "<div>\n",
       "<style scoped>\n",
       "    .dataframe tbody tr th:only-of-type {\n",
       "        vertical-align: middle;\n",
       "    }\n",
       "\n",
       "    .dataframe tbody tr th {\n",
       "        vertical-align: top;\n",
       "    }\n",
       "\n",
       "    .dataframe thead th {\n",
       "        text-align: right;\n",
       "    }\n",
       "</style>\n",
       "<table border=\"1\" class=\"dataframe\">\n",
       "  <thead>\n",
       "    <tr style=\"text-align: right;\">\n",
       "      <th></th>\n",
       "      <th>Id</th>\n",
       "      <th>longitude</th>\n",
       "      <th>latitude</th>\n",
       "      <th>median_age</th>\n",
       "      <th>total_rooms</th>\n",
       "      <th>total_bedrooms</th>\n",
       "      <th>population</th>\n",
       "      <th>households</th>\n",
       "      <th>median_income</th>\n",
       "      <th>median_house_value</th>\n",
       "    </tr>\n",
       "  </thead>\n",
       "  <tbody>\n",
       "    <tr>\n",
       "      <th>0</th>\n",
       "      <td>15817</td>\n",
       "      <td>-120.85</td>\n",
       "      <td>37.57</td>\n",
       "      <td>27</td>\n",
       "      <td>819</td>\n",
       "      <td>157</td>\n",
       "      <td>451</td>\n",
       "      <td>150</td>\n",
       "      <td>34934</td>\n",
       "      <td>193800</td>\n",
       "    </tr>\n",
       "    <tr>\n",
       "      <th>1</th>\n",
       "      <td>6236</td>\n",
       "      <td>-117.74</td>\n",
       "      <td>34.06</td>\n",
       "      <td>48</td>\n",
       "      <td>2438</td>\n",
       "      <td>599</td>\n",
       "      <td>1508</td>\n",
       "      <td>548</td>\n",
       "      <td>28983</td>\n",
       "      <td>129200</td>\n",
       "    </tr>\n",
       "    <tr>\n",
       "      <th>2</th>\n",
       "      <td>19262</td>\n",
       "      <td>-118.11</td>\n",
       "      <td>33.92</td>\n",
       "      <td>32</td>\n",
       "      <td>1016</td>\n",
       "      <td>190</td>\n",
       "      <td>729</td>\n",
       "      <td>177</td>\n",
       "      <td>43000</td>\n",
       "      <td>151300</td>\n",
       "    </tr>\n",
       "    <tr>\n",
       "      <th>3</th>\n",
       "      <td>19743</td>\n",
       "      <td>-118.12</td>\n",
       "      <td>34.15</td>\n",
       "      <td>35</td>\n",
       "      <td>1760</td>\n",
       "      <td>447</td>\n",
       "      <td>984</td>\n",
       "      <td>384</td>\n",
       "      <td>34167</td>\n",
       "      <td>198200</td>\n",
       "    </tr>\n",
       "    <tr>\n",
       "      <th>4</th>\n",
       "      <td>7272</td>\n",
       "      <td>-120.63</td>\n",
       "      <td>37.41</td>\n",
       "      <td>27</td>\n",
       "      <td>2083</td>\n",
       "      <td>444</td>\n",
       "      <td>1462</td>\n",
       "      <td>479</td>\n",
       "      <td>26439</td>\n",
       "      <td>69100</td>\n",
       "    </tr>\n",
       "  </tbody>\n",
       "</table>\n",
       "</div>"
      ],
      "text/plain": [
       "      Id  longitude  latitude  median_age  total_rooms  total_bedrooms  \\\n",
       "0  15817    -120.85     37.57          27          819             157   \n",
       "1   6236    -117.74     34.06          48         2438             599   \n",
       "2  19262    -118.11     33.92          32         1016             190   \n",
       "3  19743    -118.12     34.15          35         1760             447   \n",
       "4   7272    -120.63     37.41          27         2083             444   \n",
       "\n",
       "   population  households  median_income  median_house_value  \n",
       "0         451         150          34934              193800  \n",
       "1        1508         548          28983              129200  \n",
       "2         729         177          43000              151300  \n",
       "3         984         384          34167              198200  \n",
       "4        1462         479          26439               69100  "
      ]
     },
     "execution_count": 3,
     "metadata": {},
     "output_type": "execute_result"
    }
   ],
   "source": [
    "train.head()"
   ]
  },
  {
   "cell_type": "code",
   "execution_count": 4,
   "metadata": {
    "execution": {
     "iopub.execute_input": "2020-11-03T01:02:40.102375Z",
     "iopub.status.busy": "2020-11-03T01:02:40.101070Z",
     "iopub.status.idle": "2020-11-03T01:02:40.105869Z",
     "shell.execute_reply": "2020-11-03T01:02:40.105121Z"
    },
    "papermill": {
     "duration": 0.086638,
     "end_time": "2020-11-03T01:02:40.106000",
     "exception": false,
     "start_time": "2020-11-03T01:02:40.019362",
     "status": "completed"
    },
    "tags": []
   },
   "outputs": [
    {
     "data": {
      "text/plain": [
       "(14448, 10)"
      ]
     },
     "execution_count": 4,
     "metadata": {},
     "output_type": "execute_result"
    }
   ],
   "source": [
    "train.shape"
   ]
  },
  {
   "cell_type": "markdown",
   "metadata": {
    "papermill": {
     "duration": 0.076685,
     "end_time": "2020-11-03T01:02:40.265121",
     "exception": false,
     "start_time": "2020-11-03T01:02:40.188436",
     "status": "completed"
    },
    "tags": []
   },
   "source": [
    "Realizando o mesmo procedimento para os dados de teste:"
   ]
  },
  {
   "cell_type": "code",
   "execution_count": 5,
   "metadata": {
    "execution": {
     "iopub.execute_input": "2020-11-03T01:02:40.438376Z",
     "iopub.status.busy": "2020-11-03T01:02:40.437470Z",
     "iopub.status.idle": "2020-11-03T01:02:40.442414Z",
     "shell.execute_reply": "2020-11-03T01:02:40.441749Z"
    },
    "papermill": {
     "duration": 0.098311,
     "end_time": "2020-11-03T01:02:40.442549",
     "exception": false,
     "start_time": "2020-11-03T01:02:40.344238",
     "status": "completed"
    },
    "tags": []
   },
   "outputs": [
    {
     "data": {
      "text/html": [
       "<div>\n",
       "<style scoped>\n",
       "    .dataframe tbody tr th:only-of-type {\n",
       "        vertical-align: middle;\n",
       "    }\n",
       "\n",
       "    .dataframe tbody tr th {\n",
       "        vertical-align: top;\n",
       "    }\n",
       "\n",
       "    .dataframe thead th {\n",
       "        text-align: right;\n",
       "    }\n",
       "</style>\n",
       "<table border=\"1\" class=\"dataframe\">\n",
       "  <thead>\n",
       "    <tr style=\"text-align: right;\">\n",
       "      <th></th>\n",
       "      <th>Id</th>\n",
       "      <th>longitude</th>\n",
       "      <th>latitude</th>\n",
       "      <th>median_age</th>\n",
       "      <th>total_rooms</th>\n",
       "      <th>total_bedrooms</th>\n",
       "      <th>population</th>\n",
       "      <th>households</th>\n",
       "      <th>median_income</th>\n",
       "    </tr>\n",
       "  </thead>\n",
       "  <tbody>\n",
       "    <tr>\n",
       "      <th>0</th>\n",
       "      <td>8609</td>\n",
       "      <td>-118.67</td>\n",
       "      <td>34.30</td>\n",
       "      <td>5</td>\n",
       "      <td>6123</td>\n",
       "      <td>825</td>\n",
       "      <td>2440</td>\n",
       "      <td>736</td>\n",
       "      <td>79013</td>\n",
       "    </tr>\n",
       "    <tr>\n",
       "      <th>1</th>\n",
       "      <td>14610</td>\n",
       "      <td>-117.66</td>\n",
       "      <td>34.09</td>\n",
       "      <td>26</td>\n",
       "      <td>1151</td>\n",
       "      <td>200</td>\n",
       "      <td>593</td>\n",
       "      <td>188</td>\n",
       "      <td>36667</td>\n",
       "    </tr>\n",
       "    <tr>\n",
       "      <th>2</th>\n",
       "      <td>1557</td>\n",
       "      <td>-118.93</td>\n",
       "      <td>35.37</td>\n",
       "      <td>34</td>\n",
       "      <td>2412</td>\n",
       "      <td>446</td>\n",
       "      <td>1558</td>\n",
       "      <td>421</td>\n",
       "      <td>26903</td>\n",
       "    </tr>\n",
       "    <tr>\n",
       "      <th>3</th>\n",
       "      <td>12875</td>\n",
       "      <td>-117.23</td>\n",
       "      <td>34.14</td>\n",
       "      <td>16</td>\n",
       "      <td>2577</td>\n",
       "      <td>521</td>\n",
       "      <td>956</td>\n",
       "      <td>472</td>\n",
       "      <td>25625</td>\n",
       "    </tr>\n",
       "    <tr>\n",
       "      <th>4</th>\n",
       "      <td>17821</td>\n",
       "      <td>-121.06</td>\n",
       "      <td>38.98</td>\n",
       "      <td>14</td>\n",
       "      <td>2267</td>\n",
       "      <td>355</td>\n",
       "      <td>1140</td>\n",
       "      <td>369</td>\n",
       "      <td>47019</td>\n",
       "    </tr>\n",
       "  </tbody>\n",
       "</table>\n",
       "</div>"
      ],
      "text/plain": [
       "      Id  longitude  latitude  median_age  total_rooms  total_bedrooms  \\\n",
       "0   8609    -118.67     34.30           5         6123             825   \n",
       "1  14610    -117.66     34.09          26         1151             200   \n",
       "2   1557    -118.93     35.37          34         2412             446   \n",
       "3  12875    -117.23     34.14          16         2577             521   \n",
       "4  17821    -121.06     38.98          14         2267             355   \n",
       "\n",
       "   population  households  median_income  \n",
       "0        2440         736          79013  \n",
       "1         593         188          36667  \n",
       "2        1558         421          26903  \n",
       "3         956         472          25625  \n",
       "4        1140         369          47019  "
      ]
     },
     "execution_count": 5,
     "metadata": {},
     "output_type": "execute_result"
    }
   ],
   "source": [
    "test.head()"
   ]
  },
  {
   "cell_type": "code",
   "execution_count": 6,
   "metadata": {
    "execution": {
     "iopub.execute_input": "2020-11-03T01:02:40.610146Z",
     "iopub.status.busy": "2020-11-03T01:02:40.609193Z",
     "iopub.status.idle": "2020-11-03T01:02:40.614081Z",
     "shell.execute_reply": "2020-11-03T01:02:40.613361Z"
    },
    "papermill": {
     "duration": 0.092021,
     "end_time": "2020-11-03T01:02:40.614223",
     "exception": false,
     "start_time": "2020-11-03T01:02:40.522202",
     "status": "completed"
    },
    "tags": []
   },
   "outputs": [
    {
     "data": {
      "text/plain": [
       "(6192, 9)"
      ]
     },
     "execution_count": 6,
     "metadata": {},
     "output_type": "execute_result"
    }
   ],
   "source": [
    "test.shape"
   ]
  },
  {
   "cell_type": "markdown",
   "metadata": {
    "papermill": {
     "duration": 0.079348,
     "end_time": "2020-11-03T01:02:40.774521",
     "exception": false,
     "start_time": "2020-11-03T01:02:40.695173",
     "status": "completed"
    },
    "tags": []
   },
   "source": [
    "Em nosso dataset, temos os seguintes atributos:"
   ]
  },
  {
   "cell_type": "markdown",
   "metadata": {
    "papermill": {
     "duration": 0.081061,
     "end_time": "2020-11-03T01:02:40.938216",
     "exception": false,
     "start_time": "2020-11-03T01:02:40.857155",
     "status": "completed"
    },
    "tags": []
   },
   "source": [
    "$\\bullet$ Id - Identificação dos locais\n",
    "\n",
    "$\\bullet$ latitude: Latitude do local (em graus)\n",
    "\n",
    "$\\bullet$ longitude: Longitude do local\n",
    "\n",
    "$\\bullet$ median_age: Mediana das idades dos imóveis no local\n",
    "\n",
    "$\\bullet$ total_rooms: Contagem do número de cômodos das casas na região\n",
    "\n",
    "$\\bullet$ total_bedrooms: Contagem do total de quartos das casas na região\n",
    "\n",
    "$\\bullet$ population: População na região\n",
    "\n",
    "$\\bullet$ households: Número total de casas na região\n",
    "\n",
    "$\\bullet$ median_income: Mediana da renda das pessoas na região\n",
    "\n",
    "$\\bullet$ median_house_value: Variável Target."
   ]
  },
  {
   "cell_type": "markdown",
   "metadata": {
    "papermill": {
     "duration": 0.080818,
     "end_time": "2020-11-03T01:02:41.097341",
     "exception": false,
     "start_time": "2020-11-03T01:02:41.016523",
     "status": "completed"
    },
    "tags": []
   },
   "source": [
    "Note que a coluna \"Id\" serve apenas para indexação. Assim, ele será removido de ambos os datasets. No entanto, vamos armazenar a ordem do arquivo de teste para fazer a submissão posteriormente:"
   ]
  },
  {
   "cell_type": "code",
   "execution_count": 7,
   "metadata": {
    "execution": {
     "iopub.execute_input": "2020-11-03T01:02:41.265320Z",
     "iopub.status.busy": "2020-11-03T01:02:41.264523Z",
     "iopub.status.idle": "2020-11-03T01:02:41.267579Z",
     "shell.execute_reply": "2020-11-03T01:02:41.266823Z"
    },
    "papermill": {
     "duration": 0.090374,
     "end_time": "2020-11-03T01:02:41.267710",
     "exception": false,
     "start_time": "2020-11-03T01:02:41.177336",
     "status": "completed"
    },
    "tags": []
   },
   "outputs": [],
   "source": [
    "train = train.drop(\"Id\", axis = 1)\n",
    "testId = test.Id\n",
    "test = test.drop(\"Id\", axis = 1)"
   ]
  },
  {
   "cell_type": "code",
   "execution_count": 8,
   "metadata": {
    "execution": {
     "iopub.execute_input": "2020-11-03T01:02:41.441904Z",
     "iopub.status.busy": "2020-11-03T01:02:41.440898Z",
     "iopub.status.idle": "2020-11-03T01:02:41.446289Z",
     "shell.execute_reply": "2020-11-03T01:02:41.445494Z"
    },
    "papermill": {
     "duration": 0.099152,
     "end_time": "2020-11-03T01:02:41.446453",
     "exception": false,
     "start_time": "2020-11-03T01:02:41.347301",
     "status": "completed"
    },
    "tags": []
   },
   "outputs": [
    {
     "data": {
      "text/html": [
       "<div>\n",
       "<style scoped>\n",
       "    .dataframe tbody tr th:only-of-type {\n",
       "        vertical-align: middle;\n",
       "    }\n",
       "\n",
       "    .dataframe tbody tr th {\n",
       "        vertical-align: top;\n",
       "    }\n",
       "\n",
       "    .dataframe thead th {\n",
       "        text-align: right;\n",
       "    }\n",
       "</style>\n",
       "<table border=\"1\" class=\"dataframe\">\n",
       "  <thead>\n",
       "    <tr style=\"text-align: right;\">\n",
       "      <th></th>\n",
       "      <th>longitude</th>\n",
       "      <th>latitude</th>\n",
       "      <th>median_age</th>\n",
       "      <th>total_rooms</th>\n",
       "      <th>total_bedrooms</th>\n",
       "      <th>population</th>\n",
       "      <th>households</th>\n",
       "      <th>median_income</th>\n",
       "      <th>median_house_value</th>\n",
       "    </tr>\n",
       "  </thead>\n",
       "  <tbody>\n",
       "    <tr>\n",
       "      <th>0</th>\n",
       "      <td>-120.85</td>\n",
       "      <td>37.57</td>\n",
       "      <td>27</td>\n",
       "      <td>819</td>\n",
       "      <td>157</td>\n",
       "      <td>451</td>\n",
       "      <td>150</td>\n",
       "      <td>34934</td>\n",
       "      <td>193800</td>\n",
       "    </tr>\n",
       "    <tr>\n",
       "      <th>1</th>\n",
       "      <td>-117.74</td>\n",
       "      <td>34.06</td>\n",
       "      <td>48</td>\n",
       "      <td>2438</td>\n",
       "      <td>599</td>\n",
       "      <td>1508</td>\n",
       "      <td>548</td>\n",
       "      <td>28983</td>\n",
       "      <td>129200</td>\n",
       "    </tr>\n",
       "    <tr>\n",
       "      <th>2</th>\n",
       "      <td>-118.11</td>\n",
       "      <td>33.92</td>\n",
       "      <td>32</td>\n",
       "      <td>1016</td>\n",
       "      <td>190</td>\n",
       "      <td>729</td>\n",
       "      <td>177</td>\n",
       "      <td>43000</td>\n",
       "      <td>151300</td>\n",
       "    </tr>\n",
       "    <tr>\n",
       "      <th>3</th>\n",
       "      <td>-118.12</td>\n",
       "      <td>34.15</td>\n",
       "      <td>35</td>\n",
       "      <td>1760</td>\n",
       "      <td>447</td>\n",
       "      <td>984</td>\n",
       "      <td>384</td>\n",
       "      <td>34167</td>\n",
       "      <td>198200</td>\n",
       "    </tr>\n",
       "    <tr>\n",
       "      <th>4</th>\n",
       "      <td>-120.63</td>\n",
       "      <td>37.41</td>\n",
       "      <td>27</td>\n",
       "      <td>2083</td>\n",
       "      <td>444</td>\n",
       "      <td>1462</td>\n",
       "      <td>479</td>\n",
       "      <td>26439</td>\n",
       "      <td>69100</td>\n",
       "    </tr>\n",
       "  </tbody>\n",
       "</table>\n",
       "</div>"
      ],
      "text/plain": [
       "   longitude  latitude  median_age  total_rooms  total_bedrooms  population  \\\n",
       "0    -120.85     37.57          27          819             157         451   \n",
       "1    -117.74     34.06          48         2438             599        1508   \n",
       "2    -118.11     33.92          32         1016             190         729   \n",
       "3    -118.12     34.15          35         1760             447         984   \n",
       "4    -120.63     37.41          27         2083             444        1462   \n",
       "\n",
       "   households  median_income  median_house_value  \n",
       "0         150          34934              193800  \n",
       "1         548          28983              129200  \n",
       "2         177          43000              151300  \n",
       "3         384          34167              198200  \n",
       "4         479          26439               69100  "
      ]
     },
     "execution_count": 8,
     "metadata": {},
     "output_type": "execute_result"
    }
   ],
   "source": [
    "train.head()"
   ]
  },
  {
   "cell_type": "code",
   "execution_count": 9,
   "metadata": {
    "execution": {
     "iopub.execute_input": "2020-11-03T01:02:41.622968Z",
     "iopub.status.busy": "2020-11-03T01:02:41.621850Z",
     "iopub.status.idle": "2020-11-03T01:02:41.626639Z",
     "shell.execute_reply": "2020-11-03T01:02:41.627174Z"
    },
    "papermill": {
     "duration": 0.099816,
     "end_time": "2020-11-03T01:02:41.627361",
     "exception": false,
     "start_time": "2020-11-03T01:02:41.527545",
     "status": "completed"
    },
    "tags": []
   },
   "outputs": [
    {
     "data": {
      "text/html": [
       "<div>\n",
       "<style scoped>\n",
       "    .dataframe tbody tr th:only-of-type {\n",
       "        vertical-align: middle;\n",
       "    }\n",
       "\n",
       "    .dataframe tbody tr th {\n",
       "        vertical-align: top;\n",
       "    }\n",
       "\n",
       "    .dataframe thead th {\n",
       "        text-align: right;\n",
       "    }\n",
       "</style>\n",
       "<table border=\"1\" class=\"dataframe\">\n",
       "  <thead>\n",
       "    <tr style=\"text-align: right;\">\n",
       "      <th></th>\n",
       "      <th>longitude</th>\n",
       "      <th>latitude</th>\n",
       "      <th>median_age</th>\n",
       "      <th>total_rooms</th>\n",
       "      <th>total_bedrooms</th>\n",
       "      <th>population</th>\n",
       "      <th>households</th>\n",
       "      <th>median_income</th>\n",
       "    </tr>\n",
       "  </thead>\n",
       "  <tbody>\n",
       "    <tr>\n",
       "      <th>0</th>\n",
       "      <td>-118.67</td>\n",
       "      <td>34.30</td>\n",
       "      <td>5</td>\n",
       "      <td>6123</td>\n",
       "      <td>825</td>\n",
       "      <td>2440</td>\n",
       "      <td>736</td>\n",
       "      <td>79013</td>\n",
       "    </tr>\n",
       "    <tr>\n",
       "      <th>1</th>\n",
       "      <td>-117.66</td>\n",
       "      <td>34.09</td>\n",
       "      <td>26</td>\n",
       "      <td>1151</td>\n",
       "      <td>200</td>\n",
       "      <td>593</td>\n",
       "      <td>188</td>\n",
       "      <td>36667</td>\n",
       "    </tr>\n",
       "    <tr>\n",
       "      <th>2</th>\n",
       "      <td>-118.93</td>\n",
       "      <td>35.37</td>\n",
       "      <td>34</td>\n",
       "      <td>2412</td>\n",
       "      <td>446</td>\n",
       "      <td>1558</td>\n",
       "      <td>421</td>\n",
       "      <td>26903</td>\n",
       "    </tr>\n",
       "    <tr>\n",
       "      <th>3</th>\n",
       "      <td>-117.23</td>\n",
       "      <td>34.14</td>\n",
       "      <td>16</td>\n",
       "      <td>2577</td>\n",
       "      <td>521</td>\n",
       "      <td>956</td>\n",
       "      <td>472</td>\n",
       "      <td>25625</td>\n",
       "    </tr>\n",
       "    <tr>\n",
       "      <th>4</th>\n",
       "      <td>-121.06</td>\n",
       "      <td>38.98</td>\n",
       "      <td>14</td>\n",
       "      <td>2267</td>\n",
       "      <td>355</td>\n",
       "      <td>1140</td>\n",
       "      <td>369</td>\n",
       "      <td>47019</td>\n",
       "    </tr>\n",
       "  </tbody>\n",
       "</table>\n",
       "</div>"
      ],
      "text/plain": [
       "   longitude  latitude  median_age  total_rooms  total_bedrooms  population  \\\n",
       "0    -118.67     34.30           5         6123             825        2440   \n",
       "1    -117.66     34.09          26         1151             200         593   \n",
       "2    -118.93     35.37          34         2412             446        1558   \n",
       "3    -117.23     34.14          16         2577             521         956   \n",
       "4    -121.06     38.98          14         2267             355        1140   \n",
       "\n",
       "   households  median_income  \n",
       "0         736          79013  \n",
       "1         188          36667  \n",
       "2         421          26903  \n",
       "3         472          25625  \n",
       "4         369          47019  "
      ]
     },
     "execution_count": 9,
     "metadata": {},
     "output_type": "execute_result"
    }
   ],
   "source": [
    "test.head()"
   ]
  },
  {
   "cell_type": "markdown",
   "metadata": {
    "papermill": {
     "duration": 0.079071,
     "end_time": "2020-11-03T01:02:41.786486",
     "exception": false,
     "start_time": "2020-11-03T01:02:41.707415",
     "status": "completed"
    },
    "tags": []
   },
   "source": [
    "Realizando uma análise quantitativa inicial dos dados de treino:"
   ]
  },
  {
   "cell_type": "code",
   "execution_count": 10,
   "metadata": {
    "execution": {
     "iopub.execute_input": "2020-11-03T01:02:41.958584Z",
     "iopub.status.busy": "2020-11-03T01:02:41.957805Z",
     "iopub.status.idle": "2020-11-03T01:02:42.005149Z",
     "shell.execute_reply": "2020-11-03T01:02:42.004384Z"
    },
    "papermill": {
     "duration": 0.137177,
     "end_time": "2020-11-03T01:02:42.005295",
     "exception": false,
     "start_time": "2020-11-03T01:02:41.868118",
     "status": "completed"
    },
    "tags": []
   },
   "outputs": [
    {
     "data": {
      "text/html": [
       "<div>\n",
       "<style scoped>\n",
       "    .dataframe tbody tr th:only-of-type {\n",
       "        vertical-align: middle;\n",
       "    }\n",
       "\n",
       "    .dataframe tbody tr th {\n",
       "        vertical-align: top;\n",
       "    }\n",
       "\n",
       "    .dataframe thead th {\n",
       "        text-align: right;\n",
       "    }\n",
       "</style>\n",
       "<table border=\"1\" class=\"dataframe\">\n",
       "  <thead>\n",
       "    <tr style=\"text-align: right;\">\n",
       "      <th></th>\n",
       "      <th>longitude</th>\n",
       "      <th>latitude</th>\n",
       "      <th>median_age</th>\n",
       "      <th>total_rooms</th>\n",
       "      <th>total_bedrooms</th>\n",
       "      <th>population</th>\n",
       "      <th>households</th>\n",
       "      <th>median_income</th>\n",
       "      <th>median_house_value</th>\n",
       "    </tr>\n",
       "  </thead>\n",
       "  <tbody>\n",
       "    <tr>\n",
       "      <th>count</th>\n",
       "      <td>14448.000000</td>\n",
       "      <td>14448.000000</td>\n",
       "      <td>14448.000000</td>\n",
       "      <td>14448.000000</td>\n",
       "      <td>14448.000000</td>\n",
       "      <td>14448.000000</td>\n",
       "      <td>14448.000000</td>\n",
       "      <td>14448.000000</td>\n",
       "      <td>14448.000000</td>\n",
       "    </tr>\n",
       "    <tr>\n",
       "      <th>mean</th>\n",
       "      <td>-119.563050</td>\n",
       "      <td>35.625804</td>\n",
       "      <td>28.700028</td>\n",
       "      <td>2622.627284</td>\n",
       "      <td>535.628391</td>\n",
       "      <td>1413.978405</td>\n",
       "      <td>496.934109</td>\n",
       "      <td>38747.577450</td>\n",
       "      <td>207556.603267</td>\n",
       "    </tr>\n",
       "    <tr>\n",
       "      <th>std</th>\n",
       "      <td>2.008096</td>\n",
       "      <td>2.138690</td>\n",
       "      <td>12.587508</td>\n",
       "      <td>2145.423570</td>\n",
       "      <td>416.800426</td>\n",
       "      <td>1095.060629</td>\n",
       "      <td>376.873380</td>\n",
       "      <td>19091.513037</td>\n",
       "      <td>116441.436255</td>\n",
       "    </tr>\n",
       "    <tr>\n",
       "      <th>min</th>\n",
       "      <td>-124.350000</td>\n",
       "      <td>32.550000</td>\n",
       "      <td>1.000000</td>\n",
       "      <td>2.000000</td>\n",
       "      <td>2.000000</td>\n",
       "      <td>3.000000</td>\n",
       "      <td>2.000000</td>\n",
       "      <td>4999.000000</td>\n",
       "      <td>14999.000000</td>\n",
       "    </tr>\n",
       "    <tr>\n",
       "      <th>25%</th>\n",
       "      <td>-121.790000</td>\n",
       "      <td>33.930000</td>\n",
       "      <td>18.000000</td>\n",
       "      <td>1444.000000</td>\n",
       "      <td>295.000000</td>\n",
       "      <td>784.000000</td>\n",
       "      <td>279.000000</td>\n",
       "      <td>25596.500000</td>\n",
       "      <td>119300.000000</td>\n",
       "    </tr>\n",
       "    <tr>\n",
       "      <th>50%</th>\n",
       "      <td>-118.490000</td>\n",
       "      <td>34.250000</td>\n",
       "      <td>29.000000</td>\n",
       "      <td>2116.000000</td>\n",
       "      <td>432.000000</td>\n",
       "      <td>1160.000000</td>\n",
       "      <td>407.000000</td>\n",
       "      <td>35334.000000</td>\n",
       "      <td>179950.000000</td>\n",
       "    </tr>\n",
       "    <tr>\n",
       "      <th>75%</th>\n",
       "      <td>-118.000000</td>\n",
       "      <td>37.710000</td>\n",
       "      <td>37.000000</td>\n",
       "      <td>3131.250000</td>\n",
       "      <td>645.250000</td>\n",
       "      <td>1705.000000</td>\n",
       "      <td>602.000000</td>\n",
       "      <td>47500.000000</td>\n",
       "      <td>266100.000000</td>\n",
       "    </tr>\n",
       "    <tr>\n",
       "      <th>max</th>\n",
       "      <td>-114.470000</td>\n",
       "      <td>41.950000</td>\n",
       "      <td>52.000000</td>\n",
       "      <td>39320.000000</td>\n",
       "      <td>6445.000000</td>\n",
       "      <td>28566.000000</td>\n",
       "      <td>6082.000000</td>\n",
       "      <td>150001.000000</td>\n",
       "      <td>500001.000000</td>\n",
       "    </tr>\n",
       "  </tbody>\n",
       "</table>\n",
       "</div>"
      ],
      "text/plain": [
       "          longitude      latitude    median_age   total_rooms  total_bedrooms  \\\n",
       "count  14448.000000  14448.000000  14448.000000  14448.000000    14448.000000   \n",
       "mean    -119.563050     35.625804     28.700028   2622.627284      535.628391   \n",
       "std        2.008096      2.138690     12.587508   2145.423570      416.800426   \n",
       "min     -124.350000     32.550000      1.000000      2.000000        2.000000   \n",
       "25%     -121.790000     33.930000     18.000000   1444.000000      295.000000   \n",
       "50%     -118.490000     34.250000     29.000000   2116.000000      432.000000   \n",
       "75%     -118.000000     37.710000     37.000000   3131.250000      645.250000   \n",
       "max     -114.470000     41.950000     52.000000  39320.000000     6445.000000   \n",
       "\n",
       "         population    households  median_income  median_house_value  \n",
       "count  14448.000000  14448.000000   14448.000000        14448.000000  \n",
       "mean    1413.978405    496.934109   38747.577450       207556.603267  \n",
       "std     1095.060629    376.873380   19091.513037       116441.436255  \n",
       "min        3.000000      2.000000    4999.000000        14999.000000  \n",
       "25%      784.000000    279.000000   25596.500000       119300.000000  \n",
       "50%     1160.000000    407.000000   35334.000000       179950.000000  \n",
       "75%     1705.000000    602.000000   47500.000000       266100.000000  \n",
       "max    28566.000000   6082.000000  150001.000000       500001.000000  "
      ]
     },
     "execution_count": 10,
     "metadata": {},
     "output_type": "execute_result"
    }
   ],
   "source": [
    "train.describe()"
   ]
  },
  {
   "cell_type": "code",
   "execution_count": 11,
   "metadata": {
    "execution": {
     "iopub.execute_input": "2020-11-03T01:02:42.176646Z",
     "iopub.status.busy": "2020-11-03T01:02:42.175736Z",
     "iopub.status.idle": "2020-11-03T01:02:42.191125Z",
     "shell.execute_reply": "2020-11-03T01:02:42.189370Z"
    },
    "papermill": {
     "duration": 0.10358,
     "end_time": "2020-11-03T01:02:42.191366",
     "exception": false,
     "start_time": "2020-11-03T01:02:42.087786",
     "status": "completed"
    },
    "tags": []
   },
   "outputs": [
    {
     "name": "stdout",
     "output_type": "stream",
     "text": [
      "<class 'pandas.core.frame.DataFrame'>\n",
      "RangeIndex: 14448 entries, 0 to 14447\n",
      "Data columns (total 9 columns):\n",
      " #   Column              Non-Null Count  Dtype  \n",
      "---  ------              --------------  -----  \n",
      " 0   longitude           14448 non-null  float64\n",
      " 1   latitude            14448 non-null  float64\n",
      " 2   median_age          14448 non-null  int64  \n",
      " 3   total_rooms         14448 non-null  int64  \n",
      " 4   total_bedrooms      14448 non-null  int64  \n",
      " 5   population          14448 non-null  int64  \n",
      " 6   households          14448 non-null  int64  \n",
      " 7   median_income       14448 non-null  int64  \n",
      " 8   median_house_value  14448 non-null  int64  \n",
      "dtypes: float64(2), int64(7)\n",
      "memory usage: 1016.0 KB\n"
     ]
    }
   ],
   "source": [
    "train.info()"
   ]
  },
  {
   "cell_type": "code",
   "execution_count": 12,
   "metadata": {
    "execution": {
     "iopub.execute_input": "2020-11-03T01:02:42.362030Z",
     "iopub.status.busy": "2020-11-03T01:02:42.361030Z",
     "iopub.status.idle": "2020-11-03T01:02:42.368419Z",
     "shell.execute_reply": "2020-11-03T01:02:42.367744Z"
    },
    "papermill": {
     "duration": 0.095815,
     "end_time": "2020-11-03T01:02:42.368555",
     "exception": false,
     "start_time": "2020-11-03T01:02:42.272740",
     "status": "completed"
    },
    "tags": []
   },
   "outputs": [
    {
     "data": {
      "text/plain": [
       "longitude             0\n",
       "latitude              0\n",
       "median_age            0\n",
       "total_rooms           0\n",
       "total_bedrooms        0\n",
       "population            0\n",
       "households            0\n",
       "median_income         0\n",
       "median_house_value    0\n",
       "dtype: int64"
      ]
     },
     "execution_count": 12,
     "metadata": {},
     "output_type": "execute_result"
    }
   ],
   "source": [
    "train.isnull().sum()"
   ]
  },
  {
   "cell_type": "markdown",
   "metadata": {
    "papermill": {
     "duration": 0.081265,
     "end_time": "2020-11-03T01:02:42.531715",
     "exception": false,
     "start_time": "2020-11-03T01:02:42.450450",
     "status": "completed"
    },
    "tags": []
   },
   "source": [
    "Note que não há dados faltantes na base de dados, o que deve proporcionar uma análise mais precisa."
   ]
  },
  {
   "cell_type": "markdown",
   "metadata": {
    "papermill": {
     "duration": 0.081243,
     "end_time": "2020-11-03T01:02:42.695751",
     "exception": false,
     "start_time": "2020-11-03T01:02:42.614508",
     "status": "completed"
    },
    "tags": []
   },
   "source": [
    "O mesmo ocorre com os dados de teste:"
   ]
  },
  {
   "cell_type": "code",
   "execution_count": 13,
   "metadata": {
    "execution": {
     "iopub.execute_input": "2020-11-03T01:02:42.872813Z",
     "iopub.status.busy": "2020-11-03T01:02:42.866555Z",
     "iopub.status.idle": "2020-11-03T01:02:42.877213Z",
     "shell.execute_reply": "2020-11-03T01:02:42.876536Z"
    },
    "papermill": {
     "duration": 0.099819,
     "end_time": "2020-11-03T01:02:42.877398",
     "exception": false,
     "start_time": "2020-11-03T01:02:42.777579",
     "status": "completed"
    },
    "tags": []
   },
   "outputs": [
    {
     "name": "stdout",
     "output_type": "stream",
     "text": [
      "<class 'pandas.core.frame.DataFrame'>\n",
      "RangeIndex: 6192 entries, 0 to 6191\n",
      "Data columns (total 8 columns):\n",
      " #   Column          Non-Null Count  Dtype  \n",
      "---  ------          --------------  -----  \n",
      " 0   longitude       6192 non-null   float64\n",
      " 1   latitude        6192 non-null   float64\n",
      " 2   median_age      6192 non-null   int64  \n",
      " 3   total_rooms     6192 non-null   int64  \n",
      " 4   total_bedrooms  6192 non-null   int64  \n",
      " 5   population      6192 non-null   int64  \n",
      " 6   households      6192 non-null   int64  \n",
      " 7   median_income   6192 non-null   int64  \n",
      "dtypes: float64(2), int64(6)\n",
      "memory usage: 387.1 KB\n"
     ]
    }
   ],
   "source": [
    "test.info()"
   ]
  },
  {
   "cell_type": "code",
   "execution_count": 14,
   "metadata": {
    "execution": {
     "iopub.execute_input": "2020-11-03T01:02:43.101940Z",
     "iopub.status.busy": "2020-11-03T01:02:43.099773Z",
     "iopub.status.idle": "2020-11-03T01:02:43.107053Z",
     "shell.execute_reply": "2020-11-03T01:02:43.106252Z"
    },
    "papermill": {
     "duration": 0.096166,
     "end_time": "2020-11-03T01:02:43.107193",
     "exception": false,
     "start_time": "2020-11-03T01:02:43.011027",
     "status": "completed"
    },
    "tags": []
   },
   "outputs": [
    {
     "data": {
      "text/plain": [
       "longitude         0\n",
       "latitude          0\n",
       "median_age        0\n",
       "total_rooms       0\n",
       "total_bedrooms    0\n",
       "population        0\n",
       "households        0\n",
       "median_income     0\n",
       "dtype: int64"
      ]
     },
     "execution_count": 14,
     "metadata": {},
     "output_type": "execute_result"
    }
   ],
   "source": [
    "test.isnull().sum()"
   ]
  },
  {
   "cell_type": "markdown",
   "metadata": {
    "papermill": {
     "duration": 0.081127,
     "end_time": "2020-11-03T01:02:43.273206",
     "exception": false,
     "start_time": "2020-11-03T01:02:43.192079",
     "status": "completed"
    },
    "tags": []
   },
   "source": [
    "## 3.3. Exploração inicial dos dados:"
   ]
  },
  {
   "cell_type": "markdown",
   "metadata": {
    "papermill": {
     "duration": 0.08145,
     "end_time": "2020-11-03T01:02:43.438499",
     "exception": false,
     "start_time": "2020-11-03T01:02:43.357049",
     "status": "completed"
    },
    "tags": []
   },
   "source": [
    "Primeiramente, é interessante analisar como estão distribuídos os valores das casas:"
   ]
  },
  {
   "cell_type": "code",
   "execution_count": 15,
   "metadata": {
    "execution": {
     "iopub.execute_input": "2020-11-03T01:02:43.609848Z",
     "iopub.status.busy": "2020-11-03T01:02:43.608696Z",
     "iopub.status.idle": "2020-11-03T01:02:43.871532Z",
     "shell.execute_reply": "2020-11-03T01:02:43.870739Z"
    },
    "papermill": {
     "duration": 0.35096,
     "end_time": "2020-11-03T01:02:43.871669",
     "exception": false,
     "start_time": "2020-11-03T01:02:43.520709",
     "status": "completed"
    },
    "tags": []
   },
   "outputs": [
    {
     "data": {
      "text/plain": [
       "<matplotlib.axes._subplots.AxesSubplot at 0x7f5b4bfd2c50>"
      ]
     },
     "execution_count": 15,
     "metadata": {},
     "output_type": "execute_result"
    },
    {
     "data": {
      "image/png": "[encoded data removed]",
      "text/plain": [
       "<Figure size 432x288 with 1 Axes>"
      ]
     },
     "metadata": {
      "needs_background": "light"
     },
     "output_type": "display_data"
    }
   ],
   "source": [
    "train[\"median_house_value\"].hist()"
   ]
  },
  {
   "cell_type": "markdown",
   "metadata": {
    "papermill": {
     "duration": 0.085046,
     "end_time": "2020-11-03T01:02:44.040987",
     "exception": false,
     "start_time": "2020-11-03T01:02:43.955941",
     "status": "completed"
    },
    "tags": []
   },
   "source": [
    "Com isso, percebe-se uma concentração em aproximadamente US$150.000."
   ]
  },
  {
   "cell_type": "markdown",
   "metadata": {
    "papermill": {
     "duration": 0.084101,
     "end_time": "2020-11-03T01:02:44.211063",
     "exception": false,
     "start_time": "2020-11-03T01:02:44.126962",
     "status": "completed"
    },
    "tags": []
   },
   "source": [
    "Vamos proceder criando uma matriz de correlação, relacionando todas as features:"
   ]
  },
  {
   "cell_type": "code",
   "execution_count": 16,
   "metadata": {
    "execution": {
     "iopub.execute_input": "2020-11-03T01:02:44.480629Z",
     "iopub.status.busy": "2020-11-03T01:02:44.391756Z",
     "iopub.status.idle": "2020-11-03T01:02:45.111543Z",
     "shell.execute_reply": "2020-11-03T01:02:45.110822Z"
    },
    "papermill": {
     "duration": 0.817666,
     "end_time": "2020-11-03T01:02:45.111697",
     "exception": false,
     "start_time": "2020-11-03T01:02:44.294031",
     "status": "completed"
    },
    "tags": []
   },
   "outputs": [
    {
     "data": {
      "text/plain": [
       "<matplotlib.axes._subplots.AxesSubplot at 0x7f5b4be28d10>"
      ]
     },
     "execution_count": 16,
     "metadata": {},
     "output_type": "execute_result"
    },
    {
     "data": {
      "image/png": "[encoded data removed]",
      "text/plain": [
       "<Figure size 720x720 with 2 Axes>"
      ]
     },
     "metadata": {
      "needs_background": "light"
     },
     "output_type": "display_data"
    }
   ],
   "source": [
    "plt.figure(figsize=(10,10))\n",
    "plt.title(\"Matriz de correlação\")\n",
    "sns.heatmap(train.corr(), annot=True, linewidths=0.2)"
   ]
  },
  {
   "cell_type": "markdown",
   "metadata": {
    "papermill": {
     "duration": 0.086113,
     "end_time": "2020-11-03T01:02:45.284451",
     "exception": false,
     "start_time": "2020-11-03T01:02:45.198338",
     "status": "completed"
    },
    "tags": []
   },
   "source": [
    "A partir desse heatmap, percebemos que a feature mais relacionada ao alvo é a renda média (\"median_income\"). Aparentemente, as variáveis de posição (latitude e longitude) não têm influência sobre as outras variáveis. Vamos convertê-las para uma só feature: a menor distância até as três maiores cidades da Califórnia: Los Angeles, São Francisco e São Diego."
   ]
  },
  {
   "cell_type": "markdown",
   "metadata": {
    "papermill": {
     "duration": 0.085179,
     "end_time": "2020-11-03T01:02:45.456928",
     "exception": false,
     "start_time": "2020-11-03T01:02:45.371749",
     "status": "completed"
    },
    "tags": []
   },
   "source": [
    "Utilizando a biblioteca geopy, vamos definir uma função que calcula a distância de determinada casa até as três cidades, e retorna o menor valor encontrado:"
   ]
  },
  {
   "cell_type": "code",
   "execution_count": 17,
   "metadata": {
    "execution": {
     "iopub.execute_input": "2020-11-03T01:02:45.639031Z",
     "iopub.status.busy": "2020-11-03T01:02:45.638160Z",
     "iopub.status.idle": "2020-11-03T01:02:45.641790Z",
     "shell.execute_reply": "2020-11-03T01:02:45.641162Z"
    },
    "papermill": {
     "duration": 0.099507,
     "end_time": "2020-11-03T01:02:45.641926",
     "exception": false,
     "start_time": "2020-11-03T01:02:45.542419",
     "status": "completed"
    },
    "tags": []
   },
   "outputs": [],
   "source": [
    "coord_LA = (34.0522, -118.2437)\n",
    "coord_SF = (37.7749, -122.4194)\n",
    "coord_SD = (32.7157, -117.1611)\n",
    "\n",
    "def dist_cidades(df):\n",
    "    coord_casa = (df[\"latitude\"], df[\"longitude\"])\n",
    "    df[\"dist_to_city\"] = min(geodesic(coord_casa, coord_SF).km, geodesic(coord_casa, coord_LA).km, geodesic(coord_casa, coord_SD).km)\n",
    "    \n",
    "    return df"
   ]
  },
  {
   "cell_type": "markdown",
   "metadata": {
    "papermill": {
     "duration": 0.087263,
     "end_time": "2020-11-03T01:02:45.816208",
     "exception": false,
     "start_time": "2020-11-03T01:02:45.728945",
     "status": "completed"
    },
    "tags": []
   },
   "source": [
    "Agora vamos aplicar essa função ao dataframe de treino, substituindo latitude e longitude pela distância:"
   ]
  },
  {
   "cell_type": "code",
   "execution_count": 18,
   "metadata": {
    "execution": {
     "iopub.execute_input": "2020-11-03T01:02:45.998059Z",
     "iopub.status.busy": "2020-11-03T01:02:45.997244Z",
     "iopub.status.idle": "2020-11-03T01:03:21.285050Z",
     "shell.execute_reply": "2020-11-03T01:03:21.284242Z"
    },
    "papermill": {
     "duration": 35.382357,
     "end_time": "2020-11-03T01:03:21.285198",
     "exception": false,
     "start_time": "2020-11-03T01:02:45.902841",
     "status": "completed"
    },
    "tags": []
   },
   "outputs": [],
   "source": [
    "train = train.apply(dist_cidades, axis = 1)\n",
    "train = train.drop([\"latitude\", \"longitude\"], axis = 1)"
   ]
  },
  {
   "cell_type": "markdown",
   "metadata": {
    "papermill": {
     "duration": 0.087585,
     "end_time": "2020-11-03T01:03:21.460440",
     "exception": false,
     "start_time": "2020-11-03T01:03:21.372855",
     "status": "completed"
    },
    "tags": []
   },
   "source": [
    "Além disso, a partir da matriz de correlação, podemos ver que as variáveis \"total_rooms\", \"total_bedrooms\", \"population\" e \"household\" têm uma ligação extrema entre si. Por isso, vamos adicionar uma média em relação a \"households\". Além disso, podemos adicionar a variável \"bedrooms/rooms\", uma vez que \"total_bedrooms\" e \"total_rooms\" têm alta correlação entre si, mas baixa com a variável alvo. Finalmente, podemos também criar as features \"people/room\" e \"people/bedroom\":"
   ]
  },
  {
   "cell_type": "code",
   "execution_count": 19,
   "metadata": {
    "execution": {
     "iopub.execute_input": "2020-11-03T01:03:21.646112Z",
     "iopub.status.busy": "2020-11-03T01:03:21.645107Z",
     "iopub.status.idle": "2020-11-03T01:03:21.685161Z",
     "shell.execute_reply": "2020-11-03T01:03:21.684366Z"
    },
    "papermill": {
     "duration": 0.137294,
     "end_time": "2020-11-03T01:03:21.685322",
     "exception": false,
     "start_time": "2020-11-03T01:03:21.548028",
     "status": "completed"
    },
    "tags": []
   },
   "outputs": [],
   "source": [
    "train[\"avg_rooms\"] = train.total_rooms/train.households\n",
    "train[\"avg_bedrooms\"] = train.total_bedrooms/train.households\n",
    "train[\"avg_population\"] = train.population/train.households\n",
    "train[\"bedrooms/rooms\"] = train.total_bedrooms/train.total_rooms\n",
    "train[\"people/room\"] = train.population/train.total_rooms\n",
    "train[\"people/bedroom\"] = train.population/train.total_bedrooms"
   ]
  },
  {
   "cell_type": "markdown",
   "metadata": {
    "papermill": {
     "duration": 0.088347,
     "end_time": "2020-11-03T01:03:21.862493",
     "exception": false,
     "start_time": "2020-11-03T01:03:21.774146",
     "status": "completed"
    },
    "tags": []
   },
   "source": [
    "Se ainda não tiverem uma correlação significante com a variável alvo, podemos descartá-las."
   ]
  },
  {
   "cell_type": "code",
   "execution_count": 20,
   "metadata": {
    "execution": {
     "iopub.execute_input": "2020-11-03T01:03:22.067591Z",
     "iopub.status.busy": "2020-11-03T01:03:22.066030Z",
     "iopub.status.idle": "2020-11-03T01:03:23.213812Z",
     "shell.execute_reply": "2020-11-03T01:03:23.214460Z"
    },
    "papermill": {
     "duration": 1.26548,
     "end_time": "2020-11-03T01:03:23.214622",
     "exception": false,
     "start_time": "2020-11-03T01:03:21.949142",
     "status": "completed"
    },
    "tags": []
   },
   "outputs": [
    {
     "data": {
      "text/plain": [
       "<matplotlib.axes._subplots.AxesSubplot at 0x7f5b49924a90>"
      ]
     },
     "execution_count": 20,
     "metadata": {},
     "output_type": "execute_result"
    },
    {
     "data": {
      "image/png": "[encoded data removed]",
      "text/plain": [
       "<Figure size 1080x1080 with 2 Axes>"
      ]
     },
     "metadata": {
      "needs_background": "light"
     },
     "output_type": "display_data"
    }
   ],
   "source": [
    "plt.figure(figsize=(15,15))\n",
    "plt.title(\"Matriz de correlação\")\n",
    "sns.heatmap(train.corr(), annot=True, linewidths=0.2)"
   ]
  },
  {
   "cell_type": "markdown",
   "metadata": {
    "papermill": {
     "duration": 0.095126,
     "end_time": "2020-11-03T01:03:23.402104",
     "exception": false,
     "start_time": "2020-11-03T01:03:23.306978",
     "status": "completed"
    },
    "tags": []
   },
   "source": [
    "Observando a matriz, vemos que \"people/room\", \"people/bedroom\" e \"avg_population\" estão muito relacionadas, então podemos manter apenas uma delas. Além disso, temos que \"total_rooms\" é aproximadamente igual a \"avg_rooms\". O mesmo ocorre com \"households\" e \"total_bedrooms\"; \"households\" e \"total_rooms\"."
   ]
  },
  {
   "cell_type": "markdown",
   "metadata": {
    "papermill": {
     "duration": 0.094924,
     "end_time": "2020-11-03T01:03:23.593859",
     "exception": false,
     "start_time": "2020-11-03T01:03:23.498935",
     "status": "completed"
    },
    "tags": []
   },
   "source": [
    "Com isso, vamos remover \"people/room\", \"avg_population\", \"avg_rooms\", \"total_bedrooms\" e \"total_rooms\":"
   ]
  },
  {
   "cell_type": "code",
   "execution_count": 21,
   "metadata": {
    "execution": {
     "iopub.execute_input": "2020-11-03T01:03:23.796799Z",
     "iopub.status.busy": "2020-11-03T01:03:23.795876Z",
     "iopub.status.idle": "2020-11-03T01:03:24.430533Z",
     "shell.execute_reply": "2020-11-03T01:03:24.431161Z"
    },
    "papermill": {
     "duration": 0.741399,
     "end_time": "2020-11-03T01:03:24.431416",
     "exception": false,
     "start_time": "2020-11-03T01:03:23.690017",
     "status": "completed"
    },
    "tags": []
   },
   "outputs": [
    {
     "data": {
      "text/plain": [
       "<matplotlib.axes._subplots.AxesSubplot at 0x7f5b4c0dfe90>"
      ]
     },
     "execution_count": 21,
     "metadata": {},
     "output_type": "execute_result"
    },
    {
     "data": {
      "image/png": "[encoded data removed]",
      "text/plain": [
       "<Figure size 720x720 with 2 Axes>"
      ]
     },
     "metadata": {
      "needs_background": "light"
     },
     "output_type": "display_data"
    }
   ],
   "source": [
    "train = train.drop([\"people/room\", \"avg_population\", \"avg_rooms\", \"total_bedrooms\", \"total_rooms\"], axis = 1)\n",
    "plt.figure(figsize=(10,10))\n",
    "plt.title(\"Matriz de correlação\")\n",
    "sns.heatmap(train.corr(), annot=True, linewidths=0.2)"
   ]
  },
  {
   "cell_type": "markdown",
   "metadata": {
    "papermill": {
     "duration": 0.097112,
     "end_time": "2020-11-03T01:03:24.624612",
     "exception": false,
     "start_time": "2020-11-03T01:03:24.527500",
     "status": "completed"
    },
    "tags": []
   },
   "source": [
    "Definidas as variáveis auxiliares que serão utilizadas, vamos criá-las também para a base de teste:"
   ]
  },
  {
   "cell_type": "code",
   "execution_count": 22,
   "metadata": {
    "execution": {
     "iopub.execute_input": "2020-11-03T01:03:28.437570Z",
     "iopub.status.busy": "2020-11-03T01:03:24.826541Z",
     "iopub.status.idle": "2020-11-03T01:03:41.427314Z",
     "shell.execute_reply": "2020-11-03T01:03:41.426474Z"
    },
    "papermill": {
     "duration": 16.707407,
     "end_time": "2020-11-03T01:03:41.427457",
     "exception": false,
     "start_time": "2020-11-03T01:03:24.720050",
     "status": "completed"
    },
    "tags": []
   },
   "outputs": [],
   "source": [
    "test = test.apply(dist_cidades, axis = 1)\n",
    "test[\"avg_bedrooms\"] = test.total_bedrooms/test.households\n",
    "test[\"bedrooms/rooms\"] = test.total_bedrooms/test.total_rooms\n",
    "test[\"people/bedroom\"] = test.population/test.total_bedrooms\n",
    "\n",
    "test = test.drop([\"latitude\", \"longitude\", \"total_bedrooms\", \"total_rooms\"], axis = 1)"
   ]
  },
  {
   "cell_type": "markdown",
   "metadata": {
    "papermill": {
     "duration": 0.094028,
     "end_time": "2020-11-03T01:03:41.614577",
     "exception": false,
     "start_time": "2020-11-03T01:03:41.520549",
     "status": "completed"
    },
    "tags": []
   },
   "source": [
    "Visualizando o início de cada tabela para conferir os atributos:"
   ]
  },
  {
   "cell_type": "code",
   "execution_count": 23,
   "metadata": {
    "execution": {
     "iopub.execute_input": "2020-11-03T01:03:41.818104Z",
     "iopub.status.busy": "2020-11-03T01:03:41.817176Z",
     "iopub.status.idle": "2020-11-03T01:03:41.821588Z",
     "shell.execute_reply": "2020-11-03T01:03:41.822156Z"
    },
    "papermill": {
     "duration": 0.113869,
     "end_time": "2020-11-03T01:03:41.822346",
     "exception": false,
     "start_time": "2020-11-03T01:03:41.708477",
     "status": "completed"
    },
    "tags": []
   },
   "outputs": [
    {
     "data": {
      "text/html": [
       "<div>\n",
       "<style scoped>\n",
       "    .dataframe tbody tr th:only-of-type {\n",
       "        vertical-align: middle;\n",
       "    }\n",
       "\n",
       "    .dataframe tbody tr th {\n",
       "        vertical-align: top;\n",
       "    }\n",
       "\n",
       "    .dataframe thead th {\n",
       "        text-align: right;\n",
       "    }\n",
       "</style>\n",
       "<table border=\"1\" class=\"dataframe\">\n",
       "  <thead>\n",
       "    <tr style=\"text-align: right;\">\n",
       "      <th></th>\n",
       "      <th>median_age</th>\n",
       "      <th>population</th>\n",
       "      <th>households</th>\n",
       "      <th>median_income</th>\n",
       "      <th>median_house_value</th>\n",
       "      <th>dist_to_city</th>\n",
       "      <th>avg_bedrooms</th>\n",
       "      <th>bedrooms/rooms</th>\n",
       "      <th>people/bedroom</th>\n",
       "    </tr>\n",
       "  </thead>\n",
       "  <tbody>\n",
       "    <tr>\n",
       "      <th>0</th>\n",
       "      <td>27.0</td>\n",
       "      <td>451.0</td>\n",
       "      <td>150.0</td>\n",
       "      <td>34934.0</td>\n",
       "      <td>193800.0</td>\n",
       "      <td>140.308617</td>\n",
       "      <td>1.046667</td>\n",
       "      <td>0.191697</td>\n",
       "      <td>2.872611</td>\n",
       "    </tr>\n",
       "    <tr>\n",
       "      <th>1</th>\n",
       "      <td>48.0</td>\n",
       "      <td>1508.0</td>\n",
       "      <td>548.0</td>\n",
       "      <td>28983.0</td>\n",
       "      <td>129200.0</td>\n",
       "      <td>46.511604</td>\n",
       "      <td>1.093066</td>\n",
       "      <td>0.245693</td>\n",
       "      <td>2.517529</td>\n",
       "    </tr>\n",
       "    <tr>\n",
       "      <th>2</th>\n",
       "      <td>32.0</td>\n",
       "      <td>729.0</td>\n",
       "      <td>177.0</td>\n",
       "      <td>43000.0</td>\n",
       "      <td>151300.0</td>\n",
       "      <td>19.174143</td>\n",
       "      <td>1.073446</td>\n",
       "      <td>0.187008</td>\n",
       "      <td>3.836842</td>\n",
       "    </tr>\n",
       "    <tr>\n",
       "      <th>3</th>\n",
       "      <td>35.0</td>\n",
       "      <td>984.0</td>\n",
       "      <td>384.0</td>\n",
       "      <td>34167.0</td>\n",
       "      <td>198200.0</td>\n",
       "      <td>15.747283</td>\n",
       "      <td>1.164062</td>\n",
       "      <td>0.253977</td>\n",
       "      <td>2.201342</td>\n",
       "    </tr>\n",
       "    <tr>\n",
       "      <th>4</th>\n",
       "      <td>27.0</td>\n",
       "      <td>1462.0</td>\n",
       "      <td>479.0</td>\n",
       "      <td>26439.0</td>\n",
       "      <td>69100.0</td>\n",
       "      <td>163.137174</td>\n",
       "      <td>0.926931</td>\n",
       "      <td>0.213154</td>\n",
       "      <td>3.292793</td>\n",
       "    </tr>\n",
       "  </tbody>\n",
       "</table>\n",
       "</div>"
      ],
      "text/plain": [
       "   median_age  population  households  median_income  median_house_value  \\\n",
       "0        27.0       451.0       150.0        34934.0            193800.0   \n",
       "1        48.0      1508.0       548.0        28983.0            129200.0   \n",
       "2        32.0       729.0       177.0        43000.0            151300.0   \n",
       "3        35.0       984.0       384.0        34167.0            198200.0   \n",
       "4        27.0      1462.0       479.0        26439.0             69100.0   \n",
       "\n",
       "   dist_to_city  avg_bedrooms  bedrooms/rooms  people/bedroom  \n",
       "0    140.308617      1.046667        0.191697        2.872611  \n",
       "1     46.511604      1.093066        0.245693        2.517529  \n",
       "2     19.174143      1.073446        0.187008        3.836842  \n",
       "3     15.747283      1.164062        0.253977        2.201342  \n",
       "4    163.137174      0.926931        0.213154        3.292793  "
      ]
     },
     "execution_count": 23,
     "metadata": {},
     "output_type": "execute_result"
    }
   ],
   "source": [
    "train.head()"
   ]
  },
  {
   "cell_type": "code",
   "execution_count": 24,
   "metadata": {
    "execution": {
     "iopub.execute_input": "2020-11-03T01:03:42.025067Z",
     "iopub.status.busy": "2020-11-03T01:03:42.023777Z",
     "iopub.status.idle": "2020-11-03T01:03:42.028830Z",
     "shell.execute_reply": "2020-11-03T01:03:42.028021Z"
    },
    "papermill": {
     "duration": 0.114094,
     "end_time": "2020-11-03T01:03:42.028964",
     "exception": false,
     "start_time": "2020-11-03T01:03:41.914870",
     "status": "completed"
    },
    "tags": []
   },
   "outputs": [
    {
     "data": {
      "text/html": [
       "<div>\n",
       "<style scoped>\n",
       "    .dataframe tbody tr th:only-of-type {\n",
       "        vertical-align: middle;\n",
       "    }\n",
       "\n",
       "    .dataframe tbody tr th {\n",
       "        vertical-align: top;\n",
       "    }\n",
       "\n",
       "    .dataframe thead th {\n",
       "        text-align: right;\n",
       "    }\n",
       "</style>\n",
       "<table border=\"1\" class=\"dataframe\">\n",
       "  <thead>\n",
       "    <tr style=\"text-align: right;\">\n",
       "      <th></th>\n",
       "      <th>median_age</th>\n",
       "      <th>population</th>\n",
       "      <th>households</th>\n",
       "      <th>median_income</th>\n",
       "      <th>dist_to_city</th>\n",
       "      <th>avg_bedrooms</th>\n",
       "      <th>bedrooms/rooms</th>\n",
       "      <th>people/bedroom</th>\n",
       "    </tr>\n",
       "  </thead>\n",
       "  <tbody>\n",
       "    <tr>\n",
       "      <th>0</th>\n",
       "      <td>5.0</td>\n",
       "      <td>2440.0</td>\n",
       "      <td>736.0</td>\n",
       "      <td>79013.0</td>\n",
       "      <td>47.960483</td>\n",
       "      <td>1.120924</td>\n",
       "      <td>0.134738</td>\n",
       "      <td>2.957576</td>\n",
       "    </tr>\n",
       "    <tr>\n",
       "      <th>1</th>\n",
       "      <td>26.0</td>\n",
       "      <td>593.0</td>\n",
       "      <td>188.0</td>\n",
       "      <td>36667.0</td>\n",
       "      <td>54.042854</td>\n",
       "      <td>1.063830</td>\n",
       "      <td>0.173762</td>\n",
       "      <td>2.965000</td>\n",
       "    </tr>\n",
       "    <tr>\n",
       "      <th>2</th>\n",
       "      <td>34.0</td>\n",
       "      <td>1558.0</td>\n",
       "      <td>421.0</td>\n",
       "      <td>26903.0</td>\n",
       "      <td>159.134955</td>\n",
       "      <td>1.059382</td>\n",
       "      <td>0.184909</td>\n",
       "      <td>3.493274</td>\n",
       "    </tr>\n",
       "    <tr>\n",
       "      <th>3</th>\n",
       "      <td>16.0</td>\n",
       "      <td>956.0</td>\n",
       "      <td>472.0</td>\n",
       "      <td>25625.0</td>\n",
       "      <td>94.050076</td>\n",
       "      <td>1.103814</td>\n",
       "      <td>0.202173</td>\n",
       "      <td>1.834933</td>\n",
       "    </tr>\n",
       "    <tr>\n",
       "      <th>4</th>\n",
       "      <td>14.0</td>\n",
       "      <td>1140.0</td>\n",
       "      <td>369.0</td>\n",
       "      <td>47019.0</td>\n",
       "      <td>178.892800</td>\n",
       "      <td>0.962060</td>\n",
       "      <td>0.156595</td>\n",
       "      <td>3.211268</td>\n",
       "    </tr>\n",
       "  </tbody>\n",
       "</table>\n",
       "</div>"
      ],
      "text/plain": [
       "   median_age  population  households  median_income  dist_to_city  \\\n",
       "0         5.0      2440.0       736.0        79013.0     47.960483   \n",
       "1        26.0       593.0       188.0        36667.0     54.042854   \n",
       "2        34.0      1558.0       421.0        26903.0    159.134955   \n",
       "3        16.0       956.0       472.0        25625.0     94.050076   \n",
       "4        14.0      1140.0       369.0        47019.0    178.892800   \n",
       "\n",
       "   avg_bedrooms  bedrooms/rooms  people/bedroom  \n",
       "0      1.120924        0.134738        2.957576  \n",
       "1      1.063830        0.173762        2.965000  \n",
       "2      1.059382        0.184909        3.493274  \n",
       "3      1.103814        0.202173        1.834933  \n",
       "4      0.962060        0.156595        3.211268  "
      ]
     },
     "execution_count": 24,
     "metadata": {},
     "output_type": "execute_result"
    }
   ],
   "source": [
    "test.head()"
   ]
  },
  {
   "cell_type": "markdown",
   "metadata": {
    "papermill": {
     "duration": 0.093079,
     "end_time": "2020-11-03T01:03:42.217136",
     "exception": false,
     "start_time": "2020-11-03T01:03:42.124057",
     "status": "completed"
    },
    "tags": []
   },
   "source": [
    "# 4. Aplicação dos modelos de Regressão:"
   ]
  },
  {
   "cell_type": "markdown",
   "metadata": {
    "papermill": {
     "duration": 0.094656,
     "end_time": "2020-11-03T01:03:42.407821",
     "exception": false,
     "start_time": "2020-11-03T01:03:42.313165",
     "status": "completed"
    },
    "tags": []
   },
   "source": [
    "Vamos normalizar o conjunto de treino, exceto a variável de classe, e vamos criar um conjunto de avaliação:"
   ]
  },
  {
   "cell_type": "code",
   "execution_count": 25,
   "metadata": {
    "execution": {
     "iopub.execute_input": "2020-11-03T01:03:42.607888Z",
     "iopub.status.busy": "2020-11-03T01:03:42.606647Z",
     "iopub.status.idle": "2020-11-03T01:03:42.616078Z",
     "shell.execute_reply": "2020-11-03T01:03:42.615409Z"
    },
    "papermill": {
     "duration": 0.114772,
     "end_time": "2020-11-03T01:03:42.616242",
     "exception": false,
     "start_time": "2020-11-03T01:03:42.501470",
     "status": "completed"
    },
    "tags": []
   },
   "outputs": [],
   "source": [
    "scaler = MinMaxScaler()\n",
    "sel_col = ['median_age', 'population', 'households', 'median_income', 'dist_to_city', \"avg_bedrooms\", \"bedrooms/rooms\", \"people/bedroom\"]\n",
    "trainScaled = scaler.fit_transform(train[sel_col])\n",
    "X_train, X_test, Y_train, Y_test = train_test_split(trainScaled, train['median_house_value'], test_size=0.20)"
   ]
  },
  {
   "cell_type": "markdown",
   "metadata": {
    "papermill": {
     "duration": 0.094167,
     "end_time": "2020-11-03T01:03:42.804994",
     "exception": false,
     "start_time": "2020-11-03T01:03:42.710827",
     "status": "completed"
    },
    "tags": []
   },
   "source": [
    "Além disso, também devemos normalizar o dataset de teste, de modo que tenhamos entradas de ordens de grandeza equivalentes, condição necessária para classificação correta da variável de classe:"
   ]
  },
  {
   "cell_type": "code",
   "execution_count": 26,
   "metadata": {
    "execution": {
     "iopub.execute_input": "2020-11-03T01:03:43.050113Z",
     "iopub.status.busy": "2020-11-03T01:03:43.048856Z",
     "iopub.status.idle": "2020-11-03T01:03:43.057374Z",
     "shell.execute_reply": "2020-11-03T01:03:43.056479Z"
    },
    "papermill": {
     "duration": 0.138406,
     "end_time": "2020-11-03T01:03:43.057522",
     "exception": false,
     "start_time": "2020-11-03T01:03:42.919116",
     "status": "completed"
    },
    "tags": []
   },
   "outputs": [],
   "source": [
    "testScaled = scaler.fit_transform(test[sel_col])"
   ]
  },
  {
   "cell_type": "markdown",
   "metadata": {
    "papermill": {
     "duration": 0.096859,
     "end_time": "2020-11-03T01:03:43.263043",
     "exception": false,
     "start_time": "2020-11-03T01:03:43.166184",
     "status": "completed"
    },
    "tags": []
   },
   "source": [
    "Devemos definir uma função para calcular o \"root mean squared log error\", que será usado no Leaderboard:"
   ]
  },
  {
   "cell_type": "code",
   "execution_count": 27,
   "metadata": {
    "execution": {
     "iopub.execute_input": "2020-11-03T01:03:43.473881Z",
     "iopub.status.busy": "2020-11-03T01:03:43.472811Z",
     "iopub.status.idle": "2020-11-03T01:03:43.476806Z",
     "shell.execute_reply": "2020-11-03T01:03:43.475519Z"
    },
    "papermill": {
     "duration": 0.111409,
     "end_time": "2020-11-03T01:03:43.476957",
     "exception": false,
     "start_time": "2020-11-03T01:03:43.365548",
     "status": "completed"
    },
    "tags": []
   },
   "outputs": [],
   "source": [
    "def rmsle(y_test,y_pred):\n",
    "    return np.sqrt(np.mean((np.log(np.abs(y_pred)+1) - np.log(np.abs(y_test)+1))**2))"
   ]
  },
  {
   "cell_type": "markdown",
   "metadata": {
    "papermill": {
     "duration": 0.103251,
     "end_time": "2020-11-03T01:03:43.679772",
     "exception": false,
     "start_time": "2020-11-03T01:03:43.576521",
     "status": "completed"
    },
    "tags": []
   },
   "source": [
    "Junto a um sistema de scoring que leva em conta esse erro:"
   ]
  },
  {
   "cell_type": "code",
   "execution_count": 28,
   "metadata": {
    "execution": {
     "iopub.execute_input": "2020-11-03T01:03:43.881751Z",
     "iopub.status.busy": "2020-11-03T01:03:43.880467Z",
     "iopub.status.idle": "2020-11-03T01:03:43.883668Z",
     "shell.execute_reply": "2020-11-03T01:03:43.884313Z"
    },
    "papermill": {
     "duration": 0.10693,
     "end_time": "2020-11-03T01:03:43.884496",
     "exception": false,
     "start_time": "2020-11-03T01:03:43.777566",
     "status": "completed"
    },
    "tags": []
   },
   "outputs": [],
   "source": [
    "scorer = make_scorer(rmsle, greater_is_better=False)"
   ]
  },
  {
   "cell_type": "markdown",
   "metadata": {
    "papermill": {
     "duration": 0.117744,
     "end_time": "2020-11-03T01:03:44.101934",
     "exception": false,
     "start_time": "2020-11-03T01:03:43.984190",
     "status": "completed"
    },
    "tags": []
   },
   "source": [
    "## 4.1. Implementação de Regressão Linear:"
   ]
  },
  {
   "cell_type": "markdown",
   "metadata": {
    "papermill": {
     "duration": 0.097663,
     "end_time": "2020-11-03T01:03:44.312375",
     "exception": false,
     "start_time": "2020-11-03T01:03:44.214712",
     "status": "completed"
    },
    "tags": []
   },
   "source": [
    "Vamos otimizar os hiperparâmetros para o menor RMSLE utilizando o GridSearch:"
   ]
  },
  {
   "cell_type": "code",
   "execution_count": 29,
   "metadata": {
    "execution": {
     "iopub.execute_input": "2020-11-03T01:03:44.513681Z",
     "iopub.status.busy": "2020-11-03T01:03:44.512490Z",
     "iopub.status.idle": "2020-11-03T01:03:44.517684Z",
     "shell.execute_reply": "2020-11-03T01:03:44.516899Z"
    },
    "papermill": {
     "duration": 0.108126,
     "end_time": "2020-11-03T01:03:44.517814",
     "exception": false,
     "start_time": "2020-11-03T01:03:44.409688",
     "status": "completed"
    },
    "tags": []
   },
   "outputs": [
    {
     "data": {
      "text/plain": [
       "{'copy_X': True, 'fit_intercept': True, 'n_jobs': None, 'normalize': False}"
      ]
     },
     "execution_count": 29,
     "metadata": {},
     "output_type": "execute_result"
    }
   ],
   "source": [
    "LR = LinearRegression()\n",
    "LR.get_params()"
   ]
  },
  {
   "cell_type": "markdown",
   "metadata": {
    "papermill": {
     "duration": 0.096165,
     "end_time": "2020-11-03T01:03:44.711553",
     "exception": false,
     "start_time": "2020-11-03T01:03:44.615388",
     "status": "completed"
    },
    "tags": []
   },
   "source": [
    "Esse regressor tem um score de:"
   ]
  },
  {
   "cell_type": "code",
   "execution_count": 30,
   "metadata": {
    "execution": {
     "iopub.execute_input": "2020-11-03T01:03:44.907950Z",
     "iopub.status.busy": "2020-11-03T01:03:44.906739Z",
     "iopub.status.idle": "2020-11-03T01:03:44.990035Z",
     "shell.execute_reply": "2020-11-03T01:03:44.989306Z"
    },
    "papermill": {
     "duration": 0.184666,
     "end_time": "2020-11-03T01:03:44.990191",
     "exception": false,
     "start_time": "2020-11-03T01:03:44.805525",
     "status": "completed"
    },
    "tags": []
   },
   "outputs": [
    {
     "data": {
      "text/plain": [
       "0.5986203229332518"
      ]
     },
     "execution_count": 30,
     "metadata": {},
     "output_type": "execute_result"
    }
   ],
   "source": [
    "LR_score = np.mean(cross_val_score(LR, X_train, Y_train, cv = 10))\n",
    "LR_score"
   ]
  },
  {
   "cell_type": "code",
   "execution_count": 31,
   "metadata": {
    "execution": {
     "iopub.execute_input": "2020-11-03T01:03:45.191775Z",
     "iopub.status.busy": "2020-11-03T01:03:45.190954Z",
     "iopub.status.idle": "2020-11-03T01:03:45.193498Z",
     "shell.execute_reply": "2020-11-03T01:03:45.194093Z"
    },
    "papermill": {
     "duration": 0.106019,
     "end_time": "2020-11-03T01:03:45.194253",
     "exception": false,
     "start_time": "2020-11-03T01:03:45.088234",
     "status": "completed"
    },
    "tags": []
   },
   "outputs": [],
   "source": [
    "grid_params_LR = {\"fit_intercept\":[True, False],\"normalize\":[True,False]}\n",
    "grid_LR = GridSearchCV(LR,grid_params_LR,cv=10,scoring=scorer)"
   ]
  },
  {
   "cell_type": "code",
   "execution_count": 32,
   "metadata": {
    "execution": {
     "iopub.execute_input": "2020-11-03T01:03:45.394965Z",
     "iopub.status.busy": "2020-11-03T01:03:45.394091Z",
     "iopub.status.idle": "2020-11-03T01:03:45.584194Z",
     "shell.execute_reply": "2020-11-03T01:03:45.582675Z"
    },
    "papermill": {
     "duration": 0.293912,
     "end_time": "2020-11-03T01:03:45.584363",
     "exception": false,
     "start_time": "2020-11-03T01:03:45.290451",
     "status": "completed"
    },
    "tags": []
   },
   "outputs": [
    {
     "name": "stdout",
     "output_type": "stream",
     "text": [
      "LinearRegression(fit_intercept=False, normalize=True)\n"
     ]
    }
   ],
   "source": [
    "grid_LR.fit(X_train, Y_train)\n",
    "print(grid_LR.best_estimator_)"
   ]
  },
  {
   "cell_type": "markdown",
   "metadata": {
    "papermill": {
     "duration": 0.095527,
     "end_time": "2020-11-03T01:03:45.776832",
     "exception": false,
     "start_time": "2020-11-03T01:03:45.681305",
     "status": "completed"
    },
    "tags": []
   },
   "source": [
    "Podemos calcular o erro do melhor estimador comparando o resultado gerado pelo conjunto de teste com o \"gabarito\" do conjunto de avaliação:"
   ]
  },
  {
   "cell_type": "code",
   "execution_count": 33,
   "metadata": {
    "execution": {
     "iopub.execute_input": "2020-11-03T01:03:45.974826Z",
     "iopub.status.busy": "2020-11-03T01:03:45.973774Z",
     "iopub.status.idle": "2020-11-03T01:03:45.982538Z",
     "shell.execute_reply": "2020-11-03T01:03:45.981853Z"
    },
    "papermill": {
     "duration": 0.111009,
     "end_time": "2020-11-03T01:03:45.982676",
     "exception": false,
     "start_time": "2020-11-03T01:03:45.871667",
     "status": "completed"
    },
    "tags": []
   },
   "outputs": [
    {
     "name": "stdout",
     "output_type": "stream",
     "text": [
      "RMSLE: 0.3912825315393159\n"
     ]
    }
   ],
   "source": [
    "LR = grid_LR.best_estimator_\n",
    "LR.fit(X_train, Y_train)\n",
    "Y_pred = LR.predict(X_test)\n",
    "LR_RMSLE = rmsle(Y_pred, Y_test)\n",
    "print(\"RMSLE:\", LR_RMSLE)"
   ]
  },
  {
   "cell_type": "markdown",
   "metadata": {
    "papermill": {
     "duration": 0.097322,
     "end_time": "2020-11-03T01:03:46.185662",
     "exception": false,
     "start_time": "2020-11-03T01:03:46.088340",
     "status": "completed"
    },
    "tags": []
   },
   "source": [
    "## 4.2. Implementação de Regressão kNN:"
   ]
  },
  {
   "cell_type": "markdown",
   "metadata": {
    "papermill": {
     "duration": 0.096355,
     "end_time": "2020-11-03T01:03:46.378388",
     "exception": false,
     "start_time": "2020-11-03T01:03:46.282033",
     "status": "completed"
    },
    "tags": []
   },
   "source": [
    "Vamos buscar otimizar os hiperparâmetros por meio do GridSearch:"
   ]
  },
  {
   "cell_type": "code",
   "execution_count": 34,
   "metadata": {
    "execution": {
     "iopub.execute_input": "2020-11-03T01:03:46.577720Z",
     "iopub.status.busy": "2020-11-03T01:03:46.576788Z",
     "iopub.status.idle": "2020-11-03T01:03:46.581569Z",
     "shell.execute_reply": "2020-11-03T01:03:46.580906Z"
    },
    "papermill": {
     "duration": 0.107681,
     "end_time": "2020-11-03T01:03:46.581717",
     "exception": false,
     "start_time": "2020-11-03T01:03:46.474036",
     "status": "completed"
    },
    "tags": []
   },
   "outputs": [
    {
     "data": {
      "text/plain": [
       "{'algorithm': 'auto',\n",
       " 'leaf_size': 30,\n",
       " 'metric': 'minkowski',\n",
       " 'metric_params': None,\n",
       " 'n_jobs': None,\n",
       " 'n_neighbors': 5,\n",
       " 'p': 2,\n",
       " 'weights': 'uniform'}"
      ]
     },
     "execution_count": 34,
     "metadata": {},
     "output_type": "execute_result"
    }
   ],
   "source": [
    "knn = KNeighborsRegressor()\n",
    "knn.get_params()"
   ]
  },
  {
   "cell_type": "markdown",
   "metadata": {
    "papermill": {
     "duration": 0.09654,
     "end_time": "2020-11-03T01:03:46.774511",
     "exception": false,
     "start_time": "2020-11-03T01:03:46.677971",
     "status": "completed"
    },
    "tags": []
   },
   "source": [
    "Esse regressor tem score de:"
   ]
  },
  {
   "cell_type": "code",
   "execution_count": 35,
   "metadata": {
    "execution": {
     "iopub.execute_input": "2020-11-03T01:03:46.975520Z",
     "iopub.status.busy": "2020-11-03T01:03:46.974653Z",
     "iopub.status.idle": "2020-11-03T01:03:47.412032Z",
     "shell.execute_reply": "2020-11-03T01:03:47.411407Z"
    },
    "papermill": {
     "duration": 0.540579,
     "end_time": "2020-11-03T01:03:47.412186",
     "exception": false,
     "start_time": "2020-11-03T01:03:46.871607",
     "status": "completed"
    },
    "tags": []
   },
   "outputs": [
    {
     "data": {
      "text/plain": [
       "0.6321009840938374"
      ]
     },
     "execution_count": 35,
     "metadata": {},
     "output_type": "execute_result"
    }
   ],
   "source": [
    "knn_score = np.mean(cross_val_score(knn, X_train, Y_train, cv = 10))\n",
    "knn_score"
   ]
  },
  {
   "cell_type": "code",
   "execution_count": 36,
   "metadata": {
    "execution": {
     "iopub.execute_input": "2020-11-03T01:03:47.614188Z",
     "iopub.status.busy": "2020-11-03T01:03:47.613066Z",
     "iopub.status.idle": "2020-11-03T01:03:47.616604Z",
     "shell.execute_reply": "2020-11-03T01:03:47.615844Z"
    },
    "papermill": {
     "duration": 0.10707,
     "end_time": "2020-11-03T01:03:47.616735",
     "exception": false,
     "start_time": "2020-11-03T01:03:47.509665",
     "status": "completed"
    },
    "tags": []
   },
   "outputs": [],
   "source": [
    "grid_params_knn = {\"n_neighbors\":[i for i in range(1,31)],\"weights\":[\"uniform\",\"distance\"],\"p\":[1,2]}\n",
    "grid_knn = GridSearchCV(knn,grid_params_knn,cv=10)"
   ]
  },
  {
   "cell_type": "code",
   "execution_count": 37,
   "metadata": {
    "execution": {
     "iopub.execute_input": "2020-11-03T01:03:47.818022Z",
     "iopub.status.busy": "2020-11-03T01:03:47.816949Z",
     "iopub.status.idle": "2020-11-03T01:05:01.373253Z",
     "shell.execute_reply": "2020-11-03T01:05:01.373937Z"
    },
    "papermill": {
     "duration": 73.660081,
     "end_time": "2020-11-03T01:05:01.374117",
     "exception": false,
     "start_time": "2020-11-03T01:03:47.714036",
     "status": "completed"
    },
    "tags": []
   },
   "outputs": [
    {
     "name": "stdout",
     "output_type": "stream",
     "text": [
      "KNeighborsRegressor(n_neighbors=17, p=1, weights='distance')\n"
     ]
    }
   ],
   "source": [
    "grid_knn.fit(X_train,Y_train)\n",
    "print(grid_knn.best_estimator_)"
   ]
  },
  {
   "cell_type": "markdown",
   "metadata": {
    "papermill": {
     "duration": 0.097393,
     "end_time": "2020-11-03T01:05:01.570999",
     "exception": false,
     "start_time": "2020-11-03T01:05:01.473606",
     "status": "completed"
    },
    "tags": []
   },
   "source": [
    "Assim, escolhemos o regressor com melhor pontuação:"
   ]
  },
  {
   "cell_type": "code",
   "execution_count": 38,
   "metadata": {
    "execution": {
     "iopub.execute_input": "2020-11-03T01:05:01.785651Z",
     "iopub.status.busy": "2020-11-03T01:05:01.773842Z",
     "iopub.status.idle": "2020-11-03T01:05:01.951397Z",
     "shell.execute_reply": "2020-11-03T01:05:01.950673Z"
    },
    "papermill": {
     "duration": 0.282101,
     "end_time": "2020-11-03T01:05:01.951536",
     "exception": false,
     "start_time": "2020-11-03T01:05:01.669435",
     "status": "completed"
    },
    "tags": []
   },
   "outputs": [
    {
     "name": "stdout",
     "output_type": "stream",
     "text": [
      "RMSLE: 0.32535731216819697\n"
     ]
    }
   ],
   "source": [
    "knn = grid_knn.best_estimator_\n",
    "knn.fit(X_train, Y_train)\n",
    "Y_pred = knn.predict(X_test)\n",
    "knn_RMSLE = rmsle(Y_pred, Y_test)\n",
    "print(\"RMSLE:\", knn_RMSLE)"
   ]
  },
  {
   "cell_type": "markdown",
   "metadata": {
    "papermill": {
     "duration": 0.103593,
     "end_time": "2020-11-03T01:05:02.152694",
     "exception": false,
     "start_time": "2020-11-03T01:05:02.049101",
     "status": "completed"
    },
    "tags": []
   },
   "source": [
    "## 4.3. Implementação de Regressão RIDGE:"
   ]
  },
  {
   "cell_type": "markdown",
   "metadata": {
    "papermill": {
     "duration": 0.097787,
     "end_time": "2020-11-03T01:05:02.349777",
     "exception": false,
     "start_time": "2020-11-03T01:05:02.251990",
     "status": "completed"
    },
    "tags": []
   },
   "source": [
    "Novamente, utilizaremos o GridSearch para encontrar os melhores hiperparâmetros:"
   ]
  },
  {
   "cell_type": "code",
   "execution_count": 39,
   "metadata": {
    "execution": {
     "iopub.execute_input": "2020-11-03T01:05:02.554681Z",
     "iopub.status.busy": "2020-11-03T01:05:02.553552Z",
     "iopub.status.idle": "2020-11-03T01:05:02.558178Z",
     "shell.execute_reply": "2020-11-03T01:05:02.557427Z"
    },
    "papermill": {
     "duration": 0.108644,
     "end_time": "2020-11-03T01:05:02.558328",
     "exception": false,
     "start_time": "2020-11-03T01:05:02.449684",
     "status": "completed"
    },
    "tags": []
   },
   "outputs": [
    {
     "data": {
      "text/plain": [
       "{'alpha': 1.0,\n",
       " 'copy_X': True,\n",
       " 'fit_intercept': True,\n",
       " 'max_iter': None,\n",
       " 'normalize': False,\n",
       " 'random_state': None,\n",
       " 'solver': 'auto',\n",
       " 'tol': 0.001}"
      ]
     },
     "execution_count": 39,
     "metadata": {},
     "output_type": "execute_result"
    }
   ],
   "source": [
    "ridge = Ridge()\n",
    "ridge.get_params()"
   ]
  },
  {
   "cell_type": "markdown",
   "metadata": {
    "papermill": {
     "duration": 0.098461,
     "end_time": "2020-11-03T01:05:02.755449",
     "exception": false,
     "start_time": "2020-11-03T01:05:02.656988",
     "status": "completed"
    },
    "tags": []
   },
   "source": [
    "Esse regressor tem score de:"
   ]
  },
  {
   "cell_type": "code",
   "execution_count": 40,
   "metadata": {
    "execution": {
     "iopub.execute_input": "2020-11-03T01:05:02.958547Z",
     "iopub.status.busy": "2020-11-03T01:05:02.957696Z",
     "iopub.status.idle": "2020-11-03T01:05:03.013189Z",
     "shell.execute_reply": "2020-11-03T01:05:03.012289Z"
    },
    "papermill": {
     "duration": 0.159083,
     "end_time": "2020-11-03T01:05:03.013392",
     "exception": false,
     "start_time": "2020-11-03T01:05:02.854309",
     "status": "completed"
    },
    "tags": []
   },
   "outputs": [
    {
     "data": {
      "text/plain": [
       "0.610584914312281"
      ]
     },
     "execution_count": 40,
     "metadata": {},
     "output_type": "execute_result"
    }
   ],
   "source": [
    "ridge_score = np.mean(cross_val_score(ridge, X_train, Y_train, cv = 10))\n",
    "ridge_score"
   ]
  },
  {
   "cell_type": "code",
   "execution_count": 41,
   "metadata": {
    "execution": {
     "iopub.execute_input": "2020-11-03T01:05:03.225587Z",
     "iopub.status.busy": "2020-11-03T01:05:03.224738Z",
     "iopub.status.idle": "2020-11-03T01:05:03.228127Z",
     "shell.execute_reply": "2020-11-03T01:05:03.227375Z"
    },
    "papermill": {
     "duration": 0.11135,
     "end_time": "2020-11-03T01:05:03.228290",
     "exception": false,
     "start_time": "2020-11-03T01:05:03.116940",
     "status": "completed"
    },
    "tags": []
   },
   "outputs": [],
   "source": [
    "grid_params_ridge = {\"alpha\":np.linspace(0.5,10.5,101).tolist()}\n",
    "grid_ridge = GridSearchCV(ridge,grid_params_ridge,cv=10,scoring=scorer)"
   ]
  },
  {
   "cell_type": "code",
   "execution_count": 42,
   "metadata": {
    "execution": {
     "iopub.execute_input": "2020-11-03T01:05:03.438816Z",
     "iopub.status.busy": "2020-11-03T01:05:03.437519Z",
     "iopub.status.idle": "2020-11-03T01:05:07.656895Z",
     "shell.execute_reply": "2020-11-03T01:05:07.657508Z"
    },
    "papermill": {
     "duration": 4.329054,
     "end_time": "2020-11-03T01:05:07.657687",
     "exception": false,
     "start_time": "2020-11-03T01:05:03.328633",
     "status": "completed"
    },
    "tags": []
   },
   "outputs": [
    {
     "name": "stdout",
     "output_type": "stream",
     "text": [
      "Ridge(alpha=2.9000000000000004)\n"
     ]
    }
   ],
   "source": [
    "grid_ridge.fit(X_train, Y_train)\n",
    "print(grid_ridge.best_estimator_)"
   ]
  },
  {
   "cell_type": "markdown",
   "metadata": {
    "papermill": {
     "duration": 0.09862,
     "end_time": "2020-11-03T01:05:07.856233",
     "exception": false,
     "start_time": "2020-11-03T01:05:07.757613",
     "status": "completed"
    },
    "tags": []
   },
   "source": [
    "Logo, o regressor RIDGE que vamos escolher tem score de:"
   ]
  },
  {
   "cell_type": "code",
   "execution_count": 43,
   "metadata": {
    "execution": {
     "iopub.execute_input": "2020-11-03T01:05:08.063861Z",
     "iopub.status.busy": "2020-11-03T01:05:08.062529Z",
     "iopub.status.idle": "2020-11-03T01:05:08.071591Z",
     "shell.execute_reply": "2020-11-03T01:05:08.070702Z"
    },
    "papermill": {
     "duration": 0.115702,
     "end_time": "2020-11-03T01:05:08.071771",
     "exception": false,
     "start_time": "2020-11-03T01:05:07.956069",
     "status": "completed"
    },
    "tags": []
   },
   "outputs": [
    {
     "name": "stdout",
     "output_type": "stream",
     "text": [
      "RMSLE: 0.3759283614829732\n"
     ]
    }
   ],
   "source": [
    "ridge = grid_ridge.best_estimator_\n",
    "ridge.fit(X_train, Y_train)\n",
    "Y_pred = ridge.predict(X_test)\n",
    "ridge_RMSLE = rmsle(Y_pred, Y_test)\n",
    "print(\"RMSLE:\", ridge_RMSLE)"
   ]
  },
  {
   "cell_type": "markdown",
   "metadata": {
    "papermill": {
     "duration": 0.099176,
     "end_time": "2020-11-03T01:05:08.271847",
     "exception": false,
     "start_time": "2020-11-03T01:05:08.172671",
     "status": "completed"
    },
    "tags": []
   },
   "source": [
    "## 4.4. Implementação de Regressão LASSO:"
   ]
  },
  {
   "cell_type": "markdown",
   "metadata": {
    "papermill": {
     "duration": 0.101081,
     "end_time": "2020-11-03T01:05:08.473928",
     "exception": false,
     "start_time": "2020-11-03T01:05:08.372847",
     "status": "completed"
    },
    "tags": []
   },
   "source": [
    "O processo a ser seguido é totalmente análogo ao realizado para as outras duas regressões:"
   ]
  },
  {
   "cell_type": "code",
   "execution_count": 44,
   "metadata": {
    "execution": {
     "iopub.execute_input": "2020-11-03T01:05:08.682017Z",
     "iopub.status.busy": "2020-11-03T01:05:08.681114Z",
     "iopub.status.idle": "2020-11-03T01:05:08.685746Z",
     "shell.execute_reply": "2020-11-03T01:05:08.685034Z"
    },
    "papermill": {
     "duration": 0.111496,
     "end_time": "2020-11-03T01:05:08.685885",
     "exception": false,
     "start_time": "2020-11-03T01:05:08.574389",
     "status": "completed"
    },
    "tags": []
   },
   "outputs": [
    {
     "data": {
      "text/plain": [
       "{'alpha': 1.0,\n",
       " 'copy_X': True,\n",
       " 'fit_intercept': True,\n",
       " 'max_iter': 1000,\n",
       " 'normalize': False,\n",
       " 'positive': False,\n",
       " 'precompute': False,\n",
       " 'random_state': None,\n",
       " 'selection': 'cyclic',\n",
       " 'tol': 0.0001,\n",
       " 'warm_start': False}"
      ]
     },
     "execution_count": 44,
     "metadata": {},
     "output_type": "execute_result"
    }
   ],
   "source": [
    "lasso = Lasso()\n",
    "lasso.get_params()"
   ]
  },
  {
   "cell_type": "markdown",
   "metadata": {
    "papermill": {
     "duration": 0.100452,
     "end_time": "2020-11-03T01:05:08.888102",
     "exception": false,
     "start_time": "2020-11-03T01:05:08.787650",
     "status": "completed"
    },
    "tags": []
   },
   "source": [
    "Esse regressor tem score de:"
   ]
  },
  {
   "cell_type": "code",
   "execution_count": 45,
   "metadata": {
    "execution": {
     "iopub.execute_input": "2020-11-03T01:05:09.097017Z",
     "iopub.status.busy": "2020-11-03T01:05:09.095721Z",
     "iopub.status.idle": "2020-11-03T01:05:09.189880Z",
     "shell.execute_reply": "2020-11-03T01:05:09.189150Z"
    },
    "papermill": {
     "duration": 0.202177,
     "end_time": "2020-11-03T01:05:09.190014",
     "exception": false,
     "start_time": "2020-11-03T01:05:08.987837",
     "status": "completed"
    },
    "tags": []
   },
   "outputs": [
    {
     "data": {
      "text/plain": [
       "0.6014587460356668"
      ]
     },
     "execution_count": 45,
     "metadata": {},
     "output_type": "execute_result"
    }
   ],
   "source": [
    "lasso_score = np.mean(cross_val_score(lasso, X_train, Y_train, cv = 10))\n",
    "lasso_score"
   ]
  },
  {
   "cell_type": "code",
   "execution_count": 46,
   "metadata": {
    "execution": {
     "iopub.execute_input": "2020-11-03T01:05:09.399636Z",
     "iopub.status.busy": "2020-11-03T01:05:09.398796Z",
     "iopub.status.idle": "2020-11-03T01:05:09.401984Z",
     "shell.execute_reply": "2020-11-03T01:05:09.401342Z"
    },
    "papermill": {
     "duration": 0.110794,
     "end_time": "2020-11-03T01:05:09.402112",
     "exception": false,
     "start_time": "2020-11-03T01:05:09.291318",
     "status": "completed"
    },
    "tags": []
   },
   "outputs": [],
   "source": [
    "grid_params_lasso = {\"alpha\":np.linspace(0.5,5.5,51).tolist(),\"normalize\":[True,False]}\n",
    "grid_lasso = GridSearchCV(lasso,grid_params_lasso,cv=10,scoring=scorer)"
   ]
  },
  {
   "cell_type": "code",
   "execution_count": 47,
   "metadata": {
    "execution": {
     "iopub.execute_input": "2020-11-03T01:05:09.610331Z",
     "iopub.status.busy": "2020-11-03T01:05:09.609470Z",
     "iopub.status.idle": "2020-11-03T01:05:17.931061Z",
     "shell.execute_reply": "2020-11-03T01:05:17.930415Z"
    },
    "papermill": {
     "duration": 8.428663,
     "end_time": "2020-11-03T01:05:17.931188",
     "exception": false,
     "start_time": "2020-11-03T01:05:09.502525",
     "status": "completed"
    },
    "tags": []
   },
   "outputs": [
    {
     "name": "stdout",
     "output_type": "stream",
     "text": [
      "Lasso(alpha=4.4, normalize=True)\n"
     ]
    }
   ],
   "source": [
    "grid_lasso.fit(X_train, Y_train)\n",
    "print(grid_lasso.best_estimator_)"
   ]
  },
  {
   "cell_type": "markdown",
   "metadata": {
    "papermill": {
     "duration": 0.10113,
     "end_time": "2020-11-03T01:05:18.133496",
     "exception": false,
     "start_time": "2020-11-03T01:05:18.032366",
     "status": "completed"
    },
    "tags": []
   },
   "source": [
    "Portanto temos:"
   ]
  },
  {
   "cell_type": "code",
   "execution_count": 48,
   "metadata": {
    "execution": {
     "iopub.execute_input": "2020-11-03T01:05:18.342497Z",
     "iopub.status.busy": "2020-11-03T01:05:18.341613Z",
     "iopub.status.idle": "2020-11-03T01:05:18.355877Z",
     "shell.execute_reply": "2020-11-03T01:05:18.355182Z"
    },
    "papermill": {
     "duration": 0.121153,
     "end_time": "2020-11-03T01:05:18.356009",
     "exception": false,
     "start_time": "2020-11-03T01:05:18.234856",
     "status": "completed"
    },
    "tags": []
   },
   "outputs": [
    {
     "name": "stdout",
     "output_type": "stream",
     "text": [
      "RMSLE: 0.37608688161579906\n"
     ]
    }
   ],
   "source": [
    "lasso = grid_lasso.best_estimator_\n",
    "lasso.fit(X_train, Y_train)\n",
    "Y_pred = lasso.predict(X_test)\n",
    "lasso_RMSLE = rmsle(Y_pred, Y_test)\n",
    "print(\"RMSLE:\", lasso_RMSLE)"
   ]
  },
  {
   "cell_type": "markdown",
   "metadata": {
    "papermill": {
     "duration": 0.102262,
     "end_time": "2020-11-03T01:05:18.561278",
     "exception": false,
     "start_time": "2020-11-03T01:05:18.459016",
     "status": "completed"
    },
    "tags": []
   },
   "source": [
    "# 6. Exportação das predições:"
   ]
  },
  {
   "cell_type": "markdown",
   "metadata": {
    "papermill": {
     "duration": 0.10092,
     "end_time": "2020-11-03T01:05:18.763740",
     "exception": false,
     "start_time": "2020-11-03T01:05:18.662820",
     "status": "completed"
    },
    "tags": []
   },
   "source": [
    "Devemos escolher o modelo que apresentou menor RMSLE, mas que ainda tenha um score razoável. Temos a seguinte tabela:"
   ]
  },
  {
   "cell_type": "code",
   "execution_count": 49,
   "metadata": {
    "execution": {
     "iopub.execute_input": "2020-11-03T01:05:18.980826Z",
     "iopub.status.busy": "2020-11-03T01:05:18.979794Z",
     "iopub.status.idle": "2020-11-03T01:05:18.984875Z",
     "shell.execute_reply": "2020-11-03T01:05:18.983945Z"
    },
    "papermill": {
     "duration": 0.118872,
     "end_time": "2020-11-03T01:05:18.985055",
     "exception": false,
     "start_time": "2020-11-03T01:05:18.866183",
     "status": "completed"
    },
    "tags": []
   },
   "outputs": [
    {
     "name": "stdout",
     "output_type": "stream",
     "text": [
      "  Regressor     RMSLE     Score\n",
      "0        LR  0.391283  0.598620\n",
      "1       kNN  0.325357  0.632101\n",
      "2     Ridge  0.375928  0.610585\n",
      "3     LASSO  0.376087  0.601459\n"
     ]
    }
   ],
   "source": [
    "resultados = {\"Regressor\": [\"LR\", \"kNN\", \"Ridge\", \"LASSO\"],\"RMSLE\":[LR_RMSLE, knn_RMSLE, ridge_RMSLE, lasso_RMSLE], \"Score\":[LR_score, knn_score, ridge_score, lasso_score]}\n",
    "table = pd.DataFrame(resultados, columns =  [\"Regressor\", \"RMSLE\", \"Score\"])\n",
    "print(table)"
   ]
  },
  {
   "cell_type": "markdown",
   "metadata": {
    "papermill": {
     "duration": 0.102886,
     "end_time": "2020-11-03T01:05:19.190566",
     "exception": false,
     "start_time": "2020-11-03T01:05:19.087680",
     "status": "completed"
    },
    "tags": []
   },
   "source": [
    "Logo, vemos que o regressor kNN é o que apresentou menor RMSLE e maior Score, o que não é de surpreender. A regressão kNN é baseada em otimizar o hiperparâmetro k para conseguir o menor RMSE e, consequentemente, o menor RMSLE."
   ]
  },
  {
   "cell_type": "markdown",
   "metadata": {
    "papermill": {
     "duration": 0.102541,
     "end_time": "2020-11-03T01:05:19.395559",
     "exception": false,
     "start_time": "2020-11-03T01:05:19.293018",
     "status": "completed"
    },
    "tags": []
   },
   "source": [
    "Treinando-o para a base de dados:"
   ]
  },
  {
   "cell_type": "code",
   "execution_count": 50,
   "metadata": {
    "execution": {
     "iopub.execute_input": "2020-11-03T01:05:19.606467Z",
     "iopub.status.busy": "2020-11-03T01:05:19.605623Z",
     "iopub.status.idle": "2020-11-03T01:05:19.623801Z",
     "shell.execute_reply": "2020-11-03T01:05:19.623168Z"
    },
    "papermill": {
     "duration": 0.125819,
     "end_time": "2020-11-03T01:05:19.623941",
     "exception": false,
     "start_time": "2020-11-03T01:05:19.498122",
     "status": "completed"
    },
    "tags": []
   },
   "outputs": [
    {
     "data": {
      "text/plain": [
       "KNeighborsRegressor(n_neighbors=17, p=1, weights='distance')"
      ]
     },
     "execution_count": 50,
     "metadata": {},
     "output_type": "execute_result"
    }
   ],
   "source": [
    "knn.fit(X_train, Y_train)"
   ]
  },
  {
   "cell_type": "markdown",
   "metadata": {
    "papermill": {
     "duration": 0.10281,
     "end_time": "2020-11-03T01:05:19.828829",
     "exception": false,
     "start_time": "2020-11-03T01:05:19.726019",
     "status": "completed"
    },
    "tags": []
   },
   "source": [
    "Agora, devemos criar um arquivo csv com as predições para a base de teste, no formato pedido:"
   ]
  },
  {
   "cell_type": "code",
   "execution_count": 51,
   "metadata": {
    "execution": {
     "iopub.execute_input": "2020-11-03T01:05:20.043459Z",
     "iopub.status.busy": "2020-11-03T01:05:20.042628Z",
     "iopub.status.idle": "2020-11-03T01:05:20.905035Z",
     "shell.execute_reply": "2020-11-03T01:05:20.903240Z"
    },
    "papermill": {
     "duration": 0.973007,
     "end_time": "2020-11-03T01:05:20.905189",
     "exception": false,
     "start_time": "2020-11-03T01:05:19.932182",
     "status": "completed"
    },
    "tags": []
   },
   "outputs": [],
   "source": [
    "YtestPred = knn.predict(test)\n",
    "predict = pd.DataFrame(testId)\n",
    "predict[\"median_house_value\"] = YtestPred\n",
    "predict.to_csv(\"pred_knn.csv\", index = False, index_label = 'Id')"
   ]
  }
 ],
 "metadata": {
  "kernelspec": {
   "display_name": "Python 3",
   "language": "python",
   "name": "python3"
  },
  "language_info": {
   "codemirror_mode": {
    "name": "ipython",
    "version": 3
   },
   "file_extension": ".py",
   "mimetype": "text/x-python",
   "name": "python",
   "nbconvert_exporter": "python",
   "pygments_lexer": "ipython3",
   "version": "3.7.6"
  },
  "papermill": {
   "duration": 170.610369,
   "end_time": "2020-11-03T01:05:21.122577",
   "environment_variables": {},
   "exception": null,
   "input_path": "__notebook__.ipynb",
   "output_path": "__notebook__.ipynb",
   "parameters": {},
   "start_time": "2020-11-03T01:02:30.512208",
   "version": "2.1.0"
  }
 },
 "nbformat": 4,
 "nbformat_minor": 4
}
